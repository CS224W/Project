{
 "cells": [
  {
   "cell_type": "code",
   "execution_count": 135,
   "metadata": {
    "collapsed": true
   },
   "outputs": [],
   "source": [
    "import pandas as pd\n",
    "import os\n",
    "import ujson, re\n",
    "import numpy as np"
   ]
  },
  {
   "cell_type": "code",
   "execution_count": 11,
   "metadata": {
    "collapsed": true
   },
   "outputs": [],
   "source": [
    "from src.constants import STORE_LOCATION\n",
    "from operator import itemgetter"
   ]
  },
  {
   "cell_type": "code",
   "execution_count": null,
   "metadata": {
    "collapsed": false
   },
   "outputs": [],
   "source": []
  },
  {
   "cell_type": "code",
   "execution_count": 5,
   "metadata": {
    "collapsed": true
   },
   "outputs": [],
   "source": [
    "train_df = pd.read_csv(os.path.join(STORE_LOCATION, 'train.csv'))"
   ]
  },
  {
   "cell_type": "code",
   "execution_count": 6,
   "metadata": {
    "collapsed": true
   },
   "outputs": [],
   "source": [
    "test_df = pd.read_csv(os.path.join(STORE_LOCATION, 'test.csv'))"
   ]
  },
  {
   "cell_type": "code",
   "execution_count": null,
   "metadata": {
    "collapsed": true
   },
   "outputs": [],
   "source": []
  },
  {
   "cell_type": "markdown",
   "metadata": {},
   "source": [
    "## Accuracy"
   ]
  },
  {
   "cell_type": "code",
   "execution_count": 10,
   "metadata": {
    "collapsed": false
   },
   "outputs": [
    {
     "data": {
      "text/html": [
       "<div>\n",
       "<table border=\"1\" class=\"dataframe\">\n",
       "  <thead>\n",
       "    <tr style=\"text-align: right;\">\n",
       "      <th></th>\n",
       "      <th>QuestionId</th>\n",
       "      <th>AcceptedAnswerUserId</th>\n",
       "      <th>AnswerCreationDate</th>\n",
       "      <th>UsersSorted</th>\n",
       "      <th>UsersJaccard</th>\n",
       "    </tr>\n",
       "  </thead>\n",
       "  <tbody>\n",
       "    <tr>\n",
       "      <th>0</th>\n",
       "      <td>5.0</td>\n",
       "      <td>45.0</td>\n",
       "      <td>2010-07-20 19:21:52.240</td>\n",
       "      <td>[45.0, 1102.0, 48.0, 226.0, 242.0]</td>\n",
       "      <td>{48.0: 0.5714285714285714, 242.0: 0.0135135135...</td>\n",
       "    </tr>\n",
       "    <tr>\n",
       "      <th>1</th>\n",
       "      <td>1.0</td>\n",
       "      <td>8.0</td>\n",
       "      <td>2010-07-20 19:22:20.193</td>\n",
       "      <td>[8.0, 49.0, 25.0, 35.0, 39.0]</td>\n",
       "      <td>{8.0: 0.042253521126760563, 49.0: 0.5999999999...</td>\n",
       "    </tr>\n",
       "    <tr>\n",
       "      <th>2</th>\n",
       "      <td>8.0</td>\n",
       "      <td>38.0</td>\n",
       "      <td>2010-07-20 19:23:54.230</td>\n",
       "      <td>[38.0, 173.0, 334.0, 53.0, 55.0]</td>\n",
       "      <td>{55.0: 0.44444444444444442, 334.0: 0.078431372...</td>\n",
       "    </tr>\n",
       "    <tr>\n",
       "      <th>3</th>\n",
       "      <td>2.0</td>\n",
       "      <td>34.0</td>\n",
       "      <td>2010-07-20 19:24:52.200</td>\n",
       "      <td>[34.0, 56.0, 35.0, 190287.0, 72.0]</td>\n",
       "      <td>{56.0: 0.071428571428571425, 72.0: 0.020689655...</td>\n",
       "    </tr>\n",
       "    <tr>\n",
       "      <th>4</th>\n",
       "      <td>20.0</td>\n",
       "      <td>38.0</td>\n",
       "      <td>2010-07-20 19:32:21.590</td>\n",
       "      <td>[38.0, 72.0, 232.0, 51.0, 210.0]</td>\n",
       "      <td>{72.0: 0.020689655172413793, 232.0: 0.00612244...</td>\n",
       "    </tr>\n",
       "  </tbody>\n",
       "</table>\n",
       "</div>"
      ],
      "text/plain": [
       "   QuestionId  AcceptedAnswerUserId       AnswerCreationDate  \\\n",
       "0         5.0                  45.0  2010-07-20 19:21:52.240   \n",
       "1         1.0                   8.0  2010-07-20 19:22:20.193   \n",
       "2         8.0                  38.0  2010-07-20 19:23:54.230   \n",
       "3         2.0                  34.0  2010-07-20 19:24:52.200   \n",
       "4        20.0                  38.0  2010-07-20 19:32:21.590   \n",
       "\n",
       "                          UsersSorted  \\\n",
       "0  [45.0, 1102.0, 48.0, 226.0, 242.0]   \n",
       "1       [8.0, 49.0, 25.0, 35.0, 39.0]   \n",
       "2    [38.0, 173.0, 334.0, 53.0, 55.0]   \n",
       "3  [34.0, 56.0, 35.0, 190287.0, 72.0]   \n",
       "4    [38.0, 72.0, 232.0, 51.0, 210.0]   \n",
       "\n",
       "                                        UsersJaccard  \n",
       "0  {48.0: 0.5714285714285714, 242.0: 0.0135135135...  \n",
       "1  {8.0: 0.042253521126760563, 49.0: 0.5999999999...  \n",
       "2  {55.0: 0.44444444444444442, 334.0: 0.078431372...  \n",
       "3  {56.0: 0.071428571428571425, 72.0: 0.020689655...  \n",
       "4  {72.0: 0.020689655172413793, 232.0: 0.00612244...  "
      ]
     },
     "execution_count": 10,
     "metadata": {},
     "output_type": "execute_result"
    }
   ],
   "source": [
    "train_df.head()"
   ]
  },
  {
   "cell_type": "code",
   "execution_count": 91,
   "metadata": {
    "collapsed": true
   },
   "outputs": [],
   "source": [
    "def get_user_js_vals(jc):\n",
    "    return re.findall(r'[{]*(\\d+).0: (\\d+[.]{0,1}\\d*)[,}]', jc)"
   ]
  },
  {
   "cell_type": "code",
   "execution_count": 100,
   "metadata": {
    "collapsed": true
   },
   "outputs": [],
   "source": [
    "def get_sorted_jc(row):\n",
    "    user_js = row.UsersJaccard\n",
    "    user_js_vals = get_user_js_vals(user_js)\n",
    "    \n",
    "    user_js_int = map(lambda x: (float(x[0]), float(x[1])), user_js_vals)\n",
    "    user_js_sorted = sorted(user_js_int, key=itemgetter(1), reverse=True)\n",
    "    \n",
    "    return user_js_sorted"
   ]
  },
  {
   "cell_type": "code",
   "execution_count": 101,
   "metadata": {
    "collapsed": true
   },
   "outputs": [],
   "source": [
    "def get_best_user_jc(row):\n",
    "    user_js_sorted = get_sorted_jc(row)\n",
    "    return user_js_sorted[0][0]"
   ]
  },
  {
   "cell_type": "code",
   "execution_count": null,
   "metadata": {
    "collapsed": true
   },
   "outputs": [],
   "source": []
  },
  {
   "cell_type": "code",
   "execution_count": 157,
   "metadata": {
    "collapsed": true
   },
   "outputs": [],
   "source": [
    "def get_accuracy(df):\n",
    "    tt = df.apply(get_best_user_jc, axis=1)\n",
    "    acc = (df.AcceptedAnswerUserId.values == tt).sum() * 1./ df.shape[0]\n",
    "    \n",
    "    return acc"
   ]
  },
  {
   "cell_type": "code",
   "execution_count": 158,
   "metadata": {
    "collapsed": false
   },
   "outputs": [
    {
     "name": "stdout",
     "output_type": "stream",
     "text": [
      "0.0358318561661 0.0581283164496\n"
     ]
    }
   ],
   "source": [
    "print get_accuracy(train_df), get_accuracy(test_df)"
   ]
  },
  {
   "cell_type": "code",
   "execution_count": null,
   "metadata": {
    "collapsed": true
   },
   "outputs": [],
   "source": []
  },
  {
   "cell_type": "markdown",
   "metadata": {},
   "source": [
    "## MRR"
   ]
  },
  {
   "cell_type": "code",
   "execution_count": 108,
   "metadata": {
    "collapsed": true
   },
   "outputs": [],
   "source": [
    "def get_ranked_user_jc(row):\n",
    "    user_js_sorted = get_sorted_jc(row)\n",
    "    return map(lambda x: x[0], user_js_sorted)"
   ]
  },
  {
   "cell_type": "code",
   "execution_count": 155,
   "metadata": {
    "collapsed": true
   },
   "outputs": [],
   "source": [
    "def get_mrr(df):\n",
    "    tt = df.apply(get_ranked_user_jc, axis=1).values\n",
    "    ttt = tt - df.AcceptedAnswerUserId.values.reshape(df.AcceptedAnswerUserId.values.shape[0], 1)\n",
    "    tttt = np.where(ttt==0)[1] + 1\n",
    "\n",
    "    return np.sum(1./tttt) / df.shape[0]"
   ]
  },
  {
   "cell_type": "code",
   "execution_count": 156,
   "metadata": {
    "collapsed": false,
    "scrolled": true
   },
   "outputs": [
    {
     "name": "stdout",
     "output_type": "stream",
     "text": [
      "0.302688444332 0.34449670365\n"
     ]
    }
   ],
   "source": [
    "print get_mrr(train_df), get_mrr(test_df)"
   ]
  },
  {
   "cell_type": "code",
   "execution_count": null,
   "metadata": {
    "collapsed": true
   },
   "outputs": [],
   "source": []
  },
  {
   "cell_type": "code",
   "execution_count": null,
   "metadata": {
    "collapsed": true
   },
   "outputs": [],
   "source": []
  },
  {
   "cell_type": "code",
   "execution_count": null,
   "metadata": {
    "collapsed": true
   },
   "outputs": [],
   "source": []
  }
 ],
 "metadata": {
  "kernelspec": {
   "display_name": "Python 2",
   "language": "python",
   "name": "python2"
  },
  "language_info": {
   "codemirror_mode": {
    "name": "ipython",
    "version": 2
   },
   "file_extension": ".py",
   "mimetype": "text/x-python",
   "name": "python",
   "nbconvert_exporter": "python",
   "pygments_lexer": "ipython2",
   "version": "2.7.12"
  }
 },
 "nbformat": 4,
 "nbformat_minor": 0
}
