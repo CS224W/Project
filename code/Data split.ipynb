{
 "cells": [
  {
   "cell_type": "code",
   "execution_count": 2,
   "metadata": {
    "collapsed": false
   },
   "outputs": [],
   "source": [
    "%load_ext autoreload\n",
    "%autoreload 2"
   ]
  },
  {
   "cell_type": "code",
   "execution_count": 87,
   "metadata": {
    "collapsed": false
   },
   "outputs": [],
   "source": [
    "import os\n",
    "import pandas as pd\n",
    "import itertools\n",
    "import numpy as np\n",
    "import sys\n",
    "\n",
    "from operator import itemgetter\n",
    "from collections import Counter, defaultdict\n",
    "from sklearn.feature_extraction.text import CountVectorizer\n",
    "from sklearn.feature_extraction import DictVectorizer\n",
    "from dateutil.parser import parse as dt_parse\n",
    "from src.DataReader import DataReader\n",
    "from src.constants import SPLIT_TIME, STORE_LOCATION, DATA_ROOT, POSTS_FILE, VOTES_FILE"
   ]
  },
  {
   "cell_type": "code",
   "execution_count": null,
   "metadata": {
    "collapsed": true
   },
   "outputs": [],
   "source": []
  },
  {
   "cell_type": "code",
   "execution_count": 4,
   "metadata": {
    "collapsed": true
   },
   "outputs": [],
   "source": [
    "data_directory = DATA_ROOT"
   ]
  },
  {
   "cell_type": "code",
   "execution_count": 5,
   "metadata": {
    "collapsed": false
   },
   "outputs": [
    {
     "name": "stdout",
     "output_type": "stream",
     "text": [
      "Reading file...\n",
      "Converting...\n",
      "Progress | ██████████ | 100% || Estimated time remaining: 0.0 seconds\n",
      "Conversion complete...\n",
      "Forming data frame...\n"
     ]
    }
   ],
   "source": [
    "post_reader = DataReader(os.path.join(data_directory, POSTS_FILE), True)\n",
    "post_reader.read_data()"
   ]
  },
  {
   "cell_type": "code",
   "execution_count": 6,
   "metadata": {
    "collapsed": false,
    "scrolled": true
   },
   "outputs": [],
   "source": [
    "pdf = post_reader._df"
   ]
  },
  {
   "cell_type": "code",
   "execution_count": null,
   "metadata": {
    "collapsed": true
   },
   "outputs": [],
   "source": []
  },
  {
   "cell_type": "code",
   "execution_count": 7,
   "metadata": {
    "collapsed": false
   },
   "outputs": [
    {
     "name": "stdout",
     "output_type": "stream",
     "text": [
      "Reading file...\n",
      "Converting...\n",
      "Progress | █████████- | 90% || Estimated time remaining: 113.0 seconds\n",
      "Conversion complete...\n",
      "Forming data frame...\n"
     ]
    }
   ],
   "source": [
    "vote_reader = DataReader(os.path.join(data_directory, VOTES_FILE), True)\n",
    "vote_reader.read_data()"
   ]
  },
  {
   "cell_type": "code",
   "execution_count": 8,
   "metadata": {
    "collapsed": false,
    "scrolled": true
   },
   "outputs": [],
   "source": [
    "vdf = vote_reader._df\n",
    "accepted_votes = vdf[vdf.VoteTypeId==1]"
   ]
  },
  {
   "cell_type": "code",
   "execution_count": null,
   "metadata": {
    "collapsed": true
   },
   "outputs": [],
   "source": []
  },
  {
   "cell_type": "code",
   "execution_count": null,
   "metadata": {
    "collapsed": true
   },
   "outputs": [],
   "source": []
  },
  {
   "cell_type": "markdown",
   "metadata": {},
   "source": [
    "### Filter questions to ones that have > 3 answers *AND* an accepted answer"
   ]
  },
  {
   "cell_type": "code",
   "execution_count": 9,
   "metadata": {
    "collapsed": false
   },
   "outputs": [
    {
     "name": "stdout",
     "output_type": "stream",
     "text": [
      "22067\n"
     ]
    }
   ],
   "source": [
    "q_many_ans = pdf.Id[pdf.AnswerCount > 3]\n",
    "q_has_tags = pdf.Id[pdf.Tags.notnull()]\n",
    "q_acc_ans = pdf.Id[pdf.AcceptedAnswerId.notnull()]\n",
    "\n",
    "q_ids = (set(q_many_ans) & set(q_acc_ans.values) & set(q_has_tags))\n",
    "\n",
    "print len(q_ids)"
   ]
  },
  {
   "cell_type": "code",
   "execution_count": 10,
   "metadata": {
    "collapsed": true
   },
   "outputs": [],
   "source": [
    "ans_df = pdf[pdf.ParentId.isin(q_ids) & pdf.OwnerUserId.notnull()]"
   ]
  },
  {
   "cell_type": "code",
   "execution_count": 11,
   "metadata": {
    "collapsed": true
   },
   "outputs": [],
   "source": [
    "ans_vote_df = ans_df.merge(accepted_votes, how='left', left_on='Id', right_on='PostId', suffixes=('', '_vt'))"
   ]
  },
  {
   "cell_type": "code",
   "execution_count": 12,
   "metadata": {
    "collapsed": true
   },
   "outputs": [],
   "source": [
    "q_acc_user = ans_vote_df[['ParentId', 'OwnerUserId', 'CreationDate']][ans_vote_df.VoteTypeId==1]"
   ]
  },
  {
   "cell_type": "code",
   "execution_count": 13,
   "metadata": {
    "collapsed": false
   },
   "outputs": [
    {
     "data": {
      "text/plain": [
       "(Timestamp('2010-07-20 19:21:52.240000'),\n",
       " Timestamp('2016-09-03 22:38:17.880000'))"
      ]
     },
     "execution_count": 13,
     "metadata": {},
     "output_type": "execute_result"
    }
   ],
   "source": [
    "min(q_acc_user.CreationDate), max(q_acc_user.CreationDate)"
   ]
  },
  {
   "cell_type": "code",
   "execution_count": null,
   "metadata": {
    "collapsed": true
   },
   "outputs": [],
   "source": []
  },
  {
   "cell_type": "markdown",
   "metadata": {},
   "source": [
    "### Add ranked users by score"
   ]
  },
  {
   "cell_type": "code",
   "execution_count": 14,
   "metadata": {
    "collapsed": false
   },
   "outputs": [],
   "source": [
    "def get_scored_users(grp):\n",
    "    scr_users = grp[['OwnerUserId', 'Score']].set_index(['OwnerUserId']).to_dict()\n",
    "    return scr_users['Score']"
   ]
  },
  {
   "cell_type": "code",
   "execution_count": 15,
   "metadata": {
    "collapsed": false
   },
   "outputs": [],
   "source": [
    "ans_grps = ans_vote_df.groupby(['ParentId'])"
   ]
  },
  {
   "cell_type": "code",
   "execution_count": 16,
   "metadata": {
    "collapsed": false
   },
   "outputs": [],
   "source": [
    "scored_users = ans_grps.apply(get_scored_users)"
   ]
  },
  {
   "cell_type": "code",
   "execution_count": 17,
   "metadata": {
    "collapsed": false
   },
   "outputs": [],
   "source": [
    "scored_users_df = pd.DataFrame(scored_users)"
   ]
  },
  {
   "cell_type": "code",
   "execution_count": 18,
   "metadata": {
    "collapsed": false
   },
   "outputs": [],
   "source": [
    "q_acc_user = q_acc_user.merge(scored_users_df, how='left', left_on='ParentId', right_index=True)"
   ]
  },
  {
   "cell_type": "code",
   "execution_count": 23,
   "metadata": {
    "collapsed": false,
    "scrolled": true
   },
   "outputs": [],
   "source": [
    "q_acc_user = q_acc_user.reset_index()"
   ]
  },
  {
   "cell_type": "code",
   "execution_count": 24,
   "metadata": {
    "collapsed": false
   },
   "outputs": [
    {
     "data": {
      "text/html": [
       "<div>\n",
       "<table border=\"1\" class=\"dataframe\">\n",
       "  <thead>\n",
       "    <tr style=\"text-align: right;\">\n",
       "      <th></th>\n",
       "      <th>index</th>\n",
       "      <th>ParentId</th>\n",
       "      <th>OwnerUserId</th>\n",
       "      <th>CreationDate</th>\n",
       "      <th>0</th>\n",
       "    </tr>\n",
       "  </thead>\n",
       "  <tbody>\n",
       "    <tr>\n",
       "      <th>0</th>\n",
       "      <td>0</td>\n",
       "      <td>5.0</td>\n",
       "      <td>45.0</td>\n",
       "      <td>2010-07-20 19:21:52.240</td>\n",
       "      <td>{226.0: 16, 45.0: 58, 1102.0: 20, 48.0: 17, 24...</td>\n",
       "    </tr>\n",
       "    <tr>\n",
       "      <th>1</th>\n",
       "      <td>1</td>\n",
       "      <td>1.0</td>\n",
       "      <td>8.0</td>\n",
       "      <td>2010-07-20 19:22:20.193</td>\n",
       "      <td>{33.0: -1, 35.0: 5, 39.0: 4, 8.0: 117, 117203....</td>\n",
       "    </tr>\n",
       "    <tr>\n",
       "      <th>2</th>\n",
       "      <td>6</td>\n",
       "      <td>8.0</td>\n",
       "      <td>38.0</td>\n",
       "      <td>2010-07-20 19:23:54.230</td>\n",
       "      <td>{160.0: 2, 38.0: 16, 78024.0: 1, 173.0: 20, 33...</td>\n",
       "    </tr>\n",
       "    <tr>\n",
       "      <th>3</th>\n",
       "      <td>7</td>\n",
       "      <td>2.0</td>\n",
       "      <td>34.0</td>\n",
       "      <td>2010-07-20 19:24:52.200</td>\n",
       "      <td>{34.0: 26, 99.0: 2, 198.0: 4, 72.0: 5, 174221....</td>\n",
       "    </tr>\n",
       "    <tr>\n",
       "      <th>4</th>\n",
       "      <td>16</td>\n",
       "      <td>20.0</td>\n",
       "      <td>38.0</td>\n",
       "      <td>2010-07-20 19:32:21.590</td>\n",
       "      <td>{38.0: 11, 72.0: 21, 400.0: 0, 232.0: 15, 210....</td>\n",
       "    </tr>\n",
       "  </tbody>\n",
       "</table>\n",
       "</div>"
      ],
      "text/plain": [
       "   index  ParentId  OwnerUserId            CreationDate  \\\n",
       "0      0       5.0         45.0 2010-07-20 19:21:52.240   \n",
       "1      1       1.0          8.0 2010-07-20 19:22:20.193   \n",
       "2      6       8.0         38.0 2010-07-20 19:23:54.230   \n",
       "3      7       2.0         34.0 2010-07-20 19:24:52.200   \n",
       "4     16      20.0         38.0 2010-07-20 19:32:21.590   \n",
       "\n",
       "                                                   0  \n",
       "0  {226.0: 16, 45.0: 58, 1102.0: 20, 48.0: 17, 24...  \n",
       "1  {33.0: -1, 35.0: 5, 39.0: 4, 8.0: 117, 117203....  \n",
       "2  {160.0: 2, 38.0: 16, 78024.0: 1, 173.0: 20, 33...  \n",
       "3  {34.0: 26, 99.0: 2, 198.0: 4, 72.0: 5, 174221....  \n",
       "4  {38.0: 11, 72.0: 21, 400.0: 0, 232.0: 15, 210....  "
      ]
     },
     "execution_count": 24,
     "metadata": {},
     "output_type": "execute_result"
    }
   ],
   "source": [
    "q_acc_user.head()"
   ]
  },
  {
   "cell_type": "code",
   "execution_count": 25,
   "metadata": {
    "collapsed": false
   },
   "outputs": [],
   "source": [
    "# train_df = train_df.merge(scored_users_df, how='left', left_on='ParentId', right_index=True)\n",
    "\n",
    "# test_df = test_df.merge(scored_users_df, how='left', left_on='ParentId', right_index=True)"
   ]
  },
  {
   "cell_type": "code",
   "execution_count": null,
   "metadata": {
    "collapsed": true
   },
   "outputs": [],
   "source": []
  },
  {
   "cell_type": "markdown",
   "metadata": {},
   "source": [
    "### Add candidates using jaccard"
   ]
  },
  {
   "cell_type": "code",
   "execution_count": 26,
   "metadata": {
    "collapsed": true
   },
   "outputs": [],
   "source": [
    "pdf_train = pdf[pdf.CreationDate <= dt_parse(SPLIT_TIME)]"
   ]
  },
  {
   "cell_type": "code",
   "execution_count": 27,
   "metadata": {
    "collapsed": true
   },
   "outputs": [],
   "source": [
    "users_pdf = pdf_train[(pdf_train.OwnerUserId.notnull()) & (pdf_train.PostTypeId==2) ][['OwnerUserId', 'ParentId']]"
   ]
  },
  {
   "cell_type": "code",
   "execution_count": 28,
   "metadata": {
    "collapsed": false
   },
   "outputs": [],
   "source": [
    "q_tags_df = pdf[pdf.PostTypeId==1][['Tags', 'Id']]"
   ]
  },
  {
   "cell_type": "code",
   "execution_count": 29,
   "metadata": {
    "collapsed": false
   },
   "outputs": [],
   "source": [
    "user_tag_df = users_pdf.merge(q_tags_df, how='left', left_on='ParentId', right_on='Id', suffixes=('_us', '_pt'))"
   ]
  },
  {
   "cell_type": "code",
   "execution_count": 30,
   "metadata": {
    "collapsed": false
   },
   "outputs": [],
   "source": [
    "user_grps = user_tag_df.groupby(['OwnerUserId'])"
   ]
  },
  {
   "cell_type": "code",
   "execution_count": 31,
   "metadata": {
    "collapsed": true
   },
   "outputs": [],
   "source": [
    "def get_user_tags(grp):\n",
    "    grp_tgs = grp.Tags[grp.Tags.notnull()]\n",
    "    return set(itertools.chain.from_iterable(grp_tgs))"
   ]
  },
  {
   "cell_type": "code",
   "execution_count": 32,
   "metadata": {
    "collapsed": false
   },
   "outputs": [],
   "source": [
    "user_tags = user_grps.apply(get_user_tags)"
   ]
  },
  {
   "cell_type": "code",
   "execution_count": 33,
   "metadata": {
    "collapsed": false
   },
   "outputs": [],
   "source": [
    "user_tags_df = pd.DataFrame(user_tags, columns=['Tags']).reset_index()"
   ]
  },
  {
   "cell_type": "code",
   "execution_count": 34,
   "metadata": {
    "collapsed": false
   },
   "outputs": [],
   "source": [
    "u_tag_vals = get_user_tags(user_tags_df)"
   ]
  },
  {
   "cell_type": "code",
   "execution_count": null,
   "metadata": {
    "collapsed": true
   },
   "outputs": [],
   "source": []
  },
  {
   "cell_type": "code",
   "execution_count": 36,
   "metadata": {
    "collapsed": false
   },
   "outputs": [
    {
     "name": "stdout",
     "output_type": "stream",
     "text": [
      "(652128,) (652128, 1436)\n"
     ]
    }
   ],
   "source": [
    "q_tag_cnt = q_tags_df.Tags.apply(lambda x: Counter(x))\n",
    "vectorizer = DictVectorizer()\n",
    "q_tag_arr = vectorizer.fit_transform(q_tag_cnt.values)\n",
    "\n",
    "print q_tag_cnt.shape, q_tag_arr.shape"
   ]
  },
  {
   "cell_type": "code",
   "execution_count": 37,
   "metadata": {
    "collapsed": false
   },
   "outputs": [
    {
     "name": "stdout",
     "output_type": "stream",
     "text": [
      "(31834,) (31834, 1436)\n"
     ]
    }
   ],
   "source": [
    "user_tag_cnt = user_tags_df.Tags.apply(lambda x: Counter(x))\n",
    "user_tag_arr = vectorizer.transform(user_tag_cnt.values)\n",
    "\n",
    "print user_tag_cnt.shape, user_tag_arr.shape"
   ]
  },
  {
   "cell_type": "code",
   "execution_count": 38,
   "metadata": {
    "collapsed": false
   },
   "outputs": [
    {
     "name": "stdout",
     "output_type": "stream",
     "text": [
      "(21338,) (21338, 1436)\n"
     ]
    }
   ],
   "source": [
    "q_acc_user_w_tags = q_acc_user.merge(q_tags_df, how='left', left_on='ParentId', right_on='Id', suffixes=('_qu', '_pt'))\n",
    "\n",
    "q_acc_user_tag_cnt = q_acc_user_w_tags.Tags.apply(lambda x: Counter(x))\n",
    "q_acc_user_tag_arr = vectorizer.transform(q_acc_user_tag_cnt.values)\n",
    "\n",
    "print q_acc_user_tag_cnt.shape, q_acc_user_tag_arr.shape"
   ]
  },
  {
   "cell_type": "code",
   "execution_count": 40,
   "metadata": {
    "collapsed": false
   },
   "outputs": [],
   "source": [
    "q_u_dot = q_acc_user_tag_arr.dot(user_tag_arr.T).toarray()"
   ]
  },
  {
   "cell_type": "code",
   "execution_count": 41,
   "metadata": {
    "collapsed": false
   },
   "outputs": [
    {
     "name": "stdout",
     "output_type": "stream",
     "text": [
      "Starting jc...\n",
      "....................."
     ]
    }
   ],
   "source": [
    "user_tag_arr_exp = user_tag_arr.toarray()\n",
    "q_acc_user_tag_arr_exp = q_acc_user_tag_arr.toarray()\n",
    "\n",
    "print 'Starting jc...'\n",
    "\n",
    "for row_it in range(q_acc_user_tag_arr.shape[0]):\n",
    "    q_tag_arr_row = q_acc_user_tag_arr_exp[row_it]\n",
    "    q_user_tag_union = np.logical_or(user_tag_arr_exp, q_tag_arr_row)\n",
    "    q_u_dot[row_it] = q_u_dot[row_it] / q_user_tag_union.sum(axis=1)\n",
    "    \n",
    "    if (row_it+1)%1000==0:\n",
    "        sys.stdout.write('.')\n",
    "        sys.stdout.flush()"
   ]
  },
  {
   "cell_type": "code",
   "execution_count": null,
   "metadata": {
    "collapsed": true
   },
   "outputs": [],
   "source": []
  },
  {
   "cell_type": "code",
   "execution_count": 45,
   "metadata": {
    "collapsed": false
   },
   "outputs": [],
   "source": [
    "# np.save('data_temp/q_u_dot.npy', q_u_dot)"
   ]
  },
  {
   "cell_type": "code",
   "execution_count": 46,
   "metadata": {
    "collapsed": false
   },
   "outputs": [],
   "source": [
    "q_acc_user_w_tags['jc_scores'] = ''"
   ]
  },
  {
   "cell_type": "code",
   "execution_count": 58,
   "metadata": {
    "collapsed": false
   },
   "outputs": [
    {
     "name": "stdout",
     "output_type": "stream",
     "text": [
      "....................."
     ]
    }
   ],
   "source": [
    "jc_scores_list = []\n",
    "for indx in range(q_u_dot.shape[0]):\n",
    "    q_user_nz = np.nonzero(q_u_dot[indx])\n",
    "    jc_scores_q = q_u_dot[indx][q_user_nz[0]]\n",
    "    jc_scores_u = user_tags_df.ix[q_user_nz[0]].OwnerUserId.values\n",
    "    tmp_d_items = dict(zip(*(jc_scores_u, jc_scores_q)))\n",
    "    \n",
    "    jc_scores_list.append(tmp_d_items)\n",
    "#     q_acc_user_w_tags.ix[indx]['jc_scores'] = tmp_d_items\n",
    "    \n",
    "    \n",
    "    if (indx+1)%1000==0:\n",
    "        sys.stdout.write('.')\n",
    "        sys.stdout.flush()\n",
    "#         break"
   ]
  },
  {
   "cell_type": "code",
   "execution_count": null,
   "metadata": {
    "collapsed": true
   },
   "outputs": [],
   "source": []
  },
  {
   "cell_type": "code",
   "execution_count": null,
   "metadata": {
    "collapsed": false
   },
   "outputs": [],
   "source": []
  },
  {
   "cell_type": "code",
   "execution_count": null,
   "metadata": {
    "collapsed": true
   },
   "outputs": [],
   "source": []
  },
  {
   "cell_type": "code",
   "execution_count": 59,
   "metadata": {
    "collapsed": true
   },
   "outputs": [],
   "source": [
    "q_acc_user_w_tags['jc_scores'] = jc_scores_list"
   ]
  },
  {
   "cell_type": "code",
   "execution_count": null,
   "metadata": {
    "collapsed": true
   },
   "outputs": [],
   "source": []
  },
  {
   "cell_type": "markdown",
   "metadata": {},
   "source": [
    "### Prep final df"
   ]
  },
  {
   "cell_type": "code",
   "execution_count": 65,
   "metadata": {
    "collapsed": false,
    "scrolled": true
   },
   "outputs": [],
   "source": [
    "q_acc_user_w_tags.columns = ['index', 'QuestionId', 'AcceptedAnswerUserId', 'AnswerCreationDate', 'AllAnswerScores',\n",
    "                            'Tags', 'QId', 'JaccardScores']"
   ]
  },
  {
   "cell_type": "code",
   "execution_count": 66,
   "metadata": {
    "collapsed": false
   },
   "outputs": [
    {
     "data": {
      "text/html": [
       "<div>\n",
       "<table border=\"1\" class=\"dataframe\">\n",
       "  <thead>\n",
       "    <tr style=\"text-align: right;\">\n",
       "      <th></th>\n",
       "      <th>index</th>\n",
       "      <th>QuestionId</th>\n",
       "      <th>AcceptedAnswerUserId</th>\n",
       "      <th>AnswerCreationDate</th>\n",
       "      <th>AllAnswerScores</th>\n",
       "      <th>Tags</th>\n",
       "      <th>QId</th>\n",
       "      <th>JaccardScores</th>\n",
       "    </tr>\n",
       "  </thead>\n",
       "  <tbody>\n",
       "    <tr>\n",
       "      <th>0</th>\n",
       "      <td>0</td>\n",
       "      <td>5.0</td>\n",
       "      <td>45.0</td>\n",
       "      <td>2010-07-20 19:21:52.240</td>\n",
       "      <td>{226.0: 16, 45.0: 58, 1102.0: 20, 48.0: 17, 24...</td>\n",
       "      <td>[elementary-number-theory, proof-writing, radi...</td>\n",
       "      <td>5</td>\n",
       "      <td>{221716.0: 0.0769230769231, 238683.0: 0.166666...</td>\n",
       "    </tr>\n",
       "    <tr>\n",
       "      <th>1</th>\n",
       "      <td>1</td>\n",
       "      <td>1.0</td>\n",
       "      <td>8.0</td>\n",
       "      <td>2010-07-20 19:22:20.193</td>\n",
       "      <td>{33.0: -1, 35.0: 5, 39.0: 4, 8.0: 117, 117203....</td>\n",
       "      <td>[elementary-set-theory, intuition, faq]</td>\n",
       "      <td>1</td>\n",
       "      <td>{122882.0: 0.25, 90117.0: 0.333333333333, 1392...</td>\n",
       "    </tr>\n",
       "    <tr>\n",
       "      <th>2</th>\n",
       "      <td>6</td>\n",
       "      <td>8.0</td>\n",
       "      <td>38.0</td>\n",
       "      <td>2010-07-20 19:23:54.230</td>\n",
       "      <td>{160.0: 2, 38.0: 16, 78024.0: 1, 173.0: 20, 33...</td>\n",
       "      <td>[linear-algebra, combinatorics, generating-fun...</td>\n",
       "      <td>8</td>\n",
       "      <td>{131076.0: 0.2, 163845.0: 0.0625, 8.0: 0.01351...</td>\n",
       "    </tr>\n",
       "    <tr>\n",
       "      <th>3</th>\n",
       "      <td>7</td>\n",
       "      <td>2.0</td>\n",
       "      <td>34.0</td>\n",
       "      <td>2010-07-20 19:24:52.200</td>\n",
       "      <td>{34.0: 26, 99.0: 2, 198.0: 4, 72.0: 5, 174221....</td>\n",
       "      <td>[calculus, limits, definition]</td>\n",
       "      <td>2</td>\n",
       "      <td>{65536.0: 0.111111111111, 65537.0: 0.1, 196610...</td>\n",
       "    </tr>\n",
       "    <tr>\n",
       "      <th>4</th>\n",
       "      <td>16</td>\n",
       "      <td>20.0</td>\n",
       "      <td>38.0</td>\n",
       "      <td>2010-07-20 19:32:21.590</td>\n",
       "      <td>{38.0: 11, 72.0: 21, 400.0: 0, 232.0: 15, 210....</td>\n",
       "      <td>[terminology, definition, number-systems]</td>\n",
       "      <td>20</td>\n",
       "      <td>{8.0: 0.0277777777778, 9.0: 0.0175438596491, 1...</td>\n",
       "    </tr>\n",
       "  </tbody>\n",
       "</table>\n",
       "</div>"
      ],
      "text/plain": [
       "   index  QuestionId  AcceptedAnswerUserId      AnswerCreationDate  \\\n",
       "0      0         5.0                  45.0 2010-07-20 19:21:52.240   \n",
       "1      1         1.0                   8.0 2010-07-20 19:22:20.193   \n",
       "2      6         8.0                  38.0 2010-07-20 19:23:54.230   \n",
       "3      7         2.0                  34.0 2010-07-20 19:24:52.200   \n",
       "4     16        20.0                  38.0 2010-07-20 19:32:21.590   \n",
       "\n",
       "                                     AllAnswerScores  \\\n",
       "0  {226.0: 16, 45.0: 58, 1102.0: 20, 48.0: 17, 24...   \n",
       "1  {33.0: -1, 35.0: 5, 39.0: 4, 8.0: 117, 117203....   \n",
       "2  {160.0: 2, 38.0: 16, 78024.0: 1, 173.0: 20, 33...   \n",
       "3  {34.0: 26, 99.0: 2, 198.0: 4, 72.0: 5, 174221....   \n",
       "4  {38.0: 11, 72.0: 21, 400.0: 0, 232.0: 15, 210....   \n",
       "\n",
       "                                                Tags  QId  \\\n",
       "0  [elementary-number-theory, proof-writing, radi...    5   \n",
       "1            [elementary-set-theory, intuition, faq]    1   \n",
       "2  [linear-algebra, combinatorics, generating-fun...    8   \n",
       "3                     [calculus, limits, definition]    2   \n",
       "4          [terminology, definition, number-systems]   20   \n",
       "\n",
       "                                       JaccardScores  \n",
       "0  {221716.0: 0.0769230769231, 238683.0: 0.166666...  \n",
       "1  {122882.0: 0.25, 90117.0: 0.333333333333, 1392...  \n",
       "2  {131076.0: 0.2, 163845.0: 0.0625, 8.0: 0.01351...  \n",
       "3  {65536.0: 0.111111111111, 65537.0: 0.1, 196610...  \n",
       "4  {8.0: 0.0277777777778, 9.0: 0.0175438596491, 1...  "
      ]
     },
     "execution_count": 66,
     "metadata": {},
     "output_type": "execute_result"
    }
   ],
   "source": [
    "q_acc_user_w_tags.head()"
   ]
  },
  {
   "cell_type": "code",
   "execution_count": 109,
   "metadata": {
    "collapsed": true
   },
   "outputs": [],
   "source": [
    "def get_final_scored_users(row):\n",
    "    final_scores = defaultdict(int)\n",
    "    \n",
    "    acc_user = row.AcceptedAnswerUserId\n",
    "    \n",
    "    ans_users_scores = row.AllAnswerScores\n",
    "    \n",
    "    jc_users = row.JaccardScores\n",
    "    jc_users_sorted = sorted(jc_users.items(), key=itemgetter(1), reverse=True)[:10]\n",
    "    \n",
    "    final_scores[acc_user] = 1000000\n",
    "\n",
    "    for usr, score in ans_users_scores.items():\n",
    "        final_scores[usr] += score * 10\n",
    "        \n",
    "    for usr, jcs in jc_users_sorted:\n",
    "        final_scores[usr] += jcs\n",
    "        \n",
    "    final_scores_sorted = sorted(final_scores.items(), key=itemgetter(1), reverse=True)[:5]\n",
    "    final_users_sorted = [k for k,v in final_scores_sorted]\n",
    "    \n",
    "    final_jc = {k: jc_users.get(k, 0) for k in final_users_sorted}\n",
    "    \n",
    "    return final_users_sorted, final_jc"
   ]
  },
  {
   "cell_type": "code",
   "execution_count": 108,
   "metadata": {
    "collapsed": false
   },
   "outputs": [],
   "source": [
    "# get_final_scored_users(q_acc_user_w_tags.ix[0])"
   ]
  },
  {
   "cell_type": "code",
   "execution_count": 117,
   "metadata": {
    "collapsed": false
   },
   "outputs": [
    {
     "name": "stdout",
     "output_type": "stream",
     "text": [
      "....................."
     ]
    }
   ],
   "source": [
    "# %%timeit\n",
    "final_users_sorted_list = []\n",
    "final_jc_list = []\n",
    "\n",
    "for indx, row in q_acc_user_w_tags.iterrows():\n",
    "    final_users_sorted, final_jc = get_final_scored_users(row)\n",
    "    \n",
    "    final_users_sorted_list.append(final_users_sorted)\n",
    "    final_jc_list.append(final_jc)\n",
    "    \n",
    "    if (indx+1)%1000==0:\n",
    "        sys.stdout.write('.')\n",
    "        sys.stdout.flush()\n",
    "    \n",
    "#         break"
   ]
  },
  {
   "cell_type": "code",
   "execution_count": 120,
   "metadata": {
    "collapsed": true
   },
   "outputs": [],
   "source": [
    "q_acc_user_w_tags['UsersSorted'] = final_users_sorted_list\n",
    "q_acc_user_w_tags['UsersJaccard'] = final_jc_list"
   ]
  },
  {
   "cell_type": "code",
   "execution_count": 123,
   "metadata": {
    "collapsed": false
   },
   "outputs": [],
   "source": [
    "question_final_df = q_acc_user_w_tags[['QuestionId', 'AcceptedAnswerUserId', 'AnswerCreationDate', 'UsersSorted', 'UsersJaccard']]"
   ]
  },
  {
   "cell_type": "code",
   "execution_count": null,
   "metadata": {
    "collapsed": true
   },
   "outputs": [],
   "source": []
  },
  {
   "cell_type": "markdown",
   "metadata": {
    "collapsed": true
   },
   "source": [
    "### Split data by time"
   ]
  },
  {
   "cell_type": "code",
   "execution_count": 127,
   "metadata": {
    "collapsed": false
   },
   "outputs": [
    {
     "name": "stdout",
     "output_type": "stream",
     "text": [
      "(15796, 5) (4146, 5)\n"
     ]
    }
   ],
   "source": [
    "train_df = question_final_df[question_final_df.AnswerCreationDate < dt_parse(SPLIT_TIME)]\n",
    "\n",
    "test_df = question_final_df[question_final_df.AnswerCreationDate >= dt_parse(SPLIT_TIME)]\n",
    "\n",
    "users_in_test_phase = pdf[(pdf.PostTypeId==2) & (pdf.CreationDate <= dt_parse(SPLIT_TIME))]['OwnerUserId']\n",
    "\n",
    "test_df = test_df[test_df.AcceptedAnswerUserId.isin(users_in_test_phase.unique())]\n",
    "\n",
    "print train_df.shape, test_df.shape"
   ]
  },
  {
   "cell_type": "code",
   "execution_count": 128,
   "metadata": {
    "collapsed": false
   },
   "outputs": [
    {
     "data": {
      "text/plain": [
       "19942"
      ]
     },
     "execution_count": 128,
     "metadata": {},
     "output_type": "execute_result"
    }
   ],
   "source": [
    "train_df.shape[0] + test_df.shape[0]"
   ]
  },
  {
   "cell_type": "code",
   "execution_count": 130,
   "metadata": {
    "collapsed": false
   },
   "outputs": [
    {
     "data": {
      "text/html": [
       "<div>\n",
       "<table border=\"1\" class=\"dataframe\">\n",
       "  <thead>\n",
       "    <tr style=\"text-align: right;\">\n",
       "      <th></th>\n",
       "      <th>QuestionId</th>\n",
       "      <th>AcceptedAnswerUserId</th>\n",
       "      <th>AnswerCreationDate</th>\n",
       "      <th>UsersSorted</th>\n",
       "      <th>UsersJaccard</th>\n",
       "    </tr>\n",
       "  </thead>\n",
       "  <tbody>\n",
       "    <tr>\n",
       "      <th>0</th>\n",
       "      <td>5.0</td>\n",
       "      <td>45.0</td>\n",
       "      <td>2010-07-20 19:21:52.240</td>\n",
       "      <td>[45.0, 1102.0, 48.0, 226.0, 242.0]</td>\n",
       "      <td>{48.0: 0.571428571429, 242.0: 0.0135135135135,...</td>\n",
       "    </tr>\n",
       "    <tr>\n",
       "      <th>1</th>\n",
       "      <td>1.0</td>\n",
       "      <td>8.0</td>\n",
       "      <td>2010-07-20 19:22:20.193</td>\n",
       "      <td>[8.0, 49.0, 25.0, 35.0, 39.0]</td>\n",
       "      <td>{8.0: 0.0422535211268, 49.0: 0.6, 35.0: 0.1153...</td>\n",
       "    </tr>\n",
       "    <tr>\n",
       "      <th>2</th>\n",
       "      <td>8.0</td>\n",
       "      <td>38.0</td>\n",
       "      <td>2010-07-20 19:23:54.230</td>\n",
       "      <td>[38.0, 173.0, 334.0, 53.0, 55.0]</td>\n",
       "      <td>{55.0: 0.444444444444, 334.0: 0.078431372549, ...</td>\n",
       "    </tr>\n",
       "    <tr>\n",
       "      <th>3</th>\n",
       "      <td>2.0</td>\n",
       "      <td>34.0</td>\n",
       "      <td>2010-07-20 19:24:52.200</td>\n",
       "      <td>[34.0, 56.0, 35.0, 190287.0, 72.0]</td>\n",
       "      <td>{56.0: 0.0714285714286, 72.0: 0.0206896551724,...</td>\n",
       "    </tr>\n",
       "    <tr>\n",
       "      <th>4</th>\n",
       "      <td>20.0</td>\n",
       "      <td>38.0</td>\n",
       "      <td>2010-07-20 19:32:21.590</td>\n",
       "      <td>[38.0, 72.0, 232.0, 51.0, 210.0]</td>\n",
       "      <td>{72.0: 0.0206896551724, 232.0: 0.0061224489795...</td>\n",
       "    </tr>\n",
       "  </tbody>\n",
       "</table>\n",
       "</div>"
      ],
      "text/plain": [
       "   QuestionId  AcceptedAnswerUserId      AnswerCreationDate  \\\n",
       "0         5.0                  45.0 2010-07-20 19:21:52.240   \n",
       "1         1.0                   8.0 2010-07-20 19:22:20.193   \n",
       "2         8.0                  38.0 2010-07-20 19:23:54.230   \n",
       "3         2.0                  34.0 2010-07-20 19:24:52.200   \n",
       "4        20.0                  38.0 2010-07-20 19:32:21.590   \n",
       "\n",
       "                          UsersSorted  \\\n",
       "0  [45.0, 1102.0, 48.0, 226.0, 242.0]   \n",
       "1       [8.0, 49.0, 25.0, 35.0, 39.0]   \n",
       "2    [38.0, 173.0, 334.0, 53.0, 55.0]   \n",
       "3  [34.0, 56.0, 35.0, 190287.0, 72.0]   \n",
       "4    [38.0, 72.0, 232.0, 51.0, 210.0]   \n",
       "\n",
       "                                        UsersJaccard  \n",
       "0  {48.0: 0.571428571429, 242.0: 0.0135135135135,...  \n",
       "1  {8.0: 0.0422535211268, 49.0: 0.6, 35.0: 0.1153...  \n",
       "2  {55.0: 0.444444444444, 334.0: 0.078431372549, ...  \n",
       "3  {56.0: 0.0714285714286, 72.0: 0.0206896551724,...  \n",
       "4  {72.0: 0.0206896551724, 232.0: 0.0061224489795...  "
      ]
     },
     "execution_count": 130,
     "metadata": {},
     "output_type": "execute_result"
    }
   ],
   "source": [
    "train_df.head()"
   ]
  },
  {
   "cell_type": "code",
   "execution_count": 131,
   "metadata": {
    "collapsed": false
   },
   "outputs": [
    {
     "data": {
      "text/html": [
       "<div>\n",
       "<table border=\"1\" class=\"dataframe\">\n",
       "  <thead>\n",
       "    <tr style=\"text-align: right;\">\n",
       "      <th></th>\n",
       "      <th>QuestionId</th>\n",
       "      <th>AcceptedAnswerUserId</th>\n",
       "      <th>AnswerCreationDate</th>\n",
       "      <th>UsersSorted</th>\n",
       "      <th>UsersJaccard</th>\n",
       "    </tr>\n",
       "  </thead>\n",
       "  <tbody>\n",
       "    <tr>\n",
       "      <th>15796</th>\n",
       "      <td>1307269.0</td>\n",
       "      <td>30953.0</td>\n",
       "      <td>2015-06-01 01:21:56.547</td>\n",
       "      <td>[30953.0, 223391.0, 11667.0, 152299.0, 60129.0]</td>\n",
       "      <td>{152299.0: 0.0125, 30953.0: 0.0037037037037, 6...</td>\n",
       "    </tr>\n",
       "    <tr>\n",
       "      <th>15797</th>\n",
       "      <td>1307364.0</td>\n",
       "      <td>223498.0</td>\n",
       "      <td>2015-06-01 03:30:05.077</td>\n",
       "      <td>[223498.0, 264.0, 229072.0, 141600.0, 198240.0]</td>\n",
       "      <td>{264.0: 0.0103448275862, 229072.0: 0.038961038...</td>\n",
       "    </tr>\n",
       "    <tr>\n",
       "      <th>15798</th>\n",
       "      <td>1307398.0</td>\n",
       "      <td>218419.0</td>\n",
       "      <td>2015-06-01 04:22:01.710</td>\n",
       "      <td>[218419.0, 58320.0, 6312.0, 243183.0, 101504.0]</td>\n",
       "      <td>{58320.0: 0.0131578947368, 6312.0: 0.004048582...</td>\n",
       "    </tr>\n",
       "    <tr>\n",
       "      <th>15799</th>\n",
       "      <td>1307603.0</td>\n",
       "      <td>146393.0</td>\n",
       "      <td>2015-06-01 09:37:28.713</td>\n",
       "      <td>[146393.0, 195344.0, 112884.0, 21042.0, 65573.0]</td>\n",
       "      <td>{195344.0: 0.0215053763441, 146393.0: 0.010638...</td>\n",
       "    </tr>\n",
       "    <tr>\n",
       "      <th>15800</th>\n",
       "      <td>1307959.0</td>\n",
       "      <td>164025.0</td>\n",
       "      <td>2015-06-01 15:11:06.170</td>\n",
       "      <td>[164025.0, 12500.0, 44669.0, 191887.0, 141252.0]</td>\n",
       "      <td>{164025.0: 0.02, 12500.0: 0.0384615384615, 446...</td>\n",
       "    </tr>\n",
       "  </tbody>\n",
       "</table>\n",
       "</div>"
      ],
      "text/plain": [
       "       QuestionId  AcceptedAnswerUserId      AnswerCreationDate  \\\n",
       "15796   1307269.0               30953.0 2015-06-01 01:21:56.547   \n",
       "15797   1307364.0              223498.0 2015-06-01 03:30:05.077   \n",
       "15798   1307398.0              218419.0 2015-06-01 04:22:01.710   \n",
       "15799   1307603.0              146393.0 2015-06-01 09:37:28.713   \n",
       "15800   1307959.0              164025.0 2015-06-01 15:11:06.170   \n",
       "\n",
       "                                            UsersSorted  \\\n",
       "15796   [30953.0, 223391.0, 11667.0, 152299.0, 60129.0]   \n",
       "15797   [223498.0, 264.0, 229072.0, 141600.0, 198240.0]   \n",
       "15798   [218419.0, 58320.0, 6312.0, 243183.0, 101504.0]   \n",
       "15799  [146393.0, 195344.0, 112884.0, 21042.0, 65573.0]   \n",
       "15800  [164025.0, 12500.0, 44669.0, 191887.0, 141252.0]   \n",
       "\n",
       "                                            UsersJaccard  \n",
       "15796  {152299.0: 0.0125, 30953.0: 0.0037037037037, 6...  \n",
       "15797  {264.0: 0.0103448275862, 229072.0: 0.038961038...  \n",
       "15798  {58320.0: 0.0131578947368, 6312.0: 0.004048582...  \n",
       "15799  {195344.0: 0.0215053763441, 146393.0: 0.010638...  \n",
       "15800  {164025.0: 0.02, 12500.0: 0.0384615384615, 446...  "
      ]
     },
     "execution_count": 131,
     "metadata": {},
     "output_type": "execute_result"
    }
   ],
   "source": [
    "test_df.head()"
   ]
  },
  {
   "cell_type": "code",
   "execution_count": null,
   "metadata": {
    "collapsed": true
   },
   "outputs": [],
   "source": []
  },
  {
   "cell_type": "code",
   "execution_count": null,
   "metadata": {
    "collapsed": true
   },
   "outputs": [],
   "source": []
  },
  {
   "cell_type": "markdown",
   "metadata": {
    "collapsed": false
   },
   "source": [
    "### Save"
   ]
  },
  {
   "cell_type": "code",
   "execution_count": 134,
   "metadata": {
    "collapsed": false
   },
   "outputs": [],
   "source": [
    "train_df.to_csv(os.path.join(STORE_LOCATION, 'train.csv'), index=False)"
   ]
  },
  {
   "cell_type": "code",
   "execution_count": 135,
   "metadata": {
    "collapsed": true
   },
   "outputs": [],
   "source": [
    "test_df.to_csv(os.path.join(STORE_LOCATION, 'test.csv'), index=False)"
   ]
  },
  {
   "cell_type": "code",
   "execution_count": null,
   "metadata": {
    "collapsed": true
   },
   "outputs": [],
   "source": []
  },
  {
   "cell_type": "code",
   "execution_count": null,
   "metadata": {
    "collapsed": true
   },
   "outputs": [],
   "source": []
  }
 ],
 "metadata": {
  "kernelspec": {
   "display_name": "Python 2",
   "language": "python",
   "name": "python2"
  },
  "language_info": {
   "codemirror_mode": {
    "name": "ipython",
    "version": 2
   },
   "file_extension": ".py",
   "mimetype": "text/x-python",
   "name": "python",
   "nbconvert_exporter": "python",
   "pygments_lexer": "ipython2",
   "version": "2.7.11"
  }
 },
 "nbformat": 4,
 "nbformat_minor": 0
}
