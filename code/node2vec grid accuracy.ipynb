{
 "cells": [
  {
   "cell_type": "code",
   "execution_count": 4,
   "metadata": {
    "collapsed": false
   },
   "outputs": [
    {
     "name": "stderr",
     "output_type": "stream",
     "text": [
      "/Users/prmathur/anaconda/lib/python2.7/site-packages/matplotlib/__init__.py:872: UserWarning: axes.color_cycle is deprecated and replaced with axes.prop_cycle; please use the latter.\n",
      "  warnings.warn(self.msg_depr % (key, alt_key))\n"
     ]
    },
    {
     "name": "stdout",
     "output_type": "stream",
     "text": [
      "Couldn't import dot_parser, loading of dot files will not be possible.\n"
     ]
    }
   ],
   "source": [
    "import pandas as pd\n",
    "import os, sys\n",
    "import ujson, re\n",
    "import numpy as np\n",
    "import seaborn as sns\n",
    "\n",
    "from matplotlib import pyplot as plt\n",
    "from sklearn.model_selection import cross_val_score\n",
    "from sklearn.svm import SVC\n",
    "from sklearn.linear_model import LogisticRegression\n",
    "from gensim.models import Word2Vec\n",
    "from src.DataReader import DataReader\n",
    "from src.constants import SPLIT_TIME, STORE_LOCATION, DATA_ROOT, POSTS_FILE, VOTES_FILE\n",
    "from operator import itemgetter"
   ]
  },
  {
   "cell_type": "code",
   "execution_count": 5,
   "metadata": {
    "collapsed": true
   },
   "outputs": [],
   "source": [
    "%matplotlib inline"
   ]
  },
  {
   "cell_type": "code",
   "execution_count": 6,
   "metadata": {
    "collapsed": true
   },
   "outputs": [],
   "source": [
    "emb_root = '/Users/prmathur/Documents/Pers/MMDS/Course/CS224W/Project/snap-master/examples/node2vec/emb/'"
   ]
  },
  {
   "cell_type": "code",
   "execution_count": 7,
   "metadata": {
    "collapsed": true
   },
   "outputs": [],
   "source": [
    "data_directory = DATA_ROOT"
   ]
  },
  {
   "cell_type": "code",
   "execution_count": 8,
   "metadata": {
    "collapsed": true
   },
   "outputs": [],
   "source": [
    "train_df = pd.read_csv(os.path.join(STORE_LOCATION, 'train.csv'))"
   ]
  },
  {
   "cell_type": "code",
   "execution_count": 9,
   "metadata": {
    "collapsed": true
   },
   "outputs": [],
   "source": [
    "test_df = pd.read_csv(os.path.join(STORE_LOCATION, 'test.csv'))"
   ]
  },
  {
   "cell_type": "code",
   "execution_count": 10,
   "metadata": {
    "collapsed": false
   },
   "outputs": [
    {
     "name": "stdout",
     "output_type": "stream",
     "text": [
      "Reading file...\n",
      "Converting...\n",
      "Progress | ██████████ | 100% || Estimated time remaining: 0.0 seconds\n",
      "Conversion complete...\n",
      "Forming data frame...\n"
     ]
    }
   ],
   "source": [
    "post_reader = DataReader(os.path.join(data_directory, POSTS_FILE), True)\n",
    "post_reader.read_data()"
   ]
  },
  {
   "cell_type": "code",
   "execution_count": null,
   "metadata": {
    "collapsed": true
   },
   "outputs": [],
   "source": []
  },
  {
   "cell_type": "code",
   "execution_count": 11,
   "metadata": {
    "collapsed": true
   },
   "outputs": [],
   "source": [
    "pdf = post_reader._df\n",
    "\n",
    "q_tags_df = pdf[pdf.PostTypeId==1][['Id', 'Tags']]\n",
    "\n",
    "train_df = train_df.merge(q_tags_df, how='left', left_on='QuestionId', right_on='Id', suffixes=('_tr', '_qt'))\n",
    "\n",
    "test_df = test_df.merge(q_tags_df, how='left', left_on='QuestionId', right_on='Id', suffixes=('_tr', '_qt'))"
   ]
  },
  {
   "cell_type": "code",
   "execution_count": null,
   "metadata": {
    "collapsed": true
   },
   "outputs": [],
   "source": []
  },
  {
   "cell_type": "code",
   "execution_count": 12,
   "metadata": {
    "collapsed": false
   },
   "outputs": [
    {
     "data": {
      "text/html": [
       "<div>\n",
       "<table border=\"1\" class=\"dataframe\">\n",
       "  <thead>\n",
       "    <tr style=\"text-align: right;\">\n",
       "      <th></th>\n",
       "      <th>QuestionId</th>\n",
       "      <th>AcceptedAnswerUserId</th>\n",
       "      <th>UsersSorted</th>\n",
       "      <th>Tags</th>\n",
       "    </tr>\n",
       "  </thead>\n",
       "  <tbody>\n",
       "    <tr>\n",
       "      <th>0</th>\n",
       "      <td>5.0</td>\n",
       "      <td>45.0</td>\n",
       "      <td>[45.0, 1102.0, 48.0, 226.0, 242.0]</td>\n",
       "      <td>[elementary-number-theory, proof-writing, radi...</td>\n",
       "    </tr>\n",
       "    <tr>\n",
       "      <th>1</th>\n",
       "      <td>1.0</td>\n",
       "      <td>8.0</td>\n",
       "      <td>[8.0, 49.0, 25.0, 35.0, 39.0]</td>\n",
       "      <td>[elementary-set-theory, intuition, faq]</td>\n",
       "    </tr>\n",
       "    <tr>\n",
       "      <th>2</th>\n",
       "      <td>8.0</td>\n",
       "      <td>38.0</td>\n",
       "      <td>[38.0, 173.0, 334.0, 53.0, 55.0]</td>\n",
       "      <td>[linear-algebra, combinatorics, generating-fun...</td>\n",
       "    </tr>\n",
       "    <tr>\n",
       "      <th>3</th>\n",
       "      <td>2.0</td>\n",
       "      <td>34.0</td>\n",
       "      <td>[34.0, 56.0, 35.0, 190287.0, 72.0]</td>\n",
       "      <td>[calculus, limits, definition]</td>\n",
       "    </tr>\n",
       "    <tr>\n",
       "      <th>4</th>\n",
       "      <td>20.0</td>\n",
       "      <td>38.0</td>\n",
       "      <td>[38.0, 72.0, 232.0, 51.0, 210.0]</td>\n",
       "      <td>[terminology, definition, number-systems]</td>\n",
       "    </tr>\n",
       "  </tbody>\n",
       "</table>\n",
       "</div>"
      ],
      "text/plain": [
       "   QuestionId  AcceptedAnswerUserId                         UsersSorted  \\\n",
       "0         5.0                  45.0  [45.0, 1102.0, 48.0, 226.0, 242.0]   \n",
       "1         1.0                   8.0       [8.0, 49.0, 25.0, 35.0, 39.0]   \n",
       "2         8.0                  38.0    [38.0, 173.0, 334.0, 53.0, 55.0]   \n",
       "3         2.0                  34.0  [34.0, 56.0, 35.0, 190287.0, 72.0]   \n",
       "4        20.0                  38.0    [38.0, 72.0, 232.0, 51.0, 210.0]   \n",
       "\n",
       "                                                Tags  \n",
       "0  [elementary-number-theory, proof-writing, radi...  \n",
       "1            [elementary-set-theory, intuition, faq]  \n",
       "2  [linear-algebra, combinatorics, generating-fun...  \n",
       "3                     [calculus, limits, definition]  \n",
       "4          [terminology, definition, number-systems]  "
      ]
     },
     "execution_count": 12,
     "metadata": {},
     "output_type": "execute_result"
    }
   ],
   "source": [
    "train_df[['QuestionId', 'AcceptedAnswerUserId', 'UsersSorted', 'Tags']].head()"
   ]
  },
  {
   "cell_type": "code",
   "execution_count": null,
   "metadata": {
    "collapsed": true
   },
   "outputs": [],
   "source": []
  },
  {
   "cell_type": "code",
   "execution_count": 13,
   "metadata": {
    "collapsed": true
   },
   "outputs": [],
   "source": [
    "indx2tag_dict = {}\n",
    "tag2index_dict = {}\n",
    "with open(os.path.join(STORE_LOCATION, 'graphs/user-tag_keys.txt')) as tg_fl:\n",
    "    for row in tg_fl:\n",
    "        k, v = row.strip().split(',')\n",
    "        indx2tag_dict[float(v.strip())] = k\n",
    "        tag2index_dict[k] = float(v.strip())"
   ]
  },
  {
   "cell_type": "code",
   "execution_count": null,
   "metadata": {
    "collapsed": true
   },
   "outputs": [],
   "source": []
  },
  {
   "cell_type": "code",
   "execution_count": 21,
   "metadata": {
    "collapsed": false
   },
   "outputs": [],
   "source": [
    "val_df = train_df.iloc[11000:]\n",
    "\n",
    "train_df = train_df.iloc[:11000]"
   ]
  },
  {
   "cell_type": "code",
   "execution_count": 25,
   "metadata": {
    "collapsed": false,
    "scrolled": true
   },
   "outputs": [],
   "source": [
    "# print model.syn0[model.vocab['10000958'].index].shape\n",
    "# print model.index2word[169]"
   ]
  },
  {
   "cell_type": "code",
   "execution_count": null,
   "metadata": {
    "collapsed": false
   },
   "outputs": [],
   "source": []
  },
  {
   "cell_type": "code",
   "execution_count": 26,
   "metadata": {
    "collapsed": true
   },
   "outputs": [],
   "source": [
    "def get_user_vals(users):\n",
    "    return re.findall(r'[{]*(\\d+).0', users)"
   ]
  },
  {
   "cell_type": "code",
   "execution_count": 27,
   "metadata": {
    "collapsed": false
   },
   "outputs": [],
   "source": [
    "def get_rep(row, model):\n",
    "    tags = row.Tags\n",
    "    tag_id = [str(int(tag2index_dict[t])) for t in tags]\n",
    "    w2v_idx = [model.vocab[t].index for t in tag_id]\n",
    "    t_vectors = model.syn0[w2v_idx]\n",
    "    q = t_vectors.mean(axis=0)\n",
    "    \n",
    "    accepted_user = str(int(row.AcceptedAnswerUserId))\n",
    "    user_vec = {}\n",
    "\n",
    "    output = None\n",
    "    \n",
    "    users = get_user_vals(row.UsersSorted)\n",
    "    for u in users:\n",
    "        user = str(int(u))\n",
    "        op_row = None\n",
    "        \n",
    "        if user in model.vocab:\n",
    "            user_w2v_idx = model.vocab[user].index\n",
    "            user_vector = model.syn0[user_w2v_idx]\n",
    "        else:\n",
    "            user_vector = np.zeros(128)\n",
    "        \n",
    "        if user == accepted_user:\n",
    "            op_row = np.hstack((q, user_vector, 1))\n",
    "        else:\n",
    "            op_row = np.hstack((q, user_vector, 0))\n",
    "            \n",
    "        if output is None:\n",
    "            output = op_row\n",
    "        else:\n",
    "            output = np.vstack((output, op_row))\n",
    "\n",
    "    return output"
   ]
  },
  {
   "cell_type": "code",
   "execution_count": 28,
   "metadata": {
    "collapsed": false
   },
   "outputs": [],
   "source": [
    "def get_accuracy(preds, Y):\n",
    "    pr, tr = [], []\n",
    "    for i in range(0, preds.shape[0] ,5):\n",
    "        pr.append(np.argmax(preds[i:i+5]))\n",
    "        tr.append(np.argmax(Y[i:i+5]))\n",
    "\n",
    "    pr = np.array(pr)\n",
    "    tr = np.array(tr)\n",
    "    \n",
    "    return (pr==tr).sum()* 1. / pr.shape[0] "
   ]
  },
  {
   "cell_type": "code",
   "execution_count": 32,
   "metadata": {
    "collapsed": false
   },
   "outputs": [],
   "source": [
    "def get_mrr(preds, Y):\n",
    "\n",
    "    ranks = []\n",
    "    for i in range(0, preds.shape[0] ,5):\n",
    "        max_idx = np.argmax(Y[i:i+5])\n",
    "        srt = np.argsort(preds[i:i+5],)[::-1]\n",
    "        rank = np.where(srt==max_idx)[0][0] + 1\n",
    "\n",
    "        ranks.append(rank)\n",
    "\n",
    "    return np.mean(1. / np.array(ranks))"
   ]
  },
  {
   "cell_type": "code",
   "execution_count": 29,
   "metadata": {
    "collapsed": false
   },
   "outputs": [],
   "source": [
    "# temp = get_rep(train_df.ix[0], model)"
   ]
  },
  {
   "cell_type": "code",
   "execution_count": null,
   "metadata": {
    "collapsed": false
   },
   "outputs": [],
   "source": []
  },
  {
   "cell_type": "code",
   "execution_count": 30,
   "metadata": {
    "collapsed": false
   },
   "outputs": [],
   "source": [
    "ut_files = [f for f in os.listdir(emb_root) if 'ut' in f]"
   ]
  },
  {
   "cell_type": "code",
   "execution_count": 31,
   "metadata": {
    "collapsed": true
   },
   "outputs": [],
   "source": [
    "uu_files = [f for f in os.listdir(emb_root) if 'uu' in f]"
   ]
  },
  {
   "cell_type": "code",
   "execution_count": 33,
   "metadata": {
    "collapsed": false,
    "scrolled": true
   },
   "outputs": [
    {
     "name": "stdout",
     "output_type": "stream",
     "text": [
      "Loaded ut_p0.25-q0.25.emb\n",
      "\n",
      "................\n",
      "Begin train\n",
      "p0.25; q0.25 : acc - 0.374687239366; mrr - 0.617417292188\n",
      "Loaded ut_p0.25-q0.50.emb\n",
      "\n",
      "................\n",
      "Begin train\n",
      "p0.25; q0.50 : acc - 0.374478732277; mrr - 0.616972477064\n",
      "Loaded ut_p0.25-q1.emb\n",
      "\n",
      "................\n",
      "Begin train\n",
      "p0.25; q1 : acc - 0.388448707256; mrr - 0.626661106478\n",
      "Loaded ut_p0.25-q2.emb\n",
      "\n",
      "................\n",
      "Begin train\n",
      "p0.25; q2 : acc - 0.379482902419; mrr - 0.619596191271\n",
      "Loaded ut_p0.25-q4.emb\n",
      "\n",
      "................\n",
      "Begin train\n",
      "p0.25; q4 : acc - 0.383236030025; mrr - 0.62228940784\n",
      "Loaded ut_p0.50-q0.25.emb\n",
      "\n",
      "................\n",
      "Begin train\n",
      "p0.50; q0.25 : acc - 0.371351125938; mrr - 0.614724075619\n",
      "Loaded ut_p0.50-q0.50.emb\n",
      "\n",
      "................\n",
      "Begin train\n",
      "p0.50; q0.50 : acc - 0.380108423686; mrr - 0.621232971921\n",
      "Loaded ut_p0.50-q1.emb\n",
      "\n",
      "................\n",
      "Begin train\n",
      "p0.50; q1 : acc - 0.376772310259; mrr - 0.617493744787\n",
      "Loaded ut_p0.50-q2.emb\n",
      "\n",
      "................\n",
      "Begin train\n",
      "p0.50; q2 : acc - 0.375312760634; mrr - 0.619363358354\n",
      "Loaded ut_p0.50-q4.emb\n",
      "\n",
      "................\n",
      "Begin train\n",
      "p0.50; q4 : acc - 0.388657214345; mrr - 0.626511676397\n",
      "Loaded ut_p1-q0.25.emb\n",
      "\n",
      "................\n",
      "Begin train\n",
      "p1; q0.25 : acc - 0.377189324437; mrr - 0.6182235196\n",
      "Loaded ut_p1-q0.50.emb\n",
      "\n",
      "................\n",
      "Begin train\n",
      "p1; q0.50 : acc - 0.390742285238; mrr - 0.62761676397\n",
      "Loaded ut_p1-q1.emb\n",
      "\n",
      "................\n",
      "Begin train\n",
      "p1; q1 : acc - 0.39845704754; mrr - 0.632082290798\n",
      "Loaded ut_p1-q2.emb\n",
      "\n",
      "................\n",
      "Begin train\n",
      "p1; q2 : acc - 0.389491242702; mrr - 0.626890464276\n",
      "Loaded ut_p1-q4.emb\n",
      "\n",
      "................\n",
      "Begin train\n",
      "p1; q4 : acc - 0.392410341952; mrr - 0.628120656102\n",
      "Loaded ut_p2-q0.25.emb\n",
      "\n",
      "................\n",
      "Begin train\n",
      "p2; q0.25 : acc - 0.37364470392; mrr - 0.617347789825\n",
      "Loaded ut_p2-q0.50.emb\n",
      "\n",
      "................\n",
      "Begin train\n",
      "p2; q0.50 : acc - 0.389908256881; mrr - 0.624245899361\n",
      "Loaded ut_p2-q1.emb\n",
      "\n",
      "................\n",
      "Begin train\n",
      "p2; q1 : acc - 0.388657214345; mrr - 0.623846260773\n",
      "Loaded ut_p2-q2.emb\n",
      "\n",
      "................\n",
      "Begin train\n",
      "p2; q2 : acc - 0.385946622185; mrr - 0.623210314151\n",
      "Loaded ut_p2-q4.emb\n",
      "\n",
      "................\n",
      "Begin train\n",
      "p2; q4 : acc - 0.379691409508; mrr - 0.620496246872\n",
      "Loaded ut_p4-q0.25.emb\n",
      "\n",
      "................\n",
      "Begin train\n",
      "p4; q0.25 : acc - 0.395120934112; mrr - 0.629771337225\n",
      "Loaded ut_p4-q0.50.emb\n",
      "\n",
      "................\n",
      "Begin train\n",
      "p4; q0.50 : acc - 0.38448707256; mrr - 0.623387545177\n",
      "Loaded ut_p4-q1.emb\n",
      "\n",
      "................\n",
      "Begin train\n",
      "p4; q1 : acc - 0.38740617181; mrr - 0.624596886294\n",
      "Loaded ut_p4-q2.emb\n",
      "\n",
      "................\n",
      "Begin train\n",
      "p4; q2 : acc - 0.379899916597; mrr - 0.619283430637\n",
      "Loaded ut_p4-q4.emb\n",
      "\n",
      "................\n",
      "Begin train\n",
      "p4; q4 : acc - 0.374478732277; mrr - 0.617358215179\n"
     ]
    }
   ],
   "source": [
    "for emb_file in ut_files:\n",
    "    model = Word2Vec.load_word2vec_format(os.path.join(emb_root, emb_file), binary=False)\n",
    "    print 'Loaded {}\\n'.format(emb_file)\n",
    "    \n",
    "    train_ds, val_ds = [], []\n",
    "    for indx, row in train_df.iterrows():\n",
    "        temp_set = get_rep(row, model)\n",
    "        train_ds.append(temp_set)\n",
    "        \n",
    "        if indx % 1000 == 0:\n",
    "            sys.stdout.write('.')\n",
    "            sys.stdout.flush()\n",
    "\n",
    "    train_ds = np.vstack(train_ds)\n",
    "    \n",
    "    for indx, row in val_df.iterrows():\n",
    "        temp_set = get_rep(row, model)\n",
    "        val_ds.append(temp_set)\n",
    "        \n",
    "        if indx % 1000 == 0:\n",
    "            sys.stdout.write('.')\n",
    "            sys.stdout.flush()\n",
    "\n",
    "    val_ds = np.vstack(val_ds)\n",
    "    \n",
    "    print '\\nBegin train'\n",
    "    clf = LogisticRegression(n_jobs=-1)\n",
    "    clf.fit(train_ds[:, :256], train_ds[:, 256])\n",
    "    preds = clf.predict_proba(val_ds[:, :256])[:, 1]\n",
    "    score = get_accuracy(preds, val_ds[:, 256])\n",
    "    mrr = get_mrr(preds, val_ds[:, 256])\n",
    "\n",
    "    p, q = emb_file.replace('.emb', '').replace('ut_', '').split('-')\n",
    "    print '{0}; {1} : acc - {2}; mrr - {3}'.format(p, q, score, mrr)"
   ]
  },
  {
   "cell_type": "code",
   "execution_count": null,
   "metadata": {
    "collapsed": false
   },
   "outputs": [],
   "source": []
  },
  {
   "cell_type": "code",
   "execution_count": null,
   "metadata": {
    "collapsed": false
   },
   "outputs": [],
   "source": []
  },
  {
   "cell_type": "code",
   "execution_count": 40,
   "metadata": {
    "collapsed": false
   },
   "outputs": [
    {
     "data": {
      "text/plain": [
       "<matplotlib.text.Text at 0x1a4ba2ed0>"
      ]
     },
     "execution_count": 40,
     "metadata": {},
     "output_type": "execute_result"
    },
    {
     "data": {
      "image/png": "[encoded data removed]",
      "text/plain": [
       "<matplotlib.figure.Figure at 0x105c3fd90>"
      ]
     },
     "metadata": {},
     "output_type": "display_data"
    }
   ],
   "source": [
    "perf_df = pd.DataFrame([(0.25, 0.25, 0.374687239366, 0.617417292188), (0.25, 0.50, 0.374478732277, 0.616972477064), \n",
    "                        (0.25, 1, 0.388448707256, 0.626661106478), (0.25, 2, 0.379482902419, 0.619596191271), \n",
    "                        (0.25, 4, 0.383236030025, 0.62228940784), (0.50, 0.25, 0.371351125938, 0.614724075619), \n",
    "                        (0.50, 0.50, 0.380108423686, 0.621232971921), (0.50, 1, 0.376772310259, 0.617493744787), \n",
    "                        (0.50, 2, 0.375312760634, 0.619363358354), (0.50, 4, 0.388657214345, 0.626511676397), \n",
    "                        (1, 0.25, 0.377189324437, 0.6182235196), (1, 0.50, 0.390742285238, 0.62761676397), \n",
    "                        (1, 1, 0.39845704754, 0.632082290798), (1, 2, 0.389491242702, 0.626890464276), \n",
    "                        (1, 4, 0.392410341952, 0.628120656102), (2, 0.25, 0.37364470392, 0.617347789825), \n",
    "                        (2, 0.50, 0.389908256881, 0.624245899361), (2, 1, 0.388657214345, 0.623846260773), \n",
    "                        (2, 2, 0.385946622185, 0.623210314151), (2, 4, 0.379691409508, 0.620496246872), \n",
    "                        (4, 0.25, 0.395120934112, 0.629771337225), (4, 0.50, 0.38448707256, 0.623387545177), \n",
    "                        (4, 1, 0.38740617181, 0.624596886294), (4, 2, 0.379899916597, 0.619283430637), \n",
    "                        (4, 4, 0.374478732277, 0.617358215179)])\n",
    "\n",
    "perf_df.columns = ['p', 'q', 'Accuracy', 'Mrr']\n",
    "ax = sns.heatmap(perf_df.pivot('p', 'q', 'Mrr'))\n",
    "plt.title('Grid search for parameters (p, q) of user-tag vectors')"
   ]
  },
  {
   "cell_type": "code",
   "execution_count": null,
   "metadata": {
    "collapsed": true
   },
   "outputs": [],
   "source": []
  },
  {
   "cell_type": "code",
   "execution_count": null,
   "metadata": {
    "collapsed": false
   },
   "outputs": [],
   "source": []
  },
  {
   "cell_type": "code",
   "execution_count": null,
   "metadata": {
    "collapsed": true
   },
   "outputs": [],
   "source": []
  },
  {
   "cell_type": "code",
   "execution_count": 41,
   "metadata": {
    "collapsed": false
   },
   "outputs": [],
   "source": [
    "ut_model = Word2Vec.load_word2vec_format(os.path.join(emb_root, 'ut_p1-q1.emb'), binary=False)"
   ]
  },
  {
   "cell_type": "code",
   "execution_count": 42,
   "metadata": {
    "collapsed": false
   },
   "outputs": [],
   "source": [
    "def get_rep_uu(row, ut_model, uu_model):\n",
    "    tags = row.Tags\n",
    "    tag_id = [str(int(tag2index_dict[t])) for t in tags if t in tag2index_dict]\n",
    "    w2v_idx = [ut_model.vocab[t].index for t in tag_id if t in ut_model.vocab]\n",
    "    t_vectors = ut_model.syn0[w2v_idx]\n",
    "    q = t_vectors.mean(axis=0)\n",
    "    \n",
    "    accepted_user = str(int(row.AcceptedAnswerUserId))\n",
    "    user_vec = {}\n",
    "\n",
    "    output = None\n",
    "    \n",
    "    users = get_user_vals(row.UsersSorted)\n",
    "    for u in users:\n",
    "        user = str(int(u))\n",
    "        op_row = None\n",
    "        \n",
    "        if user in ut_model.vocab:\n",
    "            user_w2v_idx = ut_model.vocab[user].index\n",
    "            user_vector = ut_model.syn0[user_w2v_idx]\n",
    "        else:\n",
    "#             print user\n",
    "            user_vector = np.zeros(128)\n",
    "            \n",
    "        if user in uu_model.vocab:\n",
    "            user_uu_w2v_idx = uu_model.vocab[user].index\n",
    "            user_uu_vector = uu_model.syn0[user_uu_w2v_idx]\n",
    "        else:\n",
    "#             print user, users\n",
    "            user_uu_vector = np.zeros(128)\n",
    "        \n",
    "        if user == accepted_user:\n",
    "            op_row = np.hstack((q, user_vector, user_uu_vector, 1))\n",
    "        else:\n",
    "            op_row = np.hstack((q, user_vector, user_uu_vector, 0))\n",
    "            \n",
    "        if output is None:\n",
    "            output = op_row\n",
    "        else:\n",
    "            output = np.vstack((output, op_row))\n",
    "\n",
    "    return output"
   ]
  },
  {
   "cell_type": "code",
   "execution_count": 43,
   "metadata": {
    "collapsed": false,
    "scrolled": true
   },
   "outputs": [],
   "source": [
    "# get_rep_uu(train_df.ix[0], ut_model, uu_model).shape"
   ]
  },
  {
   "cell_type": "code",
   "execution_count": 44,
   "metadata": {
    "collapsed": true
   },
   "outputs": [],
   "source": [
    "# for indx, row in train_df.iterrows():\n",
    "#     temp_set = get_rep_uu(train_df.ix[0], ut_model, uu_model)"
   ]
  },
  {
   "cell_type": "code",
   "execution_count": null,
   "metadata": {
    "collapsed": true
   },
   "outputs": [],
   "source": []
  },
  {
   "cell_type": "code",
   "execution_count": null,
   "metadata": {
    "collapsed": true
   },
   "outputs": [],
   "source": []
  },
  {
   "cell_type": "code",
   "execution_count": 45,
   "metadata": {
    "collapsed": false,
    "scrolled": false
   },
   "outputs": [
    {
     "name": "stdout",
     "output_type": "stream",
     "text": [
      "Loaded uu_p0.25-q0.25.emb\n",
      "\n",
      "................\n",
      "Begin train\n",
      "uu_p0.25; q0.25 : acc - 0.395954962469; mrr - 0.63320822908\n",
      "Loaded uu_p0.25-q0.50.emb\n",
      "\n",
      "................\n",
      "Begin train\n",
      "uu_p0.25; q0.50 : acc - 0.400542118432; mrr - 0.63320822908\n",
      "Loaded uu_p0.25-q1.emb\n",
      "\n",
      "................\n",
      "Begin train\n",
      "uu_p0.25; q1 : acc - 0.394495412844; mrr - 0.629660133445\n",
      "Loaded uu_p0.25-q2.emb\n",
      "\n",
      "................\n",
      "Begin train\n",
      "uu_p0.25; q2 : acc - 0.386989157631; mrr - 0.6260911871\n",
      "Loaded uu_p0.25-q4.emb\n",
      "\n",
      "................\n",
      "Begin train\n",
      "uu_p0.25; q4 : acc - 0.390742285238; mrr - 0.629510703364\n",
      "Loaded uu_p0.50-q0.25.emb\n",
      "\n",
      "................\n",
      "Begin train\n",
      "uu_p0.50; q0.25 : acc - 0.39553794829; mrr - 0.630643591882\n",
      "Loaded uu_p0.50-q0.50.emb\n",
      "\n",
      "................\n",
      "Begin train\n",
      "uu_p0.50; q0.50 : acc - 0.393452877398; mrr - 0.629138865721\n",
      "Loaded uu_p0.50-q1.emb\n",
      "\n",
      "................\n",
      "Begin train\n",
      "uu_p0.50; q1 : acc - 0.395329441201; mrr - 0.630925076453\n",
      "Loaded uu_p0.50-q2.emb\n",
      "\n",
      "................\n",
      "Begin train\n",
      "uu_p0.50; q2 : acc - 0.397206005004; mrr - 0.631508896302\n",
      "Loaded uu_p0.50-q4.emb\n",
      "\n",
      "................\n",
      "Begin train\n",
      "uu_p0.50; q4 : acc - 0.393452877398; mrr - 0.628979010286\n",
      "Loaded uu_p1-q0.25.emb\n",
      "\n",
      "................\n",
      "Begin train\n",
      "uu_p1; q0.25 : acc - 0.397206005004; mrr - 0.63245412844\n",
      "Loaded uu_p1-q0.50.emb\n",
      "\n",
      "................\n",
      "Begin train\n",
      "uu_p1; q0.50 : acc - 0.391159299416; mrr - 0.628037253267\n",
      "Loaded uu_p1-q1.emb\n",
      "\n",
      "................\n",
      "Begin train\n",
      "uu_p1; q1 : acc - 0.389491242702; mrr - 0.627519460662\n",
      "Loaded uu_p1-q2.emb\n",
      "\n",
      "................\n",
      "Begin train\n",
      "uu_p1; q2 : acc - 0.393452877398; mrr - 0.628676675007\n",
      "Loaded uu_p1-q4.emb\n",
      "\n",
      "................\n",
      "Begin train\n",
      "uu_p1; q4 : acc - 0.395954962469; mrr - 0.629952043369\n",
      "Loaded uu_p2-q0.25.emb\n",
      "\n",
      "................\n",
      "Begin train\n",
      "uu_p2; q0.25 : acc - 0.389699749791; mrr - 0.627575062552\n",
      "Loaded uu_p2-q0.50.emb\n",
      "\n",
      "................\n",
      "Begin train\n",
      "uu_p2; q0.50 : acc - 0.394286905755; mrr - 0.630202251877\n",
      "Loaded uu_p2-q1.emb\n",
      "\n",
      "................\n",
      "Begin train\n",
      "uu_p2; q1 : acc - 0.396163469558; mrr - 0.631157909369\n",
      "Loaded uu_p2-q2.emb\n",
      "\n",
      "................\n",
      "Begin train\n",
      "uu_p2; q2 : acc - 0.38740617181; mrr - 0.626761884904\n",
      "Loaded uu_p2-q4.emb\n",
      "\n",
      "................\n",
      "Begin train\n",
      "uu_p2; q4 : acc - 0.396163469558; mrr - 0.630970252989\n",
      "Loaded uu_p4-q0.25.emb\n",
      "\n",
      "................\n",
      "Begin train\n",
      "uu_p4; q0.25 : acc - 0.397623019183; mrr - 0.632593133167\n",
      "Loaded uu_p4-q0.50.emb\n",
      "\n",
      "................\n",
      "Begin train\n",
      "uu_p4; q0.50 : acc - 0.391159299416; mrr - 0.628023352794\n",
      "Loaded uu_p4-q1.emb\n",
      "\n",
      "................\n",
      "Begin train\n",
      "uu_p4; q1 : acc - 0.393869891576; mrr - 0.628753127606\n",
      "Loaded uu_p4-q2.emb\n",
      "\n",
      "................\n",
      "Begin train\n",
      "uu_p4; q2 : acc - 0.396163469558; mrr - 0.630483736447\n",
      "Loaded uu_p4-q4.emb\n",
      "\n",
      "................\n",
      "Begin train\n",
      "uu_p4; q4 : acc - 0.390742285238; mrr - 0.626268418126\n"
     ]
    }
   ],
   "source": [
    "for emb_file in uu_files:\n",
    "#     model = Word2Vec.load_word2vec_format(os.path.join(emb_root, emb_file), binary=False)\n",
    "    uu_model = Word2Vec.load_word2vec_format(os.path.join(emb_root, emb_file), binary=False)\n",
    "    print 'Loaded {}\\n'.format(emb_file)\n",
    "    \n",
    "    train_ds, val_ds = [], []\n",
    "    for indx, row in train_df.iterrows():\n",
    "        temp_set = get_rep_uu(row, ut_model, uu_model)\n",
    "        train_ds.append(temp_set)\n",
    "        \n",
    "        if indx % 1000 == 0:\n",
    "            sys.stdout.write('.')\n",
    "            sys.stdout.flush()\n",
    "\n",
    "    train_ds = np.vstack(train_ds)\n",
    "    \n",
    "    for indx, row in val_df.iterrows():\n",
    "        temp_set = get_rep_uu(row, ut_model, uu_model)\n",
    "        val_ds.append(temp_set)\n",
    "        \n",
    "        if indx % 1000 == 0:\n",
    "            sys.stdout.write('.')\n",
    "            sys.stdout.flush()\n",
    "\n",
    "    val_ds = np.vstack(val_ds)\n",
    "    \n",
    "    print '\\nBegin train'\n",
    "    clf = LogisticRegression(n_jobs=-1)\n",
    "    clf.fit(train_ds[:, :384], train_ds[:, 384])\n",
    "    preds = clf.predict_proba(val_ds[:, :384])[:, 1]\n",
    "    score = get_accuracy(preds, val_ds[:, 384])\n",
    "    mrr = get_mrr(preds, val_ds[:, 384])\n",
    "\n",
    "    p, q = emb_file.replace('.emb', '').replace('ut_', '').split('-')\n",
    "    print '{0}; {1} : acc - {2}; mrr - {3}'.format(p, q, score, mrr)"
   ]
  },
  {
   "cell_type": "code",
   "execution_count": null,
   "metadata": {
    "collapsed": true
   },
   "outputs": [],
   "source": []
  },
  {
   "cell_type": "code",
   "execution_count": null,
   "metadata": {
    "collapsed": true
   },
   "outputs": [],
   "source": []
  },
  {
   "cell_type": "code",
   "execution_count": 46,
   "metadata": {
    "collapsed": false
   },
   "outputs": [
    {
     "data": {
      "text/plain": [
       "<matplotlib.text.Text at 0x1f4aa5610>"
      ]
     },
     "execution_count": 46,
     "metadata": {},
     "output_type": "execute_result"
    },
    {
     "data": {
      "image/png": "[encoded data removed]",
      "text/plain": [
       "<matplotlib.figure.Figure at 0x285d74dd0>"
      ]
     },
     "metadata": {},
     "output_type": "display_data"
    }
   ],
   "source": [
    "perf_df = pd.DataFrame([(0.25, 0.25, 0.395954962469, 0.63320822908), (0.25, 0.50, 0.400542118432, 0.63320822908), \n",
    "                        (0.25, 1, 0.394495412844, 0.629660133445), (0.25, 2, 0.386989157631, 0.6260911871), \n",
    "                        (0.25, 4, 0.390742285238, 0.629510703364), (0.50, 0.25, 0.39553794829, 0.630643591882), \n",
    "                        (0.50, 0.50, 0.393452877398, 0.629138865721), (0.50, 1, 0.395329441201, 0.630925076453), \n",
    "                        (0.50, 2, 0.397206005004, 0.631508896302), (0.50, 4, 0.393452877398, 0.628979010286), \n",
    "                        (1, 0.25, 0.397206005004, 0.63245412844), (1, 0.50, 0.391159299416, 0.628037253267), \n",
    "                        (1, 1, 0.389491242702, 0.627519460662), (1, 2, 0.393452877398, 0.628676675007), \n",
    "                        (1, 4, 0.395954962469, 0.629952043369), (2, 0.25, 0.389699749791, 0.627575062552), \n",
    "                        (2, 0.50, 0.394286905755, 0.630202251877), (2, 1, 0.396163469558, 0.631157909369), \n",
    "                        (2, 2, 0.38740617181, 0.626761884904), (2, 4, 0.396163469558, 0.630970252989), \n",
    "                        (4, 0.25, 0.397623019183, 0.632593133167), (4, 0.50, 0.391159299416, 0.628023352794), \n",
    "                        (4, 1, 0.393869891576, 0.628753127606), (4, 2, 0.396163469558, 0.630483736447), \n",
    "                        (4, 4, 0.390742285238, 0.626268418126)])\n",
    "\n",
    "perf_df.columns = ['p', 'q', 'Accuracy', 'Mrr']\n",
    "ax = sns.heatmap(perf_df.pivot('p', 'q', 'Mrr'))\n",
    "plt.title('Grid search for parameters (p, q) of user-user vectors')"
   ]
  },
  {
   "cell_type": "code",
   "execution_count": null,
   "metadata": {
    "collapsed": true
   },
   "outputs": [],
   "source": []
  },
  {
   "cell_type": "markdown",
   "metadata": {},
   "source": [
    "## Final perf"
   ]
  },
  {
   "cell_type": "code",
   "execution_count": 47,
   "metadata": {
    "collapsed": true
   },
   "outputs": [],
   "source": [
    "ut_model = Word2Vec.load_word2vec_format(os.path.join(emb_root, 'ut_p1-q1.emb'), binary=False)\n",
    "\n",
    "uu_model = Word2Vec.load_word2vec_format(os.path.join(emb_root, 'uu_p0.25-q0.25.emb'), binary=False)"
   ]
  },
  {
   "cell_type": "code",
   "execution_count": 48,
   "metadata": {
    "collapsed": false
   },
   "outputs": [
    {
     "name": "stdout",
     "output_type": "stream",
     "text": [
      "................"
     ]
    }
   ],
   "source": [
    "train_ds, val_ds = [], []\n",
    "for indx, row in train_df.iterrows():\n",
    "    temp_set = get_rep_uu(row, ut_model, uu_model)\n",
    "    train_ds.append(temp_set)\n",
    "\n",
    "    if indx % 1000 == 0:\n",
    "        sys.stdout.write('.')\n",
    "        sys.stdout.flush()\n",
    "\n",
    "train_ds = np.vstack(train_ds)\n",
    "\n",
    "for indx, row in val_df.iterrows():\n",
    "    temp_set = get_rep_uu(row, ut_model, uu_model)\n",
    "    val_ds.append(temp_set)\n",
    "\n",
    "    if indx % 1000 == 0:\n",
    "        sys.stdout.write('.')\n",
    "        sys.stdout.flush()\n",
    "\n",
    "val_ds = np.vstack(val_ds)"
   ]
  },
  {
   "cell_type": "code",
   "execution_count": 52,
   "metadata": {
    "collapsed": false
   },
   "outputs": [
    {
     "name": "stdout",
     "output_type": "stream",
     "text": [
      "0.395954962469\n",
      "0.63320822908\n"
     ]
    }
   ],
   "source": [
    "clf = LogisticRegression(n_jobs=-1)\n",
    "clf.fit(train_ds[:, :384], train_ds[:, 384])\n",
    "preds = clf.predict_proba(val_ds[:, :384])[:, 1]\n",
    "print get_accuracy(preds, val_ds[:, 384])\n",
    "print get_mrr(preds, val_ds[:, 384])"
   ]
  },
  {
   "cell_type": "code",
   "execution_count": 53,
   "metadata": {
    "collapsed": false
   },
   "outputs": [
    {
     "name": "stdout",
     "output_type": "stream",
     "text": [
      "Train scores\n",
      "0.429818181818 0.653672727273\n"
     ]
    }
   ],
   "source": [
    "preds = clf.predict_proba(train_ds[:, :384])[:, 1]\n",
    "score = get_accuracy(preds, train_ds[:, 384])\n",
    "mrr = get_mrr(preds, train_ds[:, 384])\n",
    "print 'Train scores'\n",
    "print score, mrr"
   ]
  },
  {
   "cell_type": "code",
   "execution_count": null,
   "metadata": {
    "collapsed": true
   },
   "outputs": [],
   "source": []
  },
  {
   "cell_type": "code",
   "execution_count": 54,
   "metadata": {
    "collapsed": false
   },
   "outputs": [
    {
     "name": "stdout",
     "output_type": "stream",
     "text": [
      ".....0.445730824891\n",
      "0.672925711529\n"
     ]
    }
   ],
   "source": [
    "test_ds = []\n",
    "for indx, row in test_df.iterrows():\n",
    "    temp_set = get_rep_uu(row, ut_model, uu_model)\n",
    "    test_ds.append(temp_set)\n",
    "\n",
    "    if indx % 1000 == 0:\n",
    "        sys.stdout.write('.')\n",
    "        sys.stdout.flush()\n",
    "\n",
    "test_ds = np.vstack(test_ds)\n",
    "\n",
    "test_ds.shape\n",
    "\n",
    "preds = clf.predict_proba(test_ds[:, :384])[:, 1]\n",
    "print get_accuracy(preds, test_ds[:, 384])\n",
    "print get_mrr(preds, test_ds[:, 384])"
   ]
  },
  {
   "cell_type": "code",
   "execution_count": null,
   "metadata": {
    "collapsed": true
   },
   "outputs": [],
   "source": []
  }
 ],
 "metadata": {
  "kernelspec": {
   "display_name": "Python 2",
   "language": "python",
   "name": "python2"
  },
  "language_info": {
   "codemirror_mode": {
    "name": "ipython",
    "version": 2
   },
   "file_extension": ".py",
   "mimetype": "text/x-python",
   "name": "python",
   "nbconvert_exporter": "python",
   "pygments_lexer": "ipython2",
   "version": "2.7.12"
  }
 },
 "nbformat": 4,
 "nbformat_minor": 0
}
