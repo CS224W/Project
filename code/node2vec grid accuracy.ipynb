{
 "cells": [
  {
   "cell_type": "code",
   "execution_count": 96,
   "metadata": {
    "collapsed": false
   },
   "outputs": [],
   "source": [
    "import pandas as pd\n",
    "import os, sys, pickle, itertools\n",
    "import ujson, re\n",
    "import numpy as np\n",
    "import seaborn as sns\n",
    "\n",
    "from collections import Counter, defaultdict\n",
    "from matplotlib import pyplot as plt\n",
    "from sklearn.model_selection import cross_val_score\n",
    "from sklearn.svm import SVC\n",
    "from sklearn.linear_model import LogisticRegression\n",
    "from gensim.models import Word2Vec\n",
    "from src.DataReader import DataReader\n",
    "from src.constants import SPLIT_TIME, STORE_LOCATION, DATA_ROOT, POSTS_FILE, VOTES_FILE\n",
    "from operator import itemgetter"
   ]
  },
  {
   "cell_type": "code",
   "execution_count": 72,
   "metadata": {
    "collapsed": true
   },
   "outputs": [],
   "source": [
    "from sklearn.ensemble import GradientBoostingClassifier"
   ]
  },
  {
   "cell_type": "code",
   "execution_count": 5,
   "metadata": {
    "collapsed": true
   },
   "outputs": [],
   "source": [
    "%matplotlib inline"
   ]
  },
  {
   "cell_type": "code",
   "execution_count": 6,
   "metadata": {
    "collapsed": true
   },
   "outputs": [],
   "source": [
    "emb_root = '/Users/prmathur/Documents/Pers/MMDS/Course/CS224W/Project/snap-master/examples/node2vec/emb/'"
   ]
  },
  {
   "cell_type": "code",
   "execution_count": 7,
   "metadata": {
    "collapsed": true
   },
   "outputs": [],
   "source": [
    "data_directory = DATA_ROOT"
   ]
  },
  {
   "cell_type": "code",
   "execution_count": 57,
   "metadata": {
    "collapsed": true
   },
   "outputs": [],
   "source": [
    "train_df = pd.read_csv(os.path.join(STORE_LOCATION, 'train.csv'))"
   ]
  },
  {
   "cell_type": "code",
   "execution_count": 58,
   "metadata": {
    "collapsed": true
   },
   "outputs": [],
   "source": [
    "test_df = pd.read_csv(os.path.join(STORE_LOCATION, 'test.csv'))"
   ]
  },
  {
   "cell_type": "code",
   "execution_count": 10,
   "metadata": {
    "collapsed": false
   },
   "outputs": [
    {
     "name": "stdout",
     "output_type": "stream",
     "text": [
      "Reading file...\n",
      "Converting...\n",
      "Progress | ██████████ | 100% || Estimated time remaining: 0.0 seconds\n",
      "Conversion complete...\n",
      "Forming data frame...\n"
     ]
    }
   ],
   "source": [
    "post_reader = DataReader(os.path.join(data_directory, POSTS_FILE), True)\n",
    "post_reader.read_data()"
   ]
  },
  {
   "cell_type": "code",
   "execution_count": null,
   "metadata": {
    "collapsed": true
   },
   "outputs": [],
   "source": []
  },
  {
   "cell_type": "code",
   "execution_count": 59,
   "metadata": {
    "collapsed": true
   },
   "outputs": [],
   "source": [
    "pdf = post_reader._df\n",
    "\n",
    "q_tags_df = pdf[pdf.PostTypeId==1][['Id', 'Tags']]\n",
    "\n",
    "train_df = train_df.merge(q_tags_df, how='left', left_on='QuestionId', right_on='Id', suffixes=('_tr', '_qt'))\n",
    "\n",
    "test_df = test_df.merge(q_tags_df, how='left', left_on='QuestionId', right_on='Id', suffixes=('_tr', '_qt'))"
   ]
  },
  {
   "cell_type": "code",
   "execution_count": null,
   "metadata": {
    "collapsed": true
   },
   "outputs": [],
   "source": []
  },
  {
   "cell_type": "code",
   "execution_count": 60,
   "metadata": {
    "collapsed": false
   },
   "outputs": [
    {
     "data": {
      "text/html": [
       "<div>\n",
       "<table border=\"1\" class=\"dataframe\">\n",
       "  <thead>\n",
       "    <tr style=\"text-align: right;\">\n",
       "      <th></th>\n",
       "      <th>QuestionId</th>\n",
       "      <th>AcceptedAnswerUserId</th>\n",
       "      <th>UsersSorted</th>\n",
       "      <th>Tags</th>\n",
       "    </tr>\n",
       "  </thead>\n",
       "  <tbody>\n",
       "    <tr>\n",
       "      <th>0</th>\n",
       "      <td>5.0</td>\n",
       "      <td>45.0</td>\n",
       "      <td>[45.0, 1102.0, 48.0, 226.0, 242.0]</td>\n",
       "      <td>[elementary-number-theory, proof-writing, radi...</td>\n",
       "    </tr>\n",
       "    <tr>\n",
       "      <th>1</th>\n",
       "      <td>1.0</td>\n",
       "      <td>8.0</td>\n",
       "      <td>[8.0, 49.0, 25.0, 35.0, 39.0]</td>\n",
       "      <td>[elementary-set-theory, intuition, faq]</td>\n",
       "    </tr>\n",
       "    <tr>\n",
       "      <th>2</th>\n",
       "      <td>8.0</td>\n",
       "      <td>38.0</td>\n",
       "      <td>[38.0, 173.0, 334.0, 53.0, 55.0]</td>\n",
       "      <td>[linear-algebra, combinatorics, generating-fun...</td>\n",
       "    </tr>\n",
       "    <tr>\n",
       "      <th>3</th>\n",
       "      <td>2.0</td>\n",
       "      <td>34.0</td>\n",
       "      <td>[34.0, 56.0, 35.0, 190287.0, 72.0]</td>\n",
       "      <td>[calculus, limits, definition]</td>\n",
       "    </tr>\n",
       "    <tr>\n",
       "      <th>4</th>\n",
       "      <td>20.0</td>\n",
       "      <td>38.0</td>\n",
       "      <td>[38.0, 72.0, 232.0, 51.0, 210.0]</td>\n",
       "      <td>[terminology, definition, number-systems]</td>\n",
       "    </tr>\n",
       "  </tbody>\n",
       "</table>\n",
       "</div>"
      ],
      "text/plain": [
       "   QuestionId  AcceptedAnswerUserId                         UsersSorted  \\\n",
       "0         5.0                  45.0  [45.0, 1102.0, 48.0, 226.0, 242.0]   \n",
       "1         1.0                   8.0       [8.0, 49.0, 25.0, 35.0, 39.0]   \n",
       "2         8.0                  38.0    [38.0, 173.0, 334.0, 53.0, 55.0]   \n",
       "3         2.0                  34.0  [34.0, 56.0, 35.0, 190287.0, 72.0]   \n",
       "4        20.0                  38.0    [38.0, 72.0, 232.0, 51.0, 210.0]   \n",
       "\n",
       "                                                Tags  \n",
       "0  [elementary-number-theory, proof-writing, radi...  \n",
       "1            [elementary-set-theory, intuition, faq]  \n",
       "2  [linear-algebra, combinatorics, generating-fun...  \n",
       "3                     [calculus, limits, definition]  \n",
       "4          [terminology, definition, number-systems]  "
      ]
     },
     "execution_count": 60,
     "metadata": {},
     "output_type": "execute_result"
    }
   ],
   "source": [
    "train_df[['QuestionId', 'AcceptedAnswerUserId', 'UsersSorted', 'Tags']].head()"
   ]
  },
  {
   "cell_type": "code",
   "execution_count": null,
   "metadata": {
    "collapsed": true
   },
   "outputs": [],
   "source": []
  },
  {
   "cell_type": "code",
   "execution_count": 61,
   "metadata": {
    "collapsed": true
   },
   "outputs": [],
   "source": [
    "indx2tag_dict = {}\n",
    "tag2index_dict = {}\n",
    "with open(os.path.join(STORE_LOCATION, 'graphs/user-tag_keys.txt')) as tg_fl:\n",
    "    for row in tg_fl:\n",
    "        k, v = row.strip().split(',')\n",
    "        indx2tag_dict[float(v.strip())] = k\n",
    "        tag2index_dict[k] = float(v.strip())"
   ]
  },
  {
   "cell_type": "code",
   "execution_count": 62,
   "metadata": {
    "collapsed": true
   },
   "outputs": [],
   "source": [
    "itrain_df = train_df.copy()\n",
    "\n",
    "val_df = train_df.iloc[11000:]\n",
    "\n",
    "train_df = train_df.iloc[:11000]"
   ]
  },
  {
   "cell_type": "code",
   "execution_count": 25,
   "metadata": {
    "collapsed": false,
    "scrolled": true
   },
   "outputs": [],
   "source": [
    "# print model.syn0[model.vocab['10000958'].index].shape\n",
    "# print model.index2word[169]"
   ]
  },
  {
   "cell_type": "code",
   "execution_count": 68,
   "metadata": {
    "collapsed": false
   },
   "outputs": [
    {
     "data": {
      "text/plain": [
       "(4796, 7)"
      ]
     },
     "execution_count": 68,
     "metadata": {},
     "output_type": "execute_result"
    }
   ],
   "source": [
    "val_df.shape"
   ]
  },
  {
   "cell_type": "code",
   "execution_count": 26,
   "metadata": {
    "collapsed": true
   },
   "outputs": [],
   "source": [
    "def get_user_vals(users):\n",
    "    return re.findall(r'[{]*(\\d+).0', users)"
   ]
  },
  {
   "cell_type": "code",
   "execution_count": 27,
   "metadata": {
    "collapsed": false
   },
   "outputs": [],
   "source": [
    "def get_rep(row, model):\n",
    "    tags = row.Tags\n",
    "    tag_id = [str(int(tag2index_dict[t])) for t in tags]\n",
    "    w2v_idx = [model.vocab[t].index for t in tag_id]\n",
    "    t_vectors = model.syn0[w2v_idx]\n",
    "    q = t_vectors.mean(axis=0)\n",
    "    \n",
    "    accepted_user = str(int(row.AcceptedAnswerUserId))\n",
    "    user_vec = {}\n",
    "\n",
    "    output = None\n",
    "    \n",
    "    users = get_user_vals(row.UsersSorted)\n",
    "    for u in users:\n",
    "        user = str(int(u))\n",
    "        op_row = None\n",
    "        \n",
    "        if user in model.vocab:\n",
    "            user_w2v_idx = model.vocab[user].index\n",
    "            user_vector = model.syn0[user_w2v_idx]\n",
    "        else:\n",
    "            user_vector = np.zeros(128)\n",
    "        \n",
    "        if user == accepted_user:\n",
    "            op_row = np.hstack((q, user_vector, 1))\n",
    "        else:\n",
    "            op_row = np.hstack((q, user_vector, 0))\n",
    "            \n",
    "        if output is None:\n",
    "            output = op_row\n",
    "        else:\n",
    "            output = np.vstack((output, op_row))\n",
    "\n",
    "    return output"
   ]
  },
  {
   "cell_type": "code",
   "execution_count": 28,
   "metadata": {
    "collapsed": false
   },
   "outputs": [],
   "source": [
    "def get_accuracy(preds, Y):\n",
    "    pr, tr = [], []\n",
    "    for i in range(0, preds.shape[0] ,5):\n",
    "        pr.append(np.argmax(preds[i:i+5]))\n",
    "        tr.append(np.argmax(Y[i:i+5]))\n",
    "\n",
    "    pr = np.array(pr)\n",
    "    tr = np.array(tr)\n",
    "    \n",
    "    return (pr==tr).sum()* 1. / pr.shape[0] "
   ]
  },
  {
   "cell_type": "code",
   "execution_count": 32,
   "metadata": {
    "collapsed": false
   },
   "outputs": [],
   "source": [
    "def get_mrr(preds, Y):\n",
    "\n",
    "    ranks = []\n",
    "    for i in range(0, preds.shape[0] ,5):\n",
    "        max_idx = np.argmax(Y[i:i+5])\n",
    "        srt = np.argsort(preds[i:i+5],)[::-1]\n",
    "        rank = np.where(srt==max_idx)[0][0] + 1\n",
    "\n",
    "        ranks.append(rank)\n",
    "\n",
    "    return np.mean(1. / np.array(ranks))"
   ]
  },
  {
   "cell_type": "code",
   "execution_count": 29,
   "metadata": {
    "collapsed": false
   },
   "outputs": [],
   "source": [
    "# temp = get_rep(train_df.ix[0], model)"
   ]
  },
  {
   "cell_type": "code",
   "execution_count": null,
   "metadata": {
    "collapsed": false
   },
   "outputs": [],
   "source": []
  },
  {
   "cell_type": "code",
   "execution_count": 30,
   "metadata": {
    "collapsed": false
   },
   "outputs": [],
   "source": [
    "ut_files = [f for f in os.listdir(emb_root) if 'ut' in f]"
   ]
  },
  {
   "cell_type": "code",
   "execution_count": 31,
   "metadata": {
    "collapsed": true
   },
   "outputs": [],
   "source": [
    "uu_files = [f for f in os.listdir(emb_root) if 'uu' in f]"
   ]
  },
  {
   "cell_type": "code",
   "execution_count": 33,
   "metadata": {
    "collapsed": false,
    "scrolled": true
   },
   "outputs": [
    {
     "name": "stdout",
     "output_type": "stream",
     "text": [
      "Loaded ut_p0.25-q0.25.emb\n",
      "\n",
      "................\n",
      "Begin train\n",
      "p0.25; q0.25 : acc - 0.374687239366; mrr - 0.617417292188\n",
      "Loaded ut_p0.25-q0.50.emb\n",
      "\n",
      "................\n",
      "Begin train\n",
      "p0.25; q0.50 : acc - 0.374478732277; mrr - 0.616972477064\n",
      "Loaded ut_p0.25-q1.emb\n",
      "\n",
      "................\n",
      "Begin train\n",
      "p0.25; q1 : acc - 0.388448707256; mrr - 0.626661106478\n",
      "Loaded ut_p0.25-q2.emb\n",
      "\n",
      "................\n",
      "Begin train\n",
      "p0.25; q2 : acc - 0.379482902419; mrr - 0.619596191271\n",
      "Loaded ut_p0.25-q4.emb\n",
      "\n",
      "................\n",
      "Begin train\n",
      "p0.25; q4 : acc - 0.383236030025; mrr - 0.62228940784\n",
      "Loaded ut_p0.50-q0.25.emb\n",
      "\n",
      "................\n",
      "Begin train\n",
      "p0.50; q0.25 : acc - 0.371351125938; mrr - 0.614724075619\n",
      "Loaded ut_p0.50-q0.50.emb\n",
      "\n",
      "................\n",
      "Begin train\n",
      "p0.50; q0.50 : acc - 0.380108423686; mrr - 0.621232971921\n",
      "Loaded ut_p0.50-q1.emb\n",
      "\n",
      "................\n",
      "Begin train\n",
      "p0.50; q1 : acc - 0.376772310259; mrr - 0.617493744787\n",
      "Loaded ut_p0.50-q2.emb\n",
      "\n",
      "................\n",
      "Begin train\n",
      "p0.50; q2 : acc - 0.375312760634; mrr - 0.619363358354\n",
      "Loaded ut_p0.50-q4.emb\n",
      "\n",
      "................\n",
      "Begin train\n",
      "p0.50; q4 : acc - 0.388657214345; mrr - 0.626511676397\n",
      "Loaded ut_p1-q0.25.emb\n",
      "\n",
      "................\n",
      "Begin train\n",
      "p1; q0.25 : acc - 0.377189324437; mrr - 0.6182235196\n",
      "Loaded ut_p1-q0.50.emb\n",
      "\n",
      "................\n",
      "Begin train\n",
      "p1; q0.50 : acc - 0.390742285238; mrr - 0.62761676397\n",
      "Loaded ut_p1-q1.emb\n",
      "\n",
      "................\n",
      "Begin train\n",
      "p1; q1 : acc - 0.39845704754; mrr - 0.632082290798\n",
      "Loaded ut_p1-q2.emb\n",
      "\n",
      "................\n",
      "Begin train\n",
      "p1; q2 : acc - 0.389491242702; mrr - 0.626890464276\n",
      "Loaded ut_p1-q4.emb\n",
      "\n",
      "................\n",
      "Begin train\n",
      "p1; q4 : acc - 0.392410341952; mrr - 0.628120656102\n",
      "Loaded ut_p2-q0.25.emb\n",
      "\n",
      "................\n",
      "Begin train\n",
      "p2; q0.25 : acc - 0.37364470392; mrr - 0.617347789825\n",
      "Loaded ut_p2-q0.50.emb\n",
      "\n",
      "................\n",
      "Begin train\n",
      "p2; q0.50 : acc - 0.389908256881; mrr - 0.624245899361\n",
      "Loaded ut_p2-q1.emb\n",
      "\n",
      "................\n",
      "Begin train\n",
      "p2; q1 : acc - 0.388657214345; mrr - 0.623846260773\n",
      "Loaded ut_p2-q2.emb\n",
      "\n",
      "................\n",
      "Begin train\n",
      "p2; q2 : acc - 0.385946622185; mrr - 0.623210314151\n",
      "Loaded ut_p2-q4.emb\n",
      "\n",
      "................\n",
      "Begin train\n",
      "p2; q4 : acc - 0.379691409508; mrr - 0.620496246872\n",
      "Loaded ut_p4-q0.25.emb\n",
      "\n",
      "................\n",
      "Begin train\n",
      "p4; q0.25 : acc - 0.395120934112; mrr - 0.629771337225\n",
      "Loaded ut_p4-q0.50.emb\n",
      "\n",
      "................\n",
      "Begin train\n",
      "p4; q0.50 : acc - 0.38448707256; mrr - 0.623387545177\n",
      "Loaded ut_p4-q1.emb\n",
      "\n",
      "................\n",
      "Begin train\n",
      "p4; q1 : acc - 0.38740617181; mrr - 0.624596886294\n",
      "Loaded ut_p4-q2.emb\n",
      "\n",
      "................\n",
      "Begin train\n",
      "p4; q2 : acc - 0.379899916597; mrr - 0.619283430637\n",
      "Loaded ut_p4-q4.emb\n",
      "\n",
      "................\n",
      "Begin train\n",
      "p4; q4 : acc - 0.374478732277; mrr - 0.617358215179\n"
     ]
    }
   ],
   "source": [
    "for emb_file in ut_files:\n",
    "    model = Word2Vec.load_word2vec_format(os.path.join(emb_root, emb_file), binary=False)\n",
    "    print 'Loaded {}\\n'.format(emb_file)\n",
    "    \n",
    "    train_ds, val_ds = [], []\n",
    "    for indx, row in train_df.iterrows():\n",
    "        temp_set = get_rep(row, model)\n",
    "        train_ds.append(temp_set)\n",
    "        \n",
    "        if indx % 1000 == 0:\n",
    "            sys.stdout.write('.')\n",
    "            sys.stdout.flush()\n",
    "\n",
    "    train_ds = np.vstack(train_ds)\n",
    "    \n",
    "    for indx, row in val_df.iterrows():\n",
    "        temp_set = get_rep(row, model)\n",
    "        val_ds.append(temp_set)\n",
    "        \n",
    "        if indx % 1000 == 0:\n",
    "            sys.stdout.write('.')\n",
    "            sys.stdout.flush()\n",
    "\n",
    "    val_ds = np.vstack(val_ds)\n",
    "    \n",
    "    print '\\nBegin train'\n",
    "    clf = LogisticRegression(n_jobs=-1)\n",
    "    clf.fit(train_ds[:, :256], train_ds[:, 256])\n",
    "    preds = clf.predict_proba(val_ds[:, :256])[:, 1]\n",
    "    score = get_accuracy(preds, val_ds[:, 256])\n",
    "    mrr = get_mrr(preds, val_ds[:, 256])\n",
    "\n",
    "    p, q = emb_file.replace('.emb', '').replace('ut_', '').split('-')\n",
    "    print '{0}; {1} : acc - {2}; mrr - {3}'.format(p, q, score, mrr)"
   ]
  },
  {
   "cell_type": "code",
   "execution_count": null,
   "metadata": {
    "collapsed": false
   },
   "outputs": [],
   "source": []
  },
  {
   "cell_type": "code",
   "execution_count": null,
   "metadata": {
    "collapsed": false
   },
   "outputs": [],
   "source": []
  },
  {
   "cell_type": "code",
   "execution_count": 40,
   "metadata": {
    "collapsed": false
   },
   "outputs": [
    {
     "data": {
      "text/plain": [
       "<matplotlib.text.Text at 0x1a4ba2ed0>"
      ]
     },
     "execution_count": 40,
     "metadata": {},
     "output_type": "execute_result"
    },
    {
     "data": {
      "image/png": "[encoded data removed]",
      "text/plain": [
       "<matplotlib.figure.Figure at 0x105c3fd90>"
      ]
     },
     "metadata": {},
     "output_type": "display_data"
    }
   ],
   "source": [
    "perf_df = pd.DataFrame([(0.25, 0.25, 0.374687239366, 0.617417292188), (0.25, 0.50, 0.374478732277, 0.616972477064), \n",
    "                        (0.25, 1, 0.388448707256, 0.626661106478), (0.25, 2, 0.379482902419, 0.619596191271), \n",
    "                        (0.25, 4, 0.383236030025, 0.62228940784), (0.50, 0.25, 0.371351125938, 0.614724075619), \n",
    "                        (0.50, 0.50, 0.380108423686, 0.621232971921), (0.50, 1, 0.376772310259, 0.617493744787), \n",
    "                        (0.50, 2, 0.375312760634, 0.619363358354), (0.50, 4, 0.388657214345, 0.626511676397), \n",
    "                        (1, 0.25, 0.377189324437, 0.6182235196), (1, 0.50, 0.390742285238, 0.62761676397), \n",
    "                        (1, 1, 0.39845704754, 0.632082290798), (1, 2, 0.389491242702, 0.626890464276), \n",
    "                        (1, 4, 0.392410341952, 0.628120656102), (2, 0.25, 0.37364470392, 0.617347789825), \n",
    "                        (2, 0.50, 0.389908256881, 0.624245899361), (2, 1, 0.388657214345, 0.623846260773), \n",
    "                        (2, 2, 0.385946622185, 0.623210314151), (2, 4, 0.379691409508, 0.620496246872), \n",
    "                        (4, 0.25, 0.395120934112, 0.629771337225), (4, 0.50, 0.38448707256, 0.623387545177), \n",
    "                        (4, 1, 0.38740617181, 0.624596886294), (4, 2, 0.379899916597, 0.619283430637), \n",
    "                        (4, 4, 0.374478732277, 0.617358215179)])\n",
    "\n",
    "perf_df.columns = ['p', 'q', 'Accuracy', 'Mrr']\n",
    "ax = sns.heatmap(perf_df.pivot('p', 'q', 'Mrr'))\n",
    "plt.title('Grid search for parameters (p, q) of user-tag vectors')"
   ]
  },
  {
   "cell_type": "code",
   "execution_count": null,
   "metadata": {
    "collapsed": true
   },
   "outputs": [],
   "source": []
  },
  {
   "cell_type": "code",
   "execution_count": null,
   "metadata": {
    "collapsed": false
   },
   "outputs": [],
   "source": []
  },
  {
   "cell_type": "code",
   "execution_count": null,
   "metadata": {
    "collapsed": true
   },
   "outputs": [],
   "source": []
  },
  {
   "cell_type": "code",
   "execution_count": 41,
   "metadata": {
    "collapsed": false
   },
   "outputs": [],
   "source": [
    "ut_model = Word2Vec.load_word2vec_format(os.path.join(emb_root, 'ut_p1-q1.emb'), binary=False)"
   ]
  },
  {
   "cell_type": "code",
   "execution_count": 42,
   "metadata": {
    "collapsed": false
   },
   "outputs": [],
   "source": [
    "def get_rep_uu(row, ut_model, uu_model):\n",
    "    tags = row.Tags\n",
    "    tag_id = [str(int(tag2index_dict[t])) for t in tags if t in tag2index_dict]\n",
    "    w2v_idx = [ut_model.vocab[t].index for t in tag_id if t in ut_model.vocab]\n",
    "    t_vectors = ut_model.syn0[w2v_idx]\n",
    "    q = t_vectors.mean(axis=0)\n",
    "    \n",
    "    accepted_user = str(int(row.AcceptedAnswerUserId))\n",
    "    user_vec = {}\n",
    "\n",
    "    output = None\n",
    "    \n",
    "    users = get_user_vals(row.UsersSorted)\n",
    "    for u in users:\n",
    "        user = str(int(u))\n",
    "        op_row = None\n",
    "        \n",
    "        if user in ut_model.vocab:\n",
    "            user_w2v_idx = ut_model.vocab[user].index\n",
    "            user_vector = ut_model.syn0[user_w2v_idx]\n",
    "        else:\n",
    "#             print user\n",
    "            user_vector = np.zeros(128)\n",
    "            \n",
    "        if user in uu_model.vocab:\n",
    "            user_uu_w2v_idx = uu_model.vocab[user].index\n",
    "            user_uu_vector = uu_model.syn0[user_uu_w2v_idx]\n",
    "        else:\n",
    "#             print user, users\n",
    "            user_uu_vector = np.zeros(128)\n",
    "        \n",
    "        if user == accepted_user:\n",
    "            op_row = np.hstack((q, user_vector, user_uu_vector, 1))\n",
    "        else:\n",
    "            op_row = np.hstack((q, user_vector, user_uu_vector, 0))\n",
    "            \n",
    "        if output is None:\n",
    "            output = op_row\n",
    "        else:\n",
    "            output = np.vstack((output, op_row))\n",
    "\n",
    "    return output"
   ]
  },
  {
   "cell_type": "code",
   "execution_count": 43,
   "metadata": {
    "collapsed": false,
    "scrolled": true
   },
   "outputs": [],
   "source": [
    "# get_rep_uu(train_df.ix[0], ut_model, uu_model).shape"
   ]
  },
  {
   "cell_type": "code",
   "execution_count": 44,
   "metadata": {
    "collapsed": true
   },
   "outputs": [],
   "source": [
    "# for indx, row in train_df.iterrows():\n",
    "#     temp_set = get_rep_uu(train_df.ix[0], ut_model, uu_model)"
   ]
  },
  {
   "cell_type": "code",
   "execution_count": null,
   "metadata": {
    "collapsed": true
   },
   "outputs": [],
   "source": []
  },
  {
   "cell_type": "code",
   "execution_count": null,
   "metadata": {
    "collapsed": true
   },
   "outputs": [],
   "source": []
  },
  {
   "cell_type": "code",
   "execution_count": 45,
   "metadata": {
    "collapsed": false,
    "scrolled": false
   },
   "outputs": [
    {
     "name": "stdout",
     "output_type": "stream",
     "text": [
      "Loaded uu_p0.25-q0.25.emb\n",
      "\n",
      "................\n",
      "Begin train\n",
      "uu_p0.25; q0.25 : acc - 0.395954962469; mrr - 0.63320822908\n",
      "Loaded uu_p0.25-q0.50.emb\n",
      "\n",
      "................\n",
      "Begin train\n",
      "uu_p0.25; q0.50 : acc - 0.400542118432; mrr - 0.63320822908\n",
      "Loaded uu_p0.25-q1.emb\n",
      "\n",
      "................\n",
      "Begin train\n",
      "uu_p0.25; q1 : acc - 0.394495412844; mrr - 0.629660133445\n",
      "Loaded uu_p0.25-q2.emb\n",
      "\n",
      "................\n",
      "Begin train\n",
      "uu_p0.25; q2 : acc - 0.386989157631; mrr - 0.6260911871\n",
      "Loaded uu_p0.25-q4.emb\n",
      "\n",
      "................\n",
      "Begin train\n",
      "uu_p0.25; q4 : acc - 0.390742285238; mrr - 0.629510703364\n",
      "Loaded uu_p0.50-q0.25.emb\n",
      "\n",
      "................\n",
      "Begin train\n",
      "uu_p0.50; q0.25 : acc - 0.39553794829; mrr - 0.630643591882\n",
      "Loaded uu_p0.50-q0.50.emb\n",
      "\n",
      "................\n",
      "Begin train\n",
      "uu_p0.50; q0.50 : acc - 0.393452877398; mrr - 0.629138865721\n",
      "Loaded uu_p0.50-q1.emb\n",
      "\n",
      "................\n",
      "Begin train\n",
      "uu_p0.50; q1 : acc - 0.395329441201; mrr - 0.630925076453\n",
      "Loaded uu_p0.50-q2.emb\n",
      "\n",
      "................\n",
      "Begin train\n",
      "uu_p0.50; q2 : acc - 0.397206005004; mrr - 0.631508896302\n",
      "Loaded uu_p0.50-q4.emb\n",
      "\n",
      "................\n",
      "Begin train\n",
      "uu_p0.50; q4 : acc - 0.393452877398; mrr - 0.628979010286\n",
      "Loaded uu_p1-q0.25.emb\n",
      "\n",
      "................\n",
      "Begin train\n",
      "uu_p1; q0.25 : acc - 0.397206005004; mrr - 0.63245412844\n",
      "Loaded uu_p1-q0.50.emb\n",
      "\n",
      "................\n",
      "Begin train\n",
      "uu_p1; q0.50 : acc - 0.391159299416; mrr - 0.628037253267\n",
      "Loaded uu_p1-q1.emb\n",
      "\n",
      "................\n",
      "Begin train\n",
      "uu_p1; q1 : acc - 0.389491242702; mrr - 0.627519460662\n",
      "Loaded uu_p1-q2.emb\n",
      "\n",
      "................\n",
      "Begin train\n",
      "uu_p1; q2 : acc - 0.393452877398; mrr - 0.628676675007\n",
      "Loaded uu_p1-q4.emb\n",
      "\n",
      "................\n",
      "Begin train\n",
      "uu_p1; q4 : acc - 0.395954962469; mrr - 0.629952043369\n",
      "Loaded uu_p2-q0.25.emb\n",
      "\n",
      "................\n",
      "Begin train\n",
      "uu_p2; q0.25 : acc - 0.389699749791; mrr - 0.627575062552\n",
      "Loaded uu_p2-q0.50.emb\n",
      "\n",
      "................\n",
      "Begin train\n",
      "uu_p2; q0.50 : acc - 0.394286905755; mrr - 0.630202251877\n",
      "Loaded uu_p2-q1.emb\n",
      "\n",
      "................\n",
      "Begin train\n",
      "uu_p2; q1 : acc - 0.396163469558; mrr - 0.631157909369\n",
      "Loaded uu_p2-q2.emb\n",
      "\n",
      "................\n",
      "Begin train\n",
      "uu_p2; q2 : acc - 0.38740617181; mrr - 0.626761884904\n",
      "Loaded uu_p2-q4.emb\n",
      "\n",
      "................\n",
      "Begin train\n",
      "uu_p2; q4 : acc - 0.396163469558; mrr - 0.630970252989\n",
      "Loaded uu_p4-q0.25.emb\n",
      "\n",
      "................\n",
      "Begin train\n",
      "uu_p4; q0.25 : acc - 0.397623019183; mrr - 0.632593133167\n",
      "Loaded uu_p4-q0.50.emb\n",
      "\n",
      "................\n",
      "Begin train\n",
      "uu_p4; q0.50 : acc - 0.391159299416; mrr - 0.628023352794\n",
      "Loaded uu_p4-q1.emb\n",
      "\n",
      "................\n",
      "Begin train\n",
      "uu_p4; q1 : acc - 0.393869891576; mrr - 0.628753127606\n",
      "Loaded uu_p4-q2.emb\n",
      "\n",
      "................\n",
      "Begin train\n",
      "uu_p4; q2 : acc - 0.396163469558; mrr - 0.630483736447\n",
      "Loaded uu_p4-q4.emb\n",
      "\n",
      "................\n",
      "Begin train\n",
      "uu_p4; q4 : acc - 0.390742285238; mrr - 0.626268418126\n"
     ]
    }
   ],
   "source": [
    "for emb_file in uu_files:\n",
    "#     model = Word2Vec.load_word2vec_format(os.path.join(emb_root, emb_file), binary=False)\n",
    "    uu_model = Word2Vec.load_word2vec_format(os.path.join(emb_root, emb_file), binary=False)\n",
    "    print 'Loaded {}\\n'.format(emb_file)\n",
    "    \n",
    "    train_ds, val_ds = [], []\n",
    "    for indx, row in train_df.iterrows():\n",
    "        temp_set = get_rep_uu(row, ut_model, uu_model)\n",
    "        train_ds.append(temp_set)\n",
    "        \n",
    "        if indx % 1000 == 0:\n",
    "            sys.stdout.write('.')\n",
    "            sys.stdout.flush()\n",
    "\n",
    "    train_ds = np.vstack(train_ds)\n",
    "    \n",
    "    for indx, row in val_df.iterrows():\n",
    "        temp_set = get_rep_uu(row, ut_model, uu_model)\n",
    "        val_ds.append(temp_set)\n",
    "        \n",
    "        if indx % 1000 == 0:\n",
    "            sys.stdout.write('.')\n",
    "            sys.stdout.flush()\n",
    "\n",
    "    val_ds = np.vstack(val_ds)\n",
    "    \n",
    "    print '\\nBegin train'\n",
    "    clf = LogisticRegression(n_jobs=-1)\n",
    "    clf.fit(train_ds[:, :384], train_ds[:, 384])\n",
    "    preds = clf.predict_proba(val_ds[:, :384])[:, 1]\n",
    "    score = get_accuracy(preds, val_ds[:, 384])\n",
    "    mrr = get_mrr(preds, val_ds[:, 384])\n",
    "\n",
    "    p, q = emb_file.replace('.emb', '').replace('ut_', '').split('-')\n",
    "    print '{0}; {1} : acc - {2}; mrr - {3}'.format(p, q, score, mrr)"
   ]
  },
  {
   "cell_type": "code",
   "execution_count": null,
   "metadata": {
    "collapsed": true
   },
   "outputs": [],
   "source": []
  },
  {
   "cell_type": "code",
   "execution_count": null,
   "metadata": {
    "collapsed": true
   },
   "outputs": [],
   "source": []
  },
  {
   "cell_type": "code",
   "execution_count": 46,
   "metadata": {
    "collapsed": false
   },
   "outputs": [
    {
     "data": {
      "text/plain": [
       "<matplotlib.text.Text at 0x1f4aa5610>"
      ]
     },
     "execution_count": 46,
     "metadata": {},
     "output_type": "execute_result"
    },
    {
     "data": {
      "image/png": "[encoded data removed]",
      "text/plain": [
       "<matplotlib.figure.Figure at 0x285d74dd0>"
      ]
     },
     "metadata": {},
     "output_type": "display_data"
    }
   ],
   "source": [
    "perf_df = pd.DataFrame([(0.25, 0.25, 0.395954962469, 0.63320822908), (0.25, 0.50, 0.400542118432, 0.63320822908), \n",
    "                        (0.25, 1, 0.394495412844, 0.629660133445), (0.25, 2, 0.386989157631, 0.6260911871), \n",
    "                        (0.25, 4, 0.390742285238, 0.629510703364), (0.50, 0.25, 0.39553794829, 0.630643591882), \n",
    "                        (0.50, 0.50, 0.393452877398, 0.629138865721), (0.50, 1, 0.395329441201, 0.630925076453), \n",
    "                        (0.50, 2, 0.397206005004, 0.631508896302), (0.50, 4, 0.393452877398, 0.628979010286), \n",
    "                        (1, 0.25, 0.397206005004, 0.63245412844), (1, 0.50, 0.391159299416, 0.628037253267), \n",
    "                        (1, 1, 0.389491242702, 0.627519460662), (1, 2, 0.393452877398, 0.628676675007), \n",
    "                        (1, 4, 0.395954962469, 0.629952043369), (2, 0.25, 0.389699749791, 0.627575062552), \n",
    "                        (2, 0.50, 0.394286905755, 0.630202251877), (2, 1, 0.396163469558, 0.631157909369), \n",
    "                        (2, 2, 0.38740617181, 0.626761884904), (2, 4, 0.396163469558, 0.630970252989), \n",
    "                        (4, 0.25, 0.397623019183, 0.632593133167), (4, 0.50, 0.391159299416, 0.628023352794), \n",
    "                        (4, 1, 0.393869891576, 0.628753127606), (4, 2, 0.396163469558, 0.630483736447), \n",
    "                        (4, 4, 0.390742285238, 0.626268418126)])\n",
    "\n",
    "perf_df.columns = ['p', 'q', 'Accuracy', 'Mrr']\n",
    "ax = sns.heatmap(perf_df.pivot('p', 'q', 'Mrr'))\n",
    "plt.title('Grid search for parameters (p, q) of user-user vectors')"
   ]
  },
  {
   "cell_type": "code",
   "execution_count": null,
   "metadata": {
    "collapsed": true
   },
   "outputs": [],
   "source": []
  },
  {
   "cell_type": "markdown",
   "metadata": {},
   "source": [
    "## Final perf"
   ]
  },
  {
   "cell_type": "code",
   "execution_count": 47,
   "metadata": {
    "collapsed": true
   },
   "outputs": [],
   "source": [
    "ut_model = Word2Vec.load_word2vec_format(os.path.join(emb_root, 'ut_p1-q1.emb'), binary=False)\n",
    "\n",
    "uu_model = Word2Vec.load_word2vec_format(os.path.join(emb_root, 'uu_p0.25-q0.25.emb'), binary=False)"
   ]
  },
  {
   "cell_type": "code",
   "execution_count": 69,
   "metadata": {
    "collapsed": false
   },
   "outputs": [
    {
     "name": "stdout",
     "output_type": "stream",
     "text": [
      "................\n",
      "...........\n",
      "....."
     ]
    }
   ],
   "source": [
    "itrain_ds, train_ds, val_ds = [], [], []\n",
    "\n",
    "for indx, row in itrain_df.iterrows():\n",
    "    temp_set = get_rep_uu(row, ut_model, uu_model)\n",
    "    itrain_ds.append(temp_set)\n",
    "\n",
    "    if indx % 1000 == 0:\n",
    "        sys.stdout.write('.')\n",
    "        sys.stdout.flush()\n",
    "\n",
    "itrain_ds = np.vstack(itrain_ds)\n",
    "\n",
    "print ''\n",
    "\n",
    "for indx, row in train_df.iterrows():\n",
    "    temp_set = get_rep_uu(row, ut_model, uu_model)\n",
    "    train_ds.append(temp_set)\n",
    "\n",
    "    if indx % 1000 == 0:\n",
    "        sys.stdout.write('.')\n",
    "        sys.stdout.flush()\n",
    "\n",
    "train_ds = np.vstack(train_ds)\n",
    "\n",
    "print ''\n",
    "\n",
    "for indx, row in val_df.iterrows():\n",
    "    temp_set = get_rep_uu(row, ut_model, uu_model)\n",
    "    val_ds.append(temp_set)\n",
    "\n",
    "    if indx % 1000 == 0:\n",
    "        sys.stdout.write('.')\n",
    "        sys.stdout.flush()\n",
    "\n",
    "val_ds = np.vstack(val_ds)"
   ]
  },
  {
   "cell_type": "code",
   "execution_count": 71,
   "metadata": {
    "collapsed": false
   },
   "outputs": [
    {
     "name": "stdout",
     "output_type": "stream",
     "text": [
      "....."
     ]
    },
    {
     "data": {
      "text/plain": [
       "(20730, 385)"
      ]
     },
     "execution_count": 71,
     "metadata": {},
     "output_type": "execute_result"
    }
   ],
   "source": [
    "test_ds = []\n",
    "for indx, row in test_df.iterrows():\n",
    "    temp_set = get_rep_uu(row, ut_model, uu_model)\n",
    "    test_ds.append(temp_set)\n",
    "\n",
    "    if indx % 1000 == 0:\n",
    "        sys.stdout.write('.')\n",
    "        sys.stdout.flush()\n",
    "\n",
    "test_ds = np.vstack(test_ds)\n",
    "\n",
    "test_ds.shape"
   ]
  },
  {
   "cell_type": "code",
   "execution_count": null,
   "metadata": {
    "collapsed": true
   },
   "outputs": [],
   "source": []
  },
  {
   "cell_type": "markdown",
   "metadata": {},
   "source": [
    "## LR"
   ]
  },
  {
   "cell_type": "code",
   "execution_count": 73,
   "metadata": {
    "collapsed": false
   },
   "outputs": [
    {
     "data": {
      "text/plain": [
       "LogisticRegression(C=1.0, class_weight=None, dual=False, fit_intercept=True,\n",
       "          intercept_scaling=1, max_iter=100, multi_class='ovr', n_jobs=-1,\n",
       "          penalty='l2', random_state=None, solver='liblinear', tol=0.0001,\n",
       "          verbose=0, warm_start=False)"
      ]
     },
     "execution_count": 73,
     "metadata": {},
     "output_type": "execute_result"
    }
   ],
   "source": [
    "clf = LogisticRegression(n_jobs=-1)\n",
    "clf.fit(train_ds[:, :384], train_ds[:, 384])\n",
    "# preds = clf.predict_proba(val_ds[:, :384])[:, 1]\n",
    "# print get_accuracy(preds, val_ds[:, 384])\n",
    "# print get_mrr(preds, val_ds[:, 384])"
   ]
  },
  {
   "cell_type": "code",
   "execution_count": 74,
   "metadata": {
    "collapsed": false
   },
   "outputs": [
    {
     "name": "stdout",
     "output_type": "stream",
     "text": [
      "Train scores\n",
      "0.429818181818 0.653672727273\n"
     ]
    }
   ],
   "source": [
    "preds = clf.predict_proba(train_ds[:, :384])[:, 1]\n",
    "score = get_accuracy(preds, train_ds[:, 384])\n",
    "mrr = get_mrr(preds, train_ds[:, 384])\n",
    "print 'Train scores'\n",
    "print score, mrr"
   ]
  },
  {
   "cell_type": "code",
   "execution_count": 75,
   "metadata": {
    "collapsed": false
   },
   "outputs": [
    {
     "name": "stdout",
     "output_type": "stream",
     "text": [
      "0.395954962469\n",
      "0.63320822908\n"
     ]
    }
   ],
   "source": [
    "preds = clf.predict_proba(val_ds[:, :384])[:, 1]\n",
    "print get_accuracy(preds, val_ds[:, 384])\n",
    "print get_mrr(preds, val_ds[:, 384])"
   ]
  },
  {
   "cell_type": "code",
   "execution_count": null,
   "metadata": {
    "collapsed": true
   },
   "outputs": [],
   "source": []
  },
  {
   "cell_type": "markdown",
   "metadata": {},
   "source": [
    "## GBT"
   ]
  },
  {
   "cell_type": "code",
   "execution_count": 77,
   "metadata": {
    "collapsed": false
   },
   "outputs": [
    {
     "name": "stdout",
     "output_type": "stream",
     "text": [
      "      Iter       Train Loss   Remaining Time \n",
      "         1           0.9852            2.73m\n",
      "         2           0.9722            2.68m\n",
      "         3           0.9605            2.63m\n",
      "         4           0.9511            2.62m\n",
      "         5           0.9424            2.63m\n",
      "         6           0.9354            2.62m\n",
      "         7           0.9289            2.61m\n",
      "         8           0.9232            2.57m\n",
      "         9           0.9181            2.55m\n",
      "        10           0.9137            2.52m\n",
      "        11           0.9099            2.50m\n",
      "        12           0.9063            2.48m\n",
      "        13           0.9031            2.45m\n",
      "        14           0.9002            2.42m\n",
      "        15           0.8975            2.40m\n",
      "        16           0.8951            2.37m\n",
      "        17           0.8930            2.34m\n",
      "        18           0.8909            2.31m\n",
      "        19           0.8888            2.29m\n",
      "        20           0.8867            2.25m\n",
      "        21           0.8850            2.23m\n",
      "        22           0.8833            2.20m\n",
      "        23           0.8819            2.18m\n",
      "        24           0.8804            2.15m\n",
      "        25           0.8789            2.12m\n",
      "        26           0.8777            2.09m\n",
      "        27           0.8765            2.06m\n",
      "        28           0.8753            2.04m\n",
      "        29           0.8744            2.01m\n",
      "        30           0.8734            1.98m\n",
      "        31           0.8725            1.95m\n",
      "        32           0.8715            1.92m\n",
      "        33           0.8705            1.89m\n",
      "        34           0.8696            1.86m\n",
      "        35           0.8687            1.83m\n",
      "        36           0.8678            1.80m\n",
      "        37           0.8669            1.78m\n",
      "        38           0.8661            1.75m\n",
      "        39           0.8652            1.72m\n",
      "        40           0.8646            1.69m\n",
      "        41           0.8639            1.66m\n",
      "        42           0.8632            1.63m\n",
      "        43           0.8627            1.60m\n",
      "        44           0.8621            1.58m\n",
      "        45           0.8615            1.55m\n",
      "        46           0.8609            1.52m\n",
      "        47           0.8603            1.49m\n",
      "        48           0.8596            1.46m\n",
      "        49           0.8590            1.43m\n",
      "        50           0.8584            1.41m\n",
      "        51           0.8577            1.38m\n",
      "        52           0.8571            1.35m\n",
      "        53           0.8566            1.32m\n",
      "        54           0.8560            1.29m\n",
      "        55           0.8555            1.26m\n",
      "        56           0.8548            1.23m\n",
      "        57           0.8542            1.20m\n",
      "        58           0.8537            1.18m\n",
      "        59           0.8532            1.15m\n",
      "        60           0.8525            1.12m\n",
      "        61           0.8521            1.09m\n",
      "        62           0.8515            1.06m\n",
      "        63           0.8511            1.03m\n",
      "        64           0.8506            1.01m\n",
      "        65           0.8501           58.63s\n",
      "        66           0.8496           56.96s\n",
      "        67           0.8491           55.26s\n",
      "        68           0.8486           53.59s\n",
      "        69           0.8481           51.94s\n",
      "        70           0.8477           50.26s\n",
      "        71           0.8473           48.57s\n",
      "        72           0.8469           46.87s\n",
      "        73           0.8465           45.17s\n",
      "        74           0.8461           43.47s\n",
      "        75           0.8456           41.81s\n",
      "        76           0.8452           40.11s\n",
      "        77           0.8448           38.44s\n",
      "        78           0.8444           36.73s\n",
      "        79           0.8439           35.06s\n",
      "        80           0.8435           33.38s\n",
      "        81           0.8432           31.73s\n",
      "        82           0.8428           30.04s\n",
      "        83           0.8423           28.38s\n",
      "        84           0.8419           26.70s\n",
      "        85           0.8414           25.03s\n",
      "        86           0.8410           23.38s\n",
      "        87           0.8405           21.72s\n",
      "        88           0.8401           20.07s\n",
      "        89           0.8398           18.39s\n",
      "        90           0.8394           16.72s\n",
      "        91           0.8392           15.03s\n",
      "        92           0.8387           13.36s\n",
      "        93           0.8383           11.69s\n",
      "        94           0.8379           10.02s\n",
      "        95           0.8375            8.35s\n",
      "        96           0.8370            6.68s\n",
      "        97           0.8367            5.01s\n",
      "        98           0.8363            3.34s\n",
      "        99           0.8360            1.67s\n",
      "       100           0.8357            0.00s\n"
     ]
    },
    {
     "data": {
      "text/plain": [
       "GradientBoostingClassifier(criterion='friedman_mse', init=None,\n",
       "              learning_rate=0.1, loss='deviance', max_depth=3,\n",
       "              max_features=None, max_leaf_nodes=None,\n",
       "              min_impurity_split=1e-07, min_samples_leaf=1,\n",
       "              min_samples_split=2, min_weight_fraction_leaf=0.0,\n",
       "              n_estimators=100, presort='auto', random_state=None,\n",
       "              subsample=1.0, verbose=3, warm_start=False)"
      ]
     },
     "execution_count": 77,
     "metadata": {},
     "output_type": "execute_result"
    }
   ],
   "source": [
    "clf = GradientBoostingClassifier(verbose=3)\n",
    "clf.fit(train_ds[:, :384], train_ds[:, 384])\n",
    "# preds = clf.predict_proba(val_ds[:, :384])[:, 1]\n",
    "# print get_accuracy(preds, val_ds[:, 384])\n",
    "# print get_mrr(preds, val_ds[:, 384])"
   ]
  },
  {
   "cell_type": "code",
   "execution_count": 78,
   "metadata": {
    "collapsed": false
   },
   "outputs": [
    {
     "name": "stdout",
     "output_type": "stream",
     "text": [
      "Train scores\n",
      "0.476 0.685221212121\n"
     ]
    }
   ],
   "source": [
    "preds = clf.predict_proba(train_ds[:, :384])[:, 1]\n",
    "score = get_accuracy(preds, train_ds[:, 384])\n",
    "mrr = get_mrr(preds, train_ds[:, 384])\n",
    "print 'Train scores'\n",
    "print score, mrr"
   ]
  },
  {
   "cell_type": "code",
   "execution_count": 79,
   "metadata": {
    "collapsed": false
   },
   "outputs": [
    {
     "name": "stdout",
     "output_type": "stream",
     "text": [
      "0.396997497915\n",
      "0.631071031415\n"
     ]
    }
   ],
   "source": [
    "preds = clf.predict_proba(val_ds[:, :384])[:, 1]\n",
    "print get_accuracy(preds, val_ds[:, 384])\n",
    "print get_mrr(preds, val_ds[:, 384])"
   ]
  },
  {
   "cell_type": "code",
   "execution_count": 81,
   "metadata": {
    "collapsed": false
   },
   "outputs": [],
   "source": [
    "# itrain_ds.shape"
   ]
  },
  {
   "cell_type": "code",
   "execution_count": 82,
   "metadata": {
    "collapsed": false
   },
   "outputs": [
    {
     "name": "stdout",
     "output_type": "stream",
     "text": [
      "      Iter       Train Loss   Remaining Time \n",
      "         1           0.9852            4.18m\n",
      "         2           0.9721            4.16m\n",
      "         3           0.9612            4.11m\n",
      "         4           0.9517            4.08m\n",
      "         5           0.9432            4.07m\n",
      "         6           0.9361            4.03m\n",
      "         7           0.9299            3.99m\n",
      "         8           0.9245            3.96m\n",
      "         9           0.9196            3.92m\n",
      "        10           0.9153            3.89m\n",
      "        11           0.9115            3.85m\n",
      "        12           0.9082            3.80m\n",
      "        13           0.9048            3.76m\n",
      "        14           0.9020            3.71m\n",
      "        15           0.8995            3.67m\n",
      "        16           0.8972            3.62m\n",
      "        17           0.8950            3.57m\n",
      "        18           0.8928            3.52m\n",
      "        19           0.8910            3.49m\n",
      "        20           0.8892            3.45m\n",
      "        21           0.8875            3.42m\n",
      "        22           0.8862            3.37m\n",
      "        23           0.8848            3.33m\n",
      "        24           0.8836            3.29m\n",
      "        25           0.8824            3.24m\n",
      "        26           0.8813            3.19m\n",
      "        27           0.8804            3.15m\n",
      "        28           0.8793            3.10m\n",
      "        29           0.8782            3.05m\n",
      "        30           0.8773            3.01m\n",
      "        31           0.8764            2.96m\n",
      "        32           0.8755            2.91m\n",
      "        33           0.8747            2.87m\n",
      "        34           0.8740            2.82m\n",
      "        35           0.8731            2.78m\n",
      "        36           0.8724            2.73m\n",
      "        37           0.8716            2.69m\n",
      "        38           0.8710            2.65m\n",
      "        39           0.8703            2.61m\n",
      "        40           0.8696            2.56m\n",
      "        41           0.8690            2.52m\n",
      "        42           0.8684            2.48m\n",
      "        43           0.8675            2.43m\n",
      "        44           0.8669            2.39m\n",
      "        45           0.8662            2.35m\n",
      "        46           0.8658            2.31m\n",
      "        47           0.8652            2.26m\n",
      "        48           0.8647            2.22m\n",
      "        49           0.8641            2.18m\n",
      "        50           0.8635            2.13m\n",
      "        51           0.8630            2.09m\n",
      "        52           0.8625            2.05m\n",
      "        53           0.8621            2.01m\n",
      "        54           0.8615            1.97m\n",
      "        55           0.8609            1.92m\n",
      "        56           0.8604            1.88m\n",
      "        57           0.8599            1.84m\n",
      "        58           0.8594            1.80m\n",
      "        59           0.8590            1.76m\n",
      "        60           0.8585            1.72m\n",
      "        61           0.8581            1.67m\n",
      "        62           0.8576            1.63m\n",
      "        63           0.8571            1.59m\n",
      "        64           0.8567            1.55m\n",
      "        65           0.8563            1.50m\n",
      "        66           0.8559            1.46m\n",
      "        67           0.8554            1.42m\n",
      "        68           0.8549            1.37m\n",
      "        69           0.8544            1.33m\n",
      "        70           0.8540            1.29m\n",
      "        71           0.8537            1.25m\n",
      "        72           0.8533            1.21m\n",
      "        73           0.8530            1.16m\n",
      "        74           0.8525            1.12m\n",
      "        75           0.8522            1.08m\n",
      "        76           0.8518            1.04m\n",
      "        77           0.8514           59.67s\n",
      "        78           0.8510           57.14s\n",
      "        79           0.8506           54.60s\n",
      "        80           0.8503           52.02s\n",
      "        81           0.8498           49.43s\n",
      "        82           0.8495           46.84s\n",
      "        83           0.8492           44.22s\n",
      "        84           0.8488           41.63s\n",
      "        85           0.8485           39.04s\n",
      "        86           0.8483           36.44s\n",
      "        87           0.8479           33.86s\n",
      "        88           0.8476           31.26s\n",
      "        89           0.8472           28.67s\n",
      "        90           0.8468           26.07s\n",
      "        91           0.8465           23.48s\n",
      "        92           0.8462           20.87s\n",
      "        93           0.8458           18.26s\n",
      "        94           0.8455           15.66s\n",
      "        95           0.8452           13.06s\n",
      "        96           0.8449           10.45s\n",
      "        97           0.8447            7.83s\n",
      "        98           0.8444            5.22s\n",
      "        99           0.8441            2.61s\n",
      "       100           0.8438            0.00s\n"
     ]
    },
    {
     "data": {
      "text/plain": [
       "GradientBoostingClassifier(criterion='friedman_mse', init=None,\n",
       "              learning_rate=0.1, loss='deviance', max_depth=3,\n",
       "              max_features=None, max_leaf_nodes=None,\n",
       "              min_impurity_split=1e-07, min_samples_leaf=1,\n",
       "              min_samples_split=2, min_weight_fraction_leaf=0.0,\n",
       "              n_estimators=100, presort='auto', random_state=None,\n",
       "              subsample=1.0, verbose=3, warm_start=False)"
      ]
     },
     "execution_count": 82,
     "metadata": {},
     "output_type": "execute_result"
    }
   ],
   "source": [
    "clf = GradientBoostingClassifier(verbose=3)\n",
    "clf.fit(itrain_ds[:, :384], itrain_ds[:, 384])\n",
    "# preds = clf.predict_proba(val_ds[:, :384])[:, 1]\n",
    "# print get_accuracy(preds, val_ds[:, 384])\n",
    "# print get_mrr(preds, val_ds[:, 384])"
   ]
  },
  {
   "cell_type": "code",
   "execution_count": 85,
   "metadata": {
    "collapsed": false
   },
   "outputs": [
    {
     "name": "stdout",
     "output_type": "stream",
     "text": [
      "Train scores\n",
      "0.463661686503 0.676385371824\n"
     ]
    }
   ],
   "source": [
    "preds = clf.predict_proba(itrain_ds[:, :384])[:, 1]\n",
    "score = get_accuracy(preds, itrain_ds[:, 384])\n",
    "mrr = get_mrr(preds, itrain_ds[:, 384])\n",
    "print 'Train scores'\n",
    "print score, mrr"
   ]
  },
  {
   "cell_type": "code",
   "execution_count": 86,
   "metadata": {
    "collapsed": false
   },
   "outputs": [
    {
     "name": "stdout",
     "output_type": "stream",
     "text": [
      "0.483598649301\n",
      "0.690746100659\n"
     ]
    }
   ],
   "source": [
    "preds = clf.predict_proba(test_ds[:, :384])[:, 1]\n",
    "print get_accuracy(preds, test_ds[:, 384])\n",
    "print get_mrr(preds, test_ds[:, 384])"
   ]
  },
  {
   "cell_type": "code",
   "execution_count": null,
   "metadata": {
    "collapsed": true
   },
   "outputs": [],
   "source": []
  },
  {
   "cell_type": "code",
   "execution_count": 88,
   "metadata": {
    "collapsed": true
   },
   "outputs": [],
   "source": [
    "max_c = 384"
   ]
  },
  {
   "cell_type": "code",
   "execution_count": 89,
   "metadata": {
    "collapsed": false
   },
   "outputs": [
    {
     "data": {
      "text/plain": [
       "(array([ 2005.,     0.,  1110.,     0.,     0.,   625.,     0.,   286.,\n",
       "            0.,   120.]),\n",
       " array([ 1. ,  1.4,  1.8,  2.2,  2.6,  3. ,  3.4,  3.8,  4.2,  4.6,  5. ]),\n",
       " <a list of 10 Patch objects>)"
      ]
     },
     "execution_count": 89,
     "metadata": {},
     "output_type": "execute_result"
    },
    {
     "data": {
      "image/png": "[encoded data removed]",
      "text/plain": [
       "<matplotlib.figure.Figure at 0x1b2022350>"
      ]
     },
     "metadata": {},
     "output_type": "display_data"
    }
   ],
   "source": [
    "def get_ranks(preds, Y):\n",
    "\n",
    "    ranks = []\n",
    "    for i in range(0, preds.shape[0] ,5):\n",
    "        max_idx = np.argmax(Y[i:i+5])\n",
    "        srt = np.argsort(preds[i:i+5],)[::-1]\n",
    "        rank = np.where(srt==max_idx)[0][0] + 1\n",
    "\n",
    "        ranks.append(rank)\n",
    "        \n",
    "    return ranks\n",
    "\n",
    "ranks = np.array(get_ranks(preds, test_ds[:, max_c]))\n",
    "\n",
    "plt.hist(ranks)\n",
    "# plt.title('Rank distribution for test set')"
   ]
  },
  {
   "cell_type": "code",
   "execution_count": 92,
   "metadata": {
    "collapsed": false
   },
   "outputs": [
    {
     "data": {
      "text/plain": [
       "0.7549684924866699"
      ]
     },
     "execution_count": 92,
     "metadata": {},
     "output_type": "execute_result"
    }
   ],
   "source": [
    "3115./4126"
   ]
  },
  {
   "cell_type": "code",
   "execution_count": null,
   "metadata": {
    "collapsed": true
   },
   "outputs": [],
   "source": []
  },
  {
   "cell_type": "code",
   "execution_count": 97,
   "metadata": {
    "collapsed": false
   },
   "outputs": [
    {
     "data": {
      "text/plain": [
       "<matplotlib.collections.PathCollection at 0x2ac242190>"
      ]
     },
     "execution_count": 97,
     "metadata": {},
     "output_type": "execute_result"
    },
    {
     "data": {
      "image/png": "[encoded data removed]",
      "text/plain": [
       "<matplotlib.figure.Figure at 0x29ea73ed0>"
      ]
     },
     "metadata": {},
     "output_type": "display_data"
    }
   ],
   "source": [
    "good_questn = np.nonzero(ranks < 3)\n",
    "\n",
    "bad_questn = np.nonzero(ranks > 3)\n",
    "\n",
    "# test_df.iloc[bad_questn]\n",
    "\n",
    "bad_questn_tags = test_df.iloc[bad_questn].Tags.values\n",
    "\n",
    "tag_cnts = Counter(itertools.chain.from_iterable(bad_questn_tags))\n",
    "\n",
    "with open('data_temp/tag_clusters.pkl', 'rb') as f:\n",
    "    tag_clusters = pickle.load(f)\n",
    "\n",
    "tag_comm_size = {l:len(v) for k,v in tag_clusters.items() for l in v}\n",
    "\n",
    "tag_comm_size.get('3d', -1)\n",
    "\n",
    "cnt, size = zip(*[(v, tag_comm_size.get(k, -1)) for k, v in tag_cnts.items()])\n",
    "\n",
    "plt.scatter(cnt, size)"
   ]
  },
  {
   "cell_type": "code",
   "execution_count": null,
   "metadata": {
    "collapsed": true
   },
   "outputs": [],
   "source": []
  },
  {
   "cell_type": "code",
   "execution_count": 98,
   "metadata": {
    "collapsed": false
   },
   "outputs": [
    {
     "data": {
      "text/plain": [
       "<matplotlib.text.Text at 0x2b91dedd0>"
      ]
     },
     "execution_count": 98,
     "metadata": {},
     "output_type": "execute_result"
    },
    {
     "data": {
      "image/png": "[encoded data removed]",
      "text/plain": [
       "<matplotlib.figure.Figure at 0x2a1ade350>"
      ]
     },
     "metadata": {},
     "output_type": "display_data"
    }
   ],
   "source": [
    "degrees = defaultdict(int)\n",
    "with open('data_created/graphs/user-tag.txt', 'r') as fl:\n",
    "    for line in fl.readlines():\n",
    "        n1, n2 = line.split('\\t')\n",
    "        degrees[float(n1)] += 1\n",
    "        degrees[float(n2)] += 1\n",
    "\n",
    "\n",
    "\n",
    "cnt_degrees = [(v, degrees[tag2index_dict[k]]) for k, v in tag_cnts.items() if k in tag2index_dict]\n",
    "\n",
    "cnt_degrees_rel = filter(lambda x: x[0] > 3, cnt_degrees)\n",
    "cnt, degree = zip(*cnt_degrees_rel)\n",
    "\n",
    "slope, c = np.polyfit(cnt, degree, 1)\n",
    "yfit = np.array(cnt) * slope + c\n",
    "\n",
    "plt.plot(cnt, yfit, c='r')\n",
    "plt.scatter(cnt, degree)\n",
    "\n",
    "\n",
    "# plt.title('Tag count vs. Degree')\n",
    "plt.ylabel('Degree')\n",
    "plt.xlabel('# times tag occurs in bad performance questions')"
   ]
  },
  {
   "cell_type": "code",
   "execution_count": null,
   "metadata": {
    "collapsed": true
   },
   "outputs": [],
   "source": []
  },
  {
   "cell_type": "code",
   "execution_count": 99,
   "metadata": {
    "collapsed": true
   },
   "outputs": [],
   "source": [
    "bad_q_acc_users = test_df.iloc[bad_questn]['AcceptedAnswerUserId'].values\n",
    "\n",
    "good_q_acc_users = test_df.iloc[good_questn]['AcceptedAnswerUserId'].values"
   ]
  },
  {
   "cell_type": "code",
   "execution_count": 100,
   "metadata": {
    "collapsed": false
   },
   "outputs": [
    {
     "name": "stderr",
     "output_type": "stream",
     "text": [
      "/Users/prmathur/anaconda/lib/python2.7/site-packages/matplotlib/__init__.py:892: UserWarning: axes.color_cycle is deprecated and replaced with axes.prop_cycle; please use the latter.\n",
      "  warnings.warn(self.msg_depr % (key, alt_key))\n"
     ]
    },
    {
     "data": {
      "text/plain": [
       "<matplotlib.axes._subplots.AxesSubplot at 0x217900d50>"
      ]
     },
     "execution_count": 100,
     "metadata": {},
     "output_type": "execute_result"
    },
    {
     "data": {
      "image/png": "[encoded data removed]",
      "text/plain": [
       "<matplotlib.figure.Figure at 0x2084ff550>"
      ]
     },
     "metadata": {},
     "output_type": "display_data"
    }
   ],
   "source": [
    "sns.boxplot(x=[degrees[u] for u in good_q_acc_users])"
   ]
  },
  {
   "cell_type": "code",
   "execution_count": 101,
   "metadata": {
    "collapsed": false
   },
   "outputs": [
    {
     "data": {
      "text/plain": [
       "<matplotlib.axes._subplots.AxesSubplot at 0x2b69ee090>"
      ]
     },
     "execution_count": 101,
     "metadata": {},
     "output_type": "execute_result"
    },
    {
     "data": {
      "image/png": "[encoded data removed]",
      "text/plain": [
       "<matplotlib.figure.Figure at 0x2abd62fd0>"
      ]
     },
     "metadata": {},
     "output_type": "display_data"
    }
   ],
   "source": [
    "sns.boxplot(x=[degrees[u] for u in bad_q_acc_users])"
   ]
  },
  {
   "cell_type": "code",
   "execution_count": null,
   "metadata": {
    "collapsed": true
   },
   "outputs": [],
   "source": []
  },
  {
   "cell_type": "code",
   "execution_count": null,
   "metadata": {
    "collapsed": true
   },
   "outputs": [],
   "source": []
  },
  {
   "cell_type": "code",
   "execution_count": null,
   "metadata": {
    "collapsed": true
   },
   "outputs": [],
   "source": []
  }
 ],
 "metadata": {
  "kernelspec": {
   "display_name": "Python 2",
   "language": "python",
   "name": "python2"
  },
  "language_info": {
   "codemirror_mode": {
    "name": "ipython",
    "version": 2
   },
   "file_extension": ".py",
   "mimetype": "text/x-python",
   "name": "python",
   "nbconvert_exporter": "python",
   "pygments_lexer": "ipython2",
   "version": "2.7.12"
  }
 },
 "nbformat": 4,
 "nbformat_minor": 0
}
