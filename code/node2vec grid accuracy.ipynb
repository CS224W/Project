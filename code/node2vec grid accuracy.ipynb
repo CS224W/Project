{
 "cells": [
  {
   "cell_type": "code",
   "execution_count": 274,
   "metadata": {
    "collapsed": false
   },
   "outputs": [],
   "source": [
    "import pandas as pd\n",
    "import os, sys\n",
    "import ujson, re\n",
    "import numpy as np\n",
    "import seaborn as sns\n",
    "\n",
    "from matplotlib import pyplot as plt\n",
    "from sklearn.model_selection import cross_val_score\n",
    "from sklearn.linear_model import LogisticRegression\n",
    "from gensim.models import Word2Vec\n",
    "from src.DataReader import DataReader\n",
    "from src.constants import SPLIT_TIME, STORE_LOCATION, DATA_ROOT, POSTS_FILE, VOTES_FILE\n",
    "from operator import itemgetter"
   ]
  },
  {
   "cell_type": "code",
   "execution_count": 257,
   "metadata": {
    "collapsed": true
   },
   "outputs": [],
   "source": [
    "%matplotlib inline"
   ]
  },
  {
   "cell_type": "code",
   "execution_count": 23,
   "metadata": {
    "collapsed": true
   },
   "outputs": [],
   "source": [
    "emb_root = '/Users/prmathur/Documents/Pers/MMDS/Course/CS224W/Project/snap-master/examples/node2vec/emb/'"
   ]
  },
  {
   "cell_type": "code",
   "execution_count": 4,
   "metadata": {
    "collapsed": true
   },
   "outputs": [],
   "source": [
    "data_directory = DATA_ROOT"
   ]
  },
  {
   "cell_type": "code",
   "execution_count": 2,
   "metadata": {
    "collapsed": true
   },
   "outputs": [],
   "source": [
    "train_df = pd.read_csv(os.path.join(STORE_LOCATION, 'train.csv'))"
   ]
  },
  {
   "cell_type": "code",
   "execution_count": 5,
   "metadata": {
    "collapsed": false
   },
   "outputs": [
    {
     "name": "stdout",
     "output_type": "stream",
     "text": [
      "Reading file...\n",
      "Converting...\n",
      "Progress | ██████████ | 100% || Estimated time remaining: 0.0 seconds\n",
      "Conversion complete...\n",
      "Forming data frame...\n"
     ]
    }
   ],
   "source": [
    "post_reader = DataReader(os.path.join(data_directory, POSTS_FILE), True)\n",
    "post_reader.read_data()"
   ]
  },
  {
   "cell_type": "code",
   "execution_count": null,
   "metadata": {
    "collapsed": true
   },
   "outputs": [],
   "source": []
  },
  {
   "cell_type": "code",
   "execution_count": 6,
   "metadata": {
    "collapsed": true
   },
   "outputs": [],
   "source": [
    "pdf = post_reader._df"
   ]
  },
  {
   "cell_type": "code",
   "execution_count": 14,
   "metadata": {
    "collapsed": true
   },
   "outputs": [],
   "source": [
    "q_tags_df = pdf[pdf.PostTypeId==1][['Id', 'Tags']]"
   ]
  },
  {
   "cell_type": "code",
   "execution_count": 17,
   "metadata": {
    "collapsed": false
   },
   "outputs": [],
   "source": [
    "train_df = train_df.merge(q_tags_df, how='left', left_on='QuestionId', right_on='Id', suffixes=('_tr', '_qt'))"
   ]
  },
  {
   "cell_type": "code",
   "execution_count": null,
   "metadata": {
    "collapsed": true
   },
   "outputs": [],
   "source": []
  },
  {
   "cell_type": "code",
   "execution_count": 21,
   "metadata": {
    "collapsed": false
   },
   "outputs": [
    {
     "data": {
      "text/html": [
       "<div>\n",
       "<table border=\"1\" class=\"dataframe\">\n",
       "  <thead>\n",
       "    <tr style=\"text-align: right;\">\n",
       "      <th></th>\n",
       "      <th>QuestionId</th>\n",
       "      <th>AcceptedAnswerUserId</th>\n",
       "      <th>UsersSorted</th>\n",
       "      <th>Tags</th>\n",
       "    </tr>\n",
       "  </thead>\n",
       "  <tbody>\n",
       "    <tr>\n",
       "      <th>0</th>\n",
       "      <td>5.0</td>\n",
       "      <td>45.0</td>\n",
       "      <td>[45.0, 1102.0, 48.0, 226.0, 242.0]</td>\n",
       "      <td>[elementary-number-theory, proof-writing, radi...</td>\n",
       "    </tr>\n",
       "    <tr>\n",
       "      <th>1</th>\n",
       "      <td>1.0</td>\n",
       "      <td>8.0</td>\n",
       "      <td>[8.0, 49.0, 25.0, 35.0, 39.0]</td>\n",
       "      <td>[elementary-set-theory, intuition, faq]</td>\n",
       "    </tr>\n",
       "    <tr>\n",
       "      <th>2</th>\n",
       "      <td>8.0</td>\n",
       "      <td>38.0</td>\n",
       "      <td>[38.0, 173.0, 334.0, 53.0, 55.0]</td>\n",
       "      <td>[linear-algebra, combinatorics, generating-fun...</td>\n",
       "    </tr>\n",
       "    <tr>\n",
       "      <th>3</th>\n",
       "      <td>2.0</td>\n",
       "      <td>34.0</td>\n",
       "      <td>[34.0, 56.0, 35.0, 190287.0, 72.0]</td>\n",
       "      <td>[calculus, limits, definition]</td>\n",
       "    </tr>\n",
       "    <tr>\n",
       "      <th>4</th>\n",
       "      <td>20.0</td>\n",
       "      <td>38.0</td>\n",
       "      <td>[38.0, 72.0, 232.0, 51.0, 210.0]</td>\n",
       "      <td>[terminology, definition, number-systems]</td>\n",
       "    </tr>\n",
       "  </tbody>\n",
       "</table>\n",
       "</div>"
      ],
      "text/plain": [
       "   QuestionId  AcceptedAnswerUserId                         UsersSorted  \\\n",
       "0         5.0                  45.0  [45.0, 1102.0, 48.0, 226.0, 242.0]   \n",
       "1         1.0                   8.0       [8.0, 49.0, 25.0, 35.0, 39.0]   \n",
       "2         8.0                  38.0    [38.0, 173.0, 334.0, 53.0, 55.0]   \n",
       "3         2.0                  34.0  [34.0, 56.0, 35.0, 190287.0, 72.0]   \n",
       "4        20.0                  38.0    [38.0, 72.0, 232.0, 51.0, 210.0]   \n",
       "\n",
       "                                                Tags  \n",
       "0  [elementary-number-theory, proof-writing, radi...  \n",
       "1            [elementary-set-theory, intuition, faq]  \n",
       "2  [linear-algebra, combinatorics, generating-fun...  \n",
       "3                     [calculus, limits, definition]  \n",
       "4          [terminology, definition, number-systems]  "
      ]
     },
     "execution_count": 21,
     "metadata": {},
     "output_type": "execute_result"
    }
   ],
   "source": [
    "train_df[['QuestionId', 'AcceptedAnswerUserId', 'UsersSorted', 'Tags']].head()"
   ]
  },
  {
   "cell_type": "code",
   "execution_count": null,
   "metadata": {
    "collapsed": true
   },
   "outputs": [],
   "source": []
  },
  {
   "cell_type": "code",
   "execution_count": 36,
   "metadata": {
    "collapsed": true
   },
   "outputs": [],
   "source": [
    "indx2tag_dict = {}\n",
    "tag2index_dict = {}\n",
    "with open(os.path.join(STORE_LOCATION, 'graphs/user-tag_keys.txt')) as tg_fl:\n",
    "    for row in tg_fl:\n",
    "        k, v = row.strip().split(',')\n",
    "        indx2tag_dict[float(v.strip())] = k\n",
    "        tag2index_dict[k] = float(v.strip())"
   ]
  },
  {
   "cell_type": "code",
   "execution_count": null,
   "metadata": {
    "collapsed": true
   },
   "outputs": [],
   "source": []
  },
  {
   "cell_type": "code",
   "execution_count": 124,
   "metadata": {
    "collapsed": false,
    "scrolled": true
   },
   "outputs": [
    {
     "name": "stdout",
     "output_type": "stream",
     "text": [
      "(128,)\n",
      "10000958\n"
     ]
    }
   ],
   "source": [
    "# print model.syn0[model.vocab['10000958'].index].shape\n",
    "# print model.index2word[169]"
   ]
  },
  {
   "cell_type": "code",
   "execution_count": null,
   "metadata": {
    "collapsed": false
   },
   "outputs": [],
   "source": []
  },
  {
   "cell_type": "code",
   "execution_count": 84,
   "metadata": {
    "collapsed": true
   },
   "outputs": [],
   "source": [
    "def get_user_vals(users):\n",
    "    return re.findall(r'[{]*(\\d+).0', users)"
   ]
  },
  {
   "cell_type": "code",
   "execution_count": 226,
   "metadata": {
    "collapsed": false
   },
   "outputs": [],
   "source": [
    "def get_rep(row, model):\n",
    "    tags = row.Tags\n",
    "    tag_id = [str(int(tag2index_dict[t])) for t in tags]\n",
    "    w2v_idx = [model.vocab[t].index for t in tag_id]\n",
    "    t_vectors = model.syn0[w2v_idx]\n",
    "    q = t_vectors.mean(axis=0)\n",
    "    \n",
    "    accepted_user = str(int(row.AcceptedAnswerUserId))\n",
    "    user_vec = {}\n",
    "\n",
    "    output = None\n",
    "    \n",
    "    users = get_user_vals(row.UsersSorted)\n",
    "    for u in users:\n",
    "        user = str(int(u))\n",
    "        op_row = None\n",
    "        \n",
    "        if user in model.vocab:\n",
    "            user_w2v_idx = model.vocab[user].index\n",
    "            user_vector = model.syn0[user_w2v_idx]\n",
    "        else:\n",
    "            user_vector = np.zeros(128)\n",
    "        \n",
    "        if user == accepted_user:\n",
    "            op_row = np.hstack((q, user_vector, 1))\n",
    "        else:\n",
    "            op_row = np.hstack((q, user_vector, 0))\n",
    "            \n",
    "        if output is None:\n",
    "            output = op_row\n",
    "        else:\n",
    "            output = np.vstack((output, op_row))\n",
    "\n",
    "    return output"
   ]
  },
  {
   "cell_type": "code",
   "execution_count": 343,
   "metadata": {
    "collapsed": false
   },
   "outputs": [],
   "source": [
    "def get_accuracy(preds, Y):\n",
    "    pr, tr = [], []\n",
    "    for i in range(0, preds.shape[0] ,5):\n",
    "        pr.append(np.argmax(preds[i:i+5]))\n",
    "        tr.append(np.argmax(Y[i:i+5]))\n",
    "\n",
    "    pr = np.array(pr)\n",
    "    tr = np.array(tr)\n",
    "    \n",
    "    return (pr==tr).sum()* 1. / pr.shape[0] "
   ]
  },
  {
   "cell_type": "code",
   "execution_count": 345,
   "metadata": {
    "collapsed": false
   },
   "outputs": [],
   "source": [
    "# temp = get_rep(train_df.ix[0], model)"
   ]
  },
  {
   "cell_type": "code",
   "execution_count": null,
   "metadata": {
    "collapsed": false
   },
   "outputs": [],
   "source": []
  },
  {
   "cell_type": "code",
   "execution_count": 238,
   "metadata": {
    "collapsed": false
   },
   "outputs": [],
   "source": [
    "ut_files = [f for f in os.listdir(emb_root) if 'ut' in f]"
   ]
  },
  {
   "cell_type": "code",
   "execution_count": 346,
   "metadata": {
    "collapsed": false,
    "scrolled": true
   },
   "outputs": [
    {
     "name": "stdout",
     "output_type": "stream",
     "text": [
      "Loaded ut_p0.25-q0.25.emb\n",
      "\n",
      "................\n",
      "Begin train\n",
      "p0.25; q0.25 : score - 0.39706254748\n",
      "Loaded ut_p0.25-q0.50.emb\n",
      "\n",
      "................\n",
      "Begin train\n",
      "p0.25; q0.50 : score - 0.406811851102\n",
      "Loaded ut_p0.25-q1.emb\n",
      "\n",
      "................\n",
      "Begin train\n",
      "p0.25; q1 : score - 0.403836414282\n",
      "Loaded ut_p0.25-q2.emb\n",
      "\n",
      "................\n",
      "Begin train\n",
      "p0.25; q2 : score - 0.39934160547\n",
      "Loaded ut_p0.25-q4.emb\n",
      "\n",
      "................\n",
      "Begin train\n",
      "p0.25; q4 : score - 0.405355786275\n",
      "Loaded ut_p0.50-q0.25.emb\n",
      "\n",
      "................\n",
      "Begin train\n",
      "p0.50; q0.25 : score - 0.399278298303\n",
      "Loaded ut_p0.50-q0.50.emb\n",
      "\n",
      "................\n",
      "Begin train\n",
      "p0.50; q0.50 : score - 0.399721448468\n",
      "Loaded ut_p0.50-q1.emb\n",
      "\n",
      "................\n",
      "Begin train\n",
      "p0.50; q1 : score - 0.403013421119\n",
      "Loaded ut_p0.50-q2.emb\n",
      "\n",
      "................\n",
      "Begin train\n",
      "p0.50; q2 : score - 0.406115472271\n",
      "Loaded ut_p0.50-q4.emb\n",
      "\n",
      "................\n",
      "Begin train\n",
      "p0.50; q4 : score - 0.403013421119\n",
      "Loaded ut_p1-q0.25.emb\n",
      "\n",
      "................\n",
      "Begin train\n",
      "p1; q0.25 : score - 0.398771840972\n",
      "Loaded ut_p1-q0.50.emb\n",
      "\n",
      "................\n",
      "Begin train\n",
      "p1; q0.50 : score - 0.404786021778\n",
      "Loaded ut_p1-q1.emb\n",
      "\n",
      "................\n",
      "Begin train\n",
      "p1; q1 : score - 0.411433274247\n",
      "Loaded ut_p1-q2.emb\n",
      "\n",
      "................\n",
      "Begin train\n",
      "p1; q2 : score - 0.405862243606\n",
      "Loaded ut_p1-q4.emb\n",
      "\n",
      "................\n",
      "Begin train\n",
      "p1; q4 : score - 0.405925550772\n",
      "Loaded ut_p2-q0.25.emb\n",
      "\n",
      "................\n",
      "Begin train\n",
      "p2; q0.25 : score - 0.40351987845\n",
      "Loaded ut_p2-q0.50.emb\n",
      "\n",
      "................\n",
      "Begin train\n",
      "p2; q0.50 : score - 0.409027601925\n",
      "Loaded ut_p2-q1.emb\n",
      "\n",
      "................\n",
      "Begin train\n",
      "p2; q1 : score - 0.399531526969\n",
      "Loaded ut_p2-q2.emb\n",
      "\n",
      "................\n",
      "Begin train\n",
      "p2; q2 : score - 0.406242086604\n",
      "Loaded ut_p2-q4.emb\n",
      "\n",
      "................\n",
      "Begin train\n",
      "p2; q4 : score - 0.401873892125\n",
      "Loaded ut_p4-q0.25.emb\n",
      "\n",
      "................\n",
      "Begin train\n",
      "p4; q0.25 : score - 0.403773107116\n",
      "Loaded ut_p4-q0.50.emb\n",
      "\n",
      "................\n",
      "Begin train\n",
      "p4; q0.50 : score - 0.40510255761\n",
      "Loaded ut_p4-q1.emb\n",
      "\n",
      "................\n",
      "Begin train\n",
      "p4; q1 : score - 0.397885540643\n",
      "Loaded ut_p4-q2.emb\n",
      "\n",
      "................\n",
      "Begin train\n",
      "p4; q2 : score - 0.398835148139\n",
      "Loaded ut_p4-q4.emb\n",
      "\n",
      "................\n",
      "Begin train\n",
      "p4; q4 : score - 0.396999240314\n"
     ]
    }
   ],
   "source": [
    "for emb_file in ut_files:\n",
    "    model = Word2Vec.load_word2vec_format(os.path.join(emb_root, emb_file), binary=False)\n",
    "    print 'Loaded {}\\n'.format(emb_file)\n",
    "    \n",
    "    train_ds = []\n",
    "    for indx, row in train_df.iterrows():\n",
    "        temp_set = get_rep(row, model)\n",
    "        train_ds.append(temp_set)\n",
    "        \n",
    "        if indx % 1000 == 0:\n",
    "            sys.stdout.write('.')\n",
    "            sys.stdout.flush()\n",
    "\n",
    "    train_ds = np.vstack(train_ds)\n",
    "    \n",
    "    print '\\nBegin train'\n",
    "    clf = LogisticRegression(n_jobs=-1)\n",
    "    clf.fit(train_ds[:, :256], train_ds[:, 256])\n",
    "    preds = clf.predict_proba(train_ds[:, :256])[:, 1]\n",
    "    score = get_accuracy(preds, train_ds[:, 256])\n",
    "\n",
    "    p, q = emb_file.replace('.emb', '').replace('ut_', '').split('-')\n",
    "    print '{0}; {1} : score - {2}'.format(p, q, score)"
   ]
  },
  {
   "cell_type": "code",
   "execution_count": null,
   "metadata": {
    "collapsed": false
   },
   "outputs": [],
   "source": []
  },
  {
   "cell_type": "code",
   "execution_count": null,
   "metadata": {
    "collapsed": false
   },
   "outputs": [],
   "source": []
  },
  {
   "cell_type": "code",
   "execution_count": 352,
   "metadata": {
    "collapsed": false
   },
   "outputs": [],
   "source": [
    "perf_df = pd.DataFrame([(0.25, 0.25, 0.39706254748), (0.25, 0.50, 0.406811851102), (0.25, 1, 0.403836414282), \n",
    "                        (0.25, 2, 0.39934160547), (0.25, 4, 0.405355786275), (0.50, 0.25, 0.399278298303), \n",
    "                        (0.50, 0.50, 0.399721448468), (0.50, 1, 0.403013421119), (0.50, 2, 0.406115472271), \n",
    "                        (0.50, 4, 0.403013421119), (1, 0.25, 0.398771840972), (1, 0.50, 0.404786021778), \n",
    "                        (1, 1, 0.411433274247), (1, 2, 0.405862243606), (1, 4, 0.405925550772), \n",
    "                        (2, 0.25, 0.40351987845), (2, 0.50, 0.409027601925), (2, 1, 0.399531526969), \n",
    "                        (2, 2, 0.406242086604), (2, 4, 0.401873892125), (4, 0.25, 0.403773107116), \n",
    "                        (4, 0.50, 0.40510255761), (4, 1, 0.397885540643), (4, 2, 0.398835148139), \n",
    "                        (4, 4, 0.396999240314)])"
   ]
  },
  {
   "cell_type": "code",
   "execution_count": 353,
   "metadata": {
    "collapsed": true
   },
   "outputs": [],
   "source": [
    "perf_df.columns = ['p', 'q', 'Accuracy']"
   ]
  },
  {
   "cell_type": "code",
   "execution_count": 354,
   "metadata": {
    "collapsed": false
   },
   "outputs": [
    {
     "data": {
      "image/png": "[encoded data removed]",
      "text/plain": [
       "<matplotlib.figure.Figure at 0x1d552ed10>"
      ]
     },
     "metadata": {},
     "output_type": "display_data"
    }
   ],
   "source": [
    "# plt.figure(figsize=(10, 10))\n",
    "ax = sns.heatmap(perf_df.pivot('p', 'q', 'Accuracy'))"
   ]
  },
  {
   "cell_type": "code",
   "execution_count": null,
   "metadata": {
    "collapsed": true
   },
   "outputs": [],
   "source": []
  },
  {
   "cell_type": "code",
   "execution_count": null,
   "metadata": {
    "collapsed": false
   },
   "outputs": [],
   "source": []
  },
  {
   "cell_type": "code",
   "execution_count": 383,
   "metadata": {
    "collapsed": false
   },
   "outputs": [],
   "source": [
    "def get_mrr(preds, Y):\n",
    "\n",
    "    ranks = []\n",
    "    for i in range(0, preds.shape[0] ,5):\n",
    "        max_idx = np.argmax(Y[i:i+5])\n",
    "        srt = np.argsort(preds[i:i+5],)[::-1]\n",
    "        rank = np.where(srt==max_idx)[0][0] + 1\n",
    "\n",
    "        ranks.append(rank)\n",
    "\n",
    "    return np.mean(1. / np.array(ranks))"
   ]
  },
  {
   "cell_type": "code",
   "execution_count": 384,
   "metadata": {
    "collapsed": false
   },
   "outputs": [
    {
     "data": {
      "text/plain": [
       "0.63063750316535827"
      ]
     },
     "execution_count": 384,
     "metadata": {},
     "output_type": "execute_result"
    }
   ],
   "source": [
    "get_mrr(preds, Y)"
   ]
  },
  {
   "cell_type": "code",
   "execution_count": 385,
   "metadata": {
    "collapsed": false
   },
   "outputs": [
    {
     "data": {
      "text/plain": [
       "0.39699924031400352"
      ]
     },
     "execution_count": 385,
     "metadata": {},
     "output_type": "execute_result"
    }
   ],
   "source": [
    "get_accuracy(preds, Y)"
   ]
  },
  {
   "cell_type": "code",
   "execution_count": null,
   "metadata": {
    "collapsed": false
   },
   "outputs": [],
   "source": []
  },
  {
   "cell_type": "code",
   "execution_count": 376,
   "metadata": {
    "collapsed": false
   },
   "outputs": [],
   "source": []
  },
  {
   "cell_type": "code",
   "execution_count": 371,
   "metadata": {
    "collapsed": false
   },
   "outputs": [],
   "source": []
  },
  {
   "cell_type": "code",
   "execution_count": 375,
   "metadata": {
    "collapsed": false
   },
   "outputs": [],
   "source": []
  },
  {
   "cell_type": "code",
   "execution_count": null,
   "metadata": {
    "collapsed": true
   },
   "outputs": [],
   "source": []
  }
 ],
 "metadata": {
  "kernelspec": {
   "display_name": "Python 2",
   "language": "python",
   "name": "python2"
  },
  "language_info": {
   "codemirror_mode": {
    "name": "ipython",
    "version": 2
   },
   "file_extension": ".py",
   "mimetype": "text/x-python",
   "name": "python",
   "nbconvert_exporter": "python",
   "pygments_lexer": "ipython2",
   "version": "2.7.12"
  }
 },
 "nbformat": 4,
 "nbformat_minor": 0
}
