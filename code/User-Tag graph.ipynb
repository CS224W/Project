{
 "cells": [
  {
   "cell_type": "code",
   "execution_count": 1,
   "metadata": {
    "collapsed": true
   },
   "outputs": [],
   "source": [
    "%load_ext autoreload\n",
    "%autoreload 2"
   ]
  },
  {
   "cell_type": "code",
   "execution_count": 2,
   "metadata": {
    "collapsed": true
   },
   "outputs": [],
   "source": [
    "import os, snap\n",
    "import pandas as pd\n",
    "import itertools\n",
    "import numpy as np\n",
    "import sys\n",
    "\n",
    "from collections import Counter\n",
    "from dateutil.parser import parse as dt_parse\n",
    "from matplotlib import pyplot as plt\n",
    "from src.DataReader import DataReader\n",
    "from src.constants import SPLIT_TIME, STORE_LOCATION, DATA_ROOT, POSTS_FILE, VOTES_FILE"
   ]
  },
  {
   "cell_type": "code",
   "execution_count": 25,
   "metadata": {
    "collapsed": true
   },
   "outputs": [],
   "source": [
    "%matplotlib inline"
   ]
  },
  {
   "cell_type": "code",
   "execution_count": null,
   "metadata": {
    "collapsed": true
   },
   "outputs": [],
   "source": []
  },
  {
   "cell_type": "code",
   "execution_count": 4,
   "metadata": {
    "collapsed": true
   },
   "outputs": [],
   "source": [
    "data_directory = DATA_ROOT"
   ]
  },
  {
   "cell_type": "code",
   "execution_count": 5,
   "metadata": {
    "collapsed": false
   },
   "outputs": [
    {
     "name": "stdout",
     "output_type": "stream",
     "text": [
      "Reading file...\n",
      "Converting...\n",
      "Progress | ██████████ | 100% || Estimated time remaining: 0.0 seconds\n",
      "Conversion complete...\n",
      "Forming data frame...\n"
     ]
    }
   ],
   "source": [
    "post_reader = DataReader(os.path.join(data_directory, POSTS_FILE), True)\n",
    "post_reader.read_data()"
   ]
  },
  {
   "cell_type": "code",
   "execution_count": null,
   "metadata": {
    "collapsed": true
   },
   "outputs": [],
   "source": []
  },
  {
   "cell_type": "code",
   "execution_count": 6,
   "metadata": {
    "collapsed": true
   },
   "outputs": [],
   "source": [
    "pdf = post_reader._df"
   ]
  },
  {
   "cell_type": "code",
   "execution_count": 7,
   "metadata": {
    "collapsed": false
   },
   "outputs": [],
   "source": [
    "pdf_train = pdf[pdf.CreationDate <= dt_parse(SPLIT_TIME)]"
   ]
  },
  {
   "cell_type": "code",
   "execution_count": 8,
   "metadata": {
    "collapsed": true
   },
   "outputs": [],
   "source": [
    "users_pdf = pdf_train[(pdf_train.OwnerUserId.notnull()) & (pdf_train.PostTypeId==2) ]"
   ]
  },
  {
   "cell_type": "code",
   "execution_count": 9,
   "metadata": {
    "collapsed": true
   },
   "outputs": [],
   "source": [
    "q_tags_df = pdf_train[pdf_train.PostTypeId==1][['Tags', 'Id']]"
   ]
  },
  {
   "cell_type": "code",
   "execution_count": 10,
   "metadata": {
    "collapsed": true
   },
   "outputs": [],
   "source": [
    "user_tag_df = users_pdf.merge(q_tags_df, how='left', left_on='ParentId', right_on='Id', suffixes=('_us', '_pt'))"
   ]
  },
  {
   "cell_type": "code",
   "execution_count": 11,
   "metadata": {
    "collapsed": true
   },
   "outputs": [],
   "source": [
    "user_grps = user_tag_df.groupby(['OwnerUserId'])"
   ]
  },
  {
   "cell_type": "code",
   "execution_count": 12,
   "metadata": {
    "collapsed": true
   },
   "outputs": [],
   "source": [
    "def get_user_tags(grp):\n",
    "    grp_tgs = grp.Tags_pt[grp.Tags_pt.notnull()]\n",
    "    return set(itertools.chain.from_iterable(grp_tgs))"
   ]
  },
  {
   "cell_type": "code",
   "execution_count": 13,
   "metadata": {
    "collapsed": false
   },
   "outputs": [],
   "source": [
    "user_tags = user_grps.apply(get_user_tags)"
   ]
  },
  {
   "cell_type": "code",
   "execution_count": null,
   "metadata": {
    "collapsed": true
   },
   "outputs": [],
   "source": []
  },
  {
   "cell_type": "code",
   "execution_count": 14,
   "metadata": {
    "collapsed": false
   },
   "outputs": [],
   "source": [
    "all_tags = list(set(itertools.chain.from_iterable(q_tags_df.Tags)))"
   ]
  },
  {
   "cell_type": "code",
   "execution_count": 15,
   "metadata": {
    "collapsed": false,
    "scrolled": false
   },
   "outputs": [],
   "source": [
    "all_tags_ids = dict(zip(all_tags, np.array(range(len(all_tags))) + 1e7))"
   ]
  },
  {
   "cell_type": "code",
   "execution_count": 16,
   "metadata": {
    "collapsed": false
   },
   "outputs": [],
   "source": [
    "user_tags_ids = user_tags.apply(lambda x: map(lambda y: all_tags_ids[y], x))"
   ]
  },
  {
   "cell_type": "code",
   "execution_count": 17,
   "metadata": {
    "collapsed": false
   },
   "outputs": [
    {
     "data": {
      "text/plain": [
       "33086"
      ]
     },
     "execution_count": 17,
     "metadata": {},
     "output_type": "execute_result"
    }
   ],
   "source": [
    "user_tags_ids.shape[0] + len(all_tags)"
   ]
  },
  {
   "cell_type": "code",
   "execution_count": null,
   "metadata": {
    "collapsed": true
   },
   "outputs": [],
   "source": []
  },
  {
   "cell_type": "code",
   "execution_count": 18,
   "metadata": {
    "collapsed": false
   },
   "outputs": [],
   "source": [
    "graph = snap.TUNGraph.New()\n",
    "\n",
    "for user, tags in user_tags_ids.iteritems():\n",
    "    u = int(user)\n",
    "    tgs = map(lambda x: int(x), tags)\n",
    "    \n",
    "    if not graph.IsNode(u):\n",
    "        graph.AddNode(u)\n",
    "        \n",
    "    for tg in tgs:\n",
    "        if not graph.IsNode(tg):\n",
    "            graph.AddNode(tg)\n",
    "            \n",
    "        graph.AddEdge(u, tg)\n"
   ]
  },
  {
   "cell_type": "code",
   "execution_count": 19,
   "metadata": {
    "collapsed": false
   },
   "outputs": [
    {
     "name": "stdout",
     "output_type": "stream",
     "text": [
      "368506\n",
      "33065\n"
     ]
    }
   ],
   "source": [
    "print graph.GetEdges()\n",
    "print graph.GetNodes()"
   ]
  },
  {
   "cell_type": "code",
   "execution_count": 20,
   "metadata": {
    "collapsed": true
   },
   "outputs": [],
   "source": [
    "DegToCntV = snap.TIntPrV()\n",
    "snap.GetDegCnt(graph, DegToCntV)\n",
    "\n",
    "deg_hist = {}\n",
    "for item in DegToCntV:\n",
    "    deg_hist[item.GetVal1()] = item.GetVal2()\n",
    "\n",
    "x, y = zip(*deg_hist.items())"
   ]
  },
  {
   "cell_type": "code",
   "execution_count": 26,
   "metadata": {
    "collapsed": false
   },
   "outputs": [
    {
     "data": {
      "image/png": "[encoded data removed]",
      "text/plain": [
       "<matplotlib.figure.Figure at 0x2b9f8ce90>"
      ]
     },
     "metadata": {},
     "output_type": "display_data"
    }
   ],
   "source": [
    "plt.figure(figsize=(10,5))\n",
    "# ax = plt.subplot()\n",
    "\n",
    "plt.scatter(np.log(x), np.log(y))\n",
    "\n",
    "plt.xlabel('degree (log)')\n",
    "plt.ylabel('#nodes (log)')\n",
    "plt.title('Degree distribution')\n",
    "\n",
    "plt.show()"
   ]
  },
  {
   "cell_type": "code",
   "execution_count": 27,
   "metadata": {
    "collapsed": true
   },
   "outputs": [],
   "source": [
    "snap.SaveEdgeList(graph, 'data_created/graphs/user-tag.txt', 'User-tag graph')"
   ]
  },
  {
   "cell_type": "code",
   "execution_count": 34,
   "metadata": {
    "collapsed": false
   },
   "outputs": [],
   "source": [
    "with open('data_created/graphs/user-tag_keys.txt', 'w') as fl:\n",
    "    for k,v in all_tags_ids.items():\n",
    "        fl.write('{0}, {1}\\n'.format(k, v))"
   ]
  },
  {
   "cell_type": "code",
   "execution_count": null,
   "metadata": {
    "collapsed": true
   },
   "outputs": [],
   "source": []
  },
  {
   "cell_type": "code",
   "execution_count": null,
   "metadata": {
    "collapsed": true
   },
   "outputs": [],
   "source": []
  },
  {
   "cell_type": "code",
   "execution_count": null,
   "metadata": {
    "collapsed": true
   },
   "outputs": [],
   "source": []
  }
 ],
 "metadata": {
  "kernelspec": {
   "display_name": "Python 2",
   "language": "python",
   "name": "python2"
  },
  "language_info": {
   "codemirror_mode": {
    "name": "ipython",
    "version": 2
   },
   "file_extension": ".py",
   "mimetype": "text/x-python",
   "name": "python",
   "nbconvert_exporter": "python",
   "pygments_lexer": "ipython2",
   "version": "2.7.12"
  }
 },
 "nbformat": 4,
 "nbformat_minor": 0
}
