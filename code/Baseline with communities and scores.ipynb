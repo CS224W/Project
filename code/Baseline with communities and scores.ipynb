{
 "cells": [
  {
   "cell_type": "code",
   "execution_count": 448,
   "metadata": {
    "collapsed": false
   },
   "outputs": [],
   "source": [
    "import pandas as pd\n",
    "import os, sys, pickle\n",
    "import ujson, re, itertools\n",
    "import numpy as np\n",
    "import seaborn as sns\n",
    "\n",
    "from collections import Counter, defaultdict\n",
    "from matplotlib import pyplot as plt\n",
    "from sklearn.model_selection import cross_val_score\n",
    "from sklearn.decomposition import TruncatedSVD\n",
    "from sklearn.feature_extraction.text import TfidfVectorizer\n",
    "from sklearn.linear_model import LogisticRegression\n",
    "from sklearn.ensemble import RandomForestClassifier, GradientBoostingClassifier\n",
    "from gensim.models import Word2Vec\n",
    "from src.DataReader import DataReader\n",
    "from src.constants import SPLIT_TIME, STORE_LOCATION, DATA_ROOT, POSTS_FILE, VOTES_FILE\n",
    "from operator import itemgetter"
   ]
  },
  {
   "cell_type": "code",
   "execution_count": 3,
   "metadata": {
    "collapsed": true
   },
   "outputs": [],
   "source": [
    "%matplotlib inline"
   ]
  },
  {
   "cell_type": "code",
   "execution_count": 255,
   "metadata": {
    "collapsed": true
   },
   "outputs": [],
   "source": [
    "emb_root = '/Users/prmathur/Documents/Pers/MMDS/Course/CS224W/Project/snap-master/examples/node2vec/emb/'"
   ]
  },
  {
   "cell_type": "code",
   "execution_count": 256,
   "metadata": {
    "collapsed": true
   },
   "outputs": [],
   "source": [
    "ut_model = Word2Vec.load_word2vec_format(os.path.join(emb_root, 'ut_p1-q1.emb'), binary=False)\n",
    "\n",
    "uu_model = Word2Vec.load_word2vec_format(os.path.join(emb_root, 'uu_p0.25-q0.25.emb'), binary=False)"
   ]
  },
  {
   "cell_type": "code",
   "execution_count": 257,
   "metadata": {
    "collapsed": true
   },
   "outputs": [],
   "source": [
    "indx2tag_dict = {}\n",
    "tag2index_dict = {}\n",
    "with open(os.path.join(STORE_LOCATION, 'graphs/user-tag_keys.txt')) as tg_fl:\n",
    "    for row in tg_fl:\n",
    "        k, v = row.strip().split(',')\n",
    "        indx2tag_dict[float(v.strip())] = k\n",
    "        tag2index_dict[k] = float(v.strip())"
   ]
  },
  {
   "cell_type": "code",
   "execution_count": null,
   "metadata": {
    "collapsed": true
   },
   "outputs": [],
   "source": []
  },
  {
   "cell_type": "code",
   "execution_count": 209,
   "metadata": {
    "collapsed": false
   },
   "outputs": [],
   "source": [
    "ut_comm = pd.read_csv(os.path.join(STORE_LOCATION, 'community_detection', 'user-tag-new-communityId.tsv'), '\\t')"
   ]
  },
  {
   "cell_type": "code",
   "execution_count": 210,
   "metadata": {
    "collapsed": true
   },
   "outputs": [],
   "source": [
    "uu_comm = pd.read_csv(os.path.join(STORE_LOCATION, 'community_detection', 'user-user-new-communityId.tsv'), '\\t')"
   ]
  },
  {
   "cell_type": "code",
   "execution_count": 211,
   "metadata": {
    "collapsed": false
   },
   "outputs": [],
   "source": [
    "def get_ut_comm(nid):\n",
    "    comm = ut_comm[ut_comm.id==nid]['modularity_class'].values\n",
    "    ret_vec = np.zeros(8)\n",
    "    \n",
    "    if comm.shape[0] > 0:\n",
    "        ret_vec[comm[0]] = 1\n",
    "        \n",
    "    return ret_vec"
   ]
  },
  {
   "cell_type": "code",
   "execution_count": null,
   "metadata": {
    "collapsed": false
   },
   "outputs": [],
   "source": []
  },
  {
   "cell_type": "code",
   "execution_count": 212,
   "metadata": {
    "collapsed": false
   },
   "outputs": [],
   "source": [
    "uu_comm_cnts = uu_comm.groupby('modularity_class').count() > 2"
   ]
  },
  {
   "cell_type": "code",
   "execution_count": 213,
   "metadata": {
    "collapsed": false
   },
   "outputs": [],
   "source": [
    "big_comm = uu_comm_cnts[uu_comm_cnts.id==True].index.tolist()"
   ]
  },
  {
   "cell_type": "code",
   "execution_count": 214,
   "metadata": {
    "collapsed": false
   },
   "outputs": [],
   "source": [
    "uu_comm['modularity_class'][~uu_comm.modularity_class.isin(big_comm)] = -1"
   ]
  },
  {
   "cell_type": "code",
   "execution_count": 215,
   "metadata": {
    "collapsed": false
   },
   "outputs": [],
   "source": [
    "replace_dict = {'modularity_class': \n",
    "                dict(zip(uu_comm.modularity_class.unique(), \n",
    "                         np.arange(uu_comm.modularity_class.unique().shape[0]) + 10000))}"
   ]
  },
  {
   "cell_type": "code",
   "execution_count": 218,
   "metadata": {
    "collapsed": false
   },
   "outputs": [],
   "source": [
    "replace_dict['modularity_class'][-1] = -100"
   ]
  },
  {
   "cell_type": "code",
   "execution_count": 219,
   "metadata": {
    "collapsed": false
   },
   "outputs": [],
   "source": [
    "uu_comm = uu_comm.replace(replace_dict)"
   ]
  },
  {
   "cell_type": "code",
   "execution_count": 220,
   "metadata": {
    "collapsed": false
   },
   "outputs": [],
   "source": [
    "def get_uu_comm(nid):\n",
    "    comm = uu_comm[uu_comm.id==nid]['modularity_class'].values\n",
    "    ret_vec = np.zeros(58)\n",
    "    \n",
    "    if comm.shape[0] > 0 and comm[0] >= 10000:\n",
    "        ret_vec[comm[0] - 10000] = 1\n",
    "        \n",
    "    return ret_vec"
   ]
  },
  {
   "cell_type": "code",
   "execution_count": 226,
   "metadata": {
    "collapsed": false
   },
   "outputs": [],
   "source": [
    "# get_uu_comm(80)"
   ]
  },
  {
   "cell_type": "code",
   "execution_count": null,
   "metadata": {
    "collapsed": true
   },
   "outputs": [],
   "source": []
  },
  {
   "cell_type": "code",
   "execution_count": 71,
   "metadata": {
    "collapsed": true
   },
   "outputs": [],
   "source": [
    "data_directory = DATA_ROOT"
   ]
  },
  {
   "cell_type": "code",
   "execution_count": 262,
   "metadata": {
    "collapsed": true
   },
   "outputs": [],
   "source": [
    "train_df = pd.read_csv(os.path.join(STORE_LOCATION, 'train.csv'))"
   ]
  },
  {
   "cell_type": "code",
   "execution_count": 263,
   "metadata": {
    "collapsed": true
   },
   "outputs": [],
   "source": [
    "test_df = pd.read_csv(os.path.join(STORE_LOCATION, 'test.csv'))"
   ]
  },
  {
   "cell_type": "code",
   "execution_count": 74,
   "metadata": {
    "collapsed": false
   },
   "outputs": [
    {
     "name": "stdout",
     "output_type": "stream",
     "text": [
      "Reading file...\n",
      "Converting...\n",
      "Progress | ██████████ | 100% || Estimated time remaining: 0.0 seconds\n",
      "Conversion complete...\n",
      "Forming data frame...\n"
     ]
    }
   ],
   "source": [
    "post_reader = DataReader(os.path.join(data_directory, POSTS_FILE), True)\n",
    "post_reader.read_data()"
   ]
  },
  {
   "cell_type": "code",
   "execution_count": 264,
   "metadata": {
    "collapsed": true
   },
   "outputs": [],
   "source": [
    "pdf = post_reader._df\n",
    "\n",
    "q_tags_df = pdf[pdf.PostTypeId==1][['Id', 'Tags', 'Title', 'Body', 'FavoriteCount']]\n",
    "\n",
    "train_df = train_df.merge(q_tags_df, how='left', left_on='QuestionId', right_on='Id', suffixes=('_tr', '_qt'))\n",
    "\n",
    "test_df = test_df.merge(q_tags_df, how='left', left_on='QuestionId', right_on='Id', suffixes=('_tr', '_qt'))"
   ]
  },
  {
   "cell_type": "code",
   "execution_count": 265,
   "metadata": {
    "collapsed": false
   },
   "outputs": [],
   "source": [
    "train_df.FavoriteCount = train_df.FavoriteCount.fillna(0)\n",
    "test_df.FavoriteCount = test_df.FavoriteCount.fillna(0)"
   ]
  },
  {
   "cell_type": "code",
   "execution_count": null,
   "metadata": {
    "collapsed": true
   },
   "outputs": [],
   "source": []
  },
  {
   "cell_type": "code",
   "execution_count": 266,
   "metadata": {
    "collapsed": false
   },
   "outputs": [],
   "source": [
    "def get_text_rep(train_df, test_df, field):\n",
    "    vectorizer = TfidfVectorizer(min_df = 2)\n",
    "    svd = TruncatedSVD(n_components=50)\n",
    "    \n",
    "    train_tfidf = vectorizer.fit_transform(train_df[field].values)\n",
    "    train_tfidf_best = svd.fit_transform(train_tfidf)\n",
    "\n",
    "    test_tfidf = vectorizer.transform(test_df[field].values)\n",
    "    test_tfidf_best = svd.transform(test_tfidf)\n",
    "\n",
    "    return train_tfidf_best, test_tfidf_best"
   ]
  },
  {
   "cell_type": "code",
   "execution_count": 267,
   "metadata": {
    "collapsed": false
   },
   "outputs": [],
   "source": [
    "train_body, test_body = get_text_rep(train_df, test_df, 'Body')"
   ]
  },
  {
   "cell_type": "code",
   "execution_count": 268,
   "metadata": {
    "collapsed": true
   },
   "outputs": [],
   "source": [
    "train_title, test_title = get_text_rep(train_df, test_df, 'Title')"
   ]
  },
  {
   "cell_type": "code",
   "execution_count": 269,
   "metadata": {
    "collapsed": false
   },
   "outputs": [],
   "source": [
    "train_df['body_repr'] = train_body.tolist()\n",
    "test_df['body_repr'] = test_body.tolist()"
   ]
  },
  {
   "cell_type": "code",
   "execution_count": 270,
   "metadata": {
    "collapsed": false
   },
   "outputs": [],
   "source": [
    "train_df['title_repr'] = train_title.tolist()\n",
    "test_df['title_repr'] = test_title.tolist()"
   ]
  },
  {
   "cell_type": "code",
   "execution_count": 271,
   "metadata": {
    "collapsed": true
   },
   "outputs": [],
   "source": [
    "train_df.FavoriteCount = train_df.FavoriteCount.astype(int)\n",
    "test_df.FavoriteCount = test_df.FavoriteCount.astype(int)"
   ]
  },
  {
   "cell_type": "code",
   "execution_count": 272,
   "metadata": {
    "collapsed": false
   },
   "outputs": [
    {
     "data": {
      "text/html": [
       "<div>\n",
       "<table border=\"1\" class=\"dataframe\">\n",
       "  <thead>\n",
       "    <tr style=\"text-align: right;\">\n",
       "      <th></th>\n",
       "      <th>QuestionId</th>\n",
       "      <th>AcceptedAnswerUserId</th>\n",
       "      <th>AnswerCreationDate</th>\n",
       "      <th>UsersSorted</th>\n",
       "      <th>UsersJaccard</th>\n",
       "      <th>Id</th>\n",
       "      <th>Tags</th>\n",
       "      <th>Title</th>\n",
       "      <th>Body</th>\n",
       "      <th>FavoriteCount</th>\n",
       "      <th>body_repr</th>\n",
       "      <th>title_repr</th>\n",
       "    </tr>\n",
       "  </thead>\n",
       "  <tbody>\n",
       "    <tr>\n",
       "      <th>0</th>\n",
       "      <td>5.0</td>\n",
       "      <td>45.0</td>\n",
       "      <td>2010-07-20 19:21:52.240</td>\n",
       "      <td>[45.0, 1102.0, 48.0, 226.0, 242.0]</td>\n",
       "      <td>{48.0: 0.5714285714285714, 242.0: 0.0135135135...</td>\n",
       "      <td>5</td>\n",
       "      <td>[elementary-number-theory, proof-writing, radi...</td>\n",
       "      <td>How can you prove that the square root of two ...</td>\n",
       "      <td>&lt;p&gt;I have read a few proofs that $\\sqrt{2}$ is...</td>\n",
       "      <td>14</td>\n",
       "      <td>[0.181873417598, 0.0157669000232, 0.0067303937...</td>\n",
       "      <td>[0.324548236195, -0.188566395835, 0.1317537457...</td>\n",
       "    </tr>\n",
       "    <tr>\n",
       "      <th>1</th>\n",
       "      <td>1.0</td>\n",
       "      <td>8.0</td>\n",
       "      <td>2010-07-20 19:22:20.193</td>\n",
       "      <td>[8.0, 49.0, 25.0, 35.0, 39.0]</td>\n",
       "      <td>{8.0: 0.042253521126760563, 49.0: 0.5999999999...</td>\n",
       "      <td>1</td>\n",
       "      <td>[elementary-set-theory, intuition, faq]</td>\n",
       "      <td>What Does it Really Mean to Have Different Kin...</td>\n",
       "      <td>&lt;p&gt;Can someone explain to me how there can be ...</td>\n",
       "      <td>32</td>\n",
       "      <td>[0.185280053128, -0.0662534971539, -0.01167637...</td>\n",
       "      <td>[0.130584132852, -0.0644473978605, -0.02286455...</td>\n",
       "    </tr>\n",
       "    <tr>\n",
       "      <th>2</th>\n",
       "      <td>8.0</td>\n",
       "      <td>38.0</td>\n",
       "      <td>2010-07-20 19:23:54.230</td>\n",
       "      <td>[38.0, 173.0, 334.0, 53.0, 55.0]</td>\n",
       "      <td>{55.0: 0.44444444444444442, 334.0: 0.078431372...</td>\n",
       "      <td>8</td>\n",
       "      <td>[linear-algebra, combinatorics, generating-fun...</td>\n",
       "      <td>How are we able to calculate specific numbers ...</td>\n",
       "      <td>&lt;p&gt;I was reading up on the Fibonacci Sequence ...</td>\n",
       "      <td>2</td>\n",
       "      <td>[0.259041387761, -0.0571838706992, -0.01240601...</td>\n",
       "      <td>[0.19291294533, -0.0712697748542, 0.0059971219...</td>\n",
       "    </tr>\n",
       "    <tr>\n",
       "      <th>3</th>\n",
       "      <td>2.0</td>\n",
       "      <td>34.0</td>\n",
       "      <td>2010-07-20 19:24:52.200</td>\n",
       "      <td>[34.0, 56.0, 35.0, 190287.0, 72.0]</td>\n",
       "      <td>{56.0: 0.071428571428571425, 72.0: 0.020689655...</td>\n",
       "      <td>2</td>\n",
       "      <td>[calculus, limits, definition]</td>\n",
       "      <td>What is a Limit?</td>\n",
       "      <td>&lt;p&gt;This &lt;em&gt;limit&lt;/em&gt; thing keeps coming up i...</td>\n",
       "      <td>9</td>\n",
       "      <td>[0.140413550341, -0.044399979144, -0.008842964...</td>\n",
       "      <td>[0.24649637677, -0.170205846044, 0.06069435276...</td>\n",
       "    </tr>\n",
       "    <tr>\n",
       "      <th>4</th>\n",
       "      <td>20.0</td>\n",
       "      <td>38.0</td>\n",
       "      <td>2010-07-20 19:32:21.590</td>\n",
       "      <td>[38.0, 72.0, 232.0, 51.0, 210.0]</td>\n",
       "      <td>{72.0: 0.020689655172413793, 232.0: 0.00612244...</td>\n",
       "      <td>20</td>\n",
       "      <td>[terminology, definition, number-systems]</td>\n",
       "      <td>What is a real number (also rational, decimal,...</td>\n",
       "      <td>&lt;p&gt;In mathematics there seem to be a lot of di...</td>\n",
       "      <td>7</td>\n",
       "      <td>[0.140666691782, -0.128021742943, 0.0593887643...</td>\n",
       "      <td>[0.0915694256897, -0.096801622349, 0.061342921...</td>\n",
       "    </tr>\n",
       "  </tbody>\n",
       "</table>\n",
       "</div>"
      ],
      "text/plain": [
       "   QuestionId  AcceptedAnswerUserId       AnswerCreationDate  \\\n",
       "0         5.0                  45.0  2010-07-20 19:21:52.240   \n",
       "1         1.0                   8.0  2010-07-20 19:22:20.193   \n",
       "2         8.0                  38.0  2010-07-20 19:23:54.230   \n",
       "3         2.0                  34.0  2010-07-20 19:24:52.200   \n",
       "4        20.0                  38.0  2010-07-20 19:32:21.590   \n",
       "\n",
       "                          UsersSorted  \\\n",
       "0  [45.0, 1102.0, 48.0, 226.0, 242.0]   \n",
       "1       [8.0, 49.0, 25.0, 35.0, 39.0]   \n",
       "2    [38.0, 173.0, 334.0, 53.0, 55.0]   \n",
       "3  [34.0, 56.0, 35.0, 190287.0, 72.0]   \n",
       "4    [38.0, 72.0, 232.0, 51.0, 210.0]   \n",
       "\n",
       "                                        UsersJaccard  Id  \\\n",
       "0  {48.0: 0.5714285714285714, 242.0: 0.0135135135...   5   \n",
       "1  {8.0: 0.042253521126760563, 49.0: 0.5999999999...   1   \n",
       "2  {55.0: 0.44444444444444442, 334.0: 0.078431372...   8   \n",
       "3  {56.0: 0.071428571428571425, 72.0: 0.020689655...   2   \n",
       "4  {72.0: 0.020689655172413793, 232.0: 0.00612244...  20   \n",
       "\n",
       "                                                Tags  \\\n",
       "0  [elementary-number-theory, proof-writing, radi...   \n",
       "1            [elementary-set-theory, intuition, faq]   \n",
       "2  [linear-algebra, combinatorics, generating-fun...   \n",
       "3                     [calculus, limits, definition]   \n",
       "4          [terminology, definition, number-systems]   \n",
       "\n",
       "                                               Title  \\\n",
       "0  How can you prove that the square root of two ...   \n",
       "1  What Does it Really Mean to Have Different Kin...   \n",
       "2  How are we able to calculate specific numbers ...   \n",
       "3                                   What is a Limit?   \n",
       "4  What is a real number (also rational, decimal,...   \n",
       "\n",
       "                                                Body  FavoriteCount  \\\n",
       "0  <p>I have read a few proofs that $\\sqrt{2}$ is...             14   \n",
       "1  <p>Can someone explain to me how there can be ...             32   \n",
       "2  <p>I was reading up on the Fibonacci Sequence ...              2   \n",
       "3  <p>This <em>limit</em> thing keeps coming up i...              9   \n",
       "4  <p>In mathematics there seem to be a lot of di...              7   \n",
       "\n",
       "                                           body_repr  \\\n",
       "0  [0.181873417598, 0.0157669000232, 0.0067303937...   \n",
       "1  [0.185280053128, -0.0662534971539, -0.01167637...   \n",
       "2  [0.259041387761, -0.0571838706992, -0.01240601...   \n",
       "3  [0.140413550341, -0.044399979144, -0.008842964...   \n",
       "4  [0.140666691782, -0.128021742943, 0.0593887643...   \n",
       "\n",
       "                                          title_repr  \n",
       "0  [0.324548236195, -0.188566395835, 0.1317537457...  \n",
       "1  [0.130584132852, -0.0644473978605, -0.02286455...  \n",
       "2  [0.19291294533, -0.0712697748542, 0.0059971219...  \n",
       "3  [0.24649637677, -0.170205846044, 0.06069435276...  \n",
       "4  [0.0915694256897, -0.096801622349, 0.061342921...  "
      ]
     },
     "execution_count": 272,
     "metadata": {},
     "output_type": "execute_result"
    }
   ],
   "source": [
    "train_df.head()"
   ]
  },
  {
   "cell_type": "code",
   "execution_count": null,
   "metadata": {
    "collapsed": true
   },
   "outputs": [],
   "source": []
  },
  {
   "cell_type": "code",
   "execution_count": 304,
   "metadata": {
    "collapsed": true
   },
   "outputs": [],
   "source": [
    "val_df = train_df.iloc[11000:]\n",
    "train_df = train_df.iloc[:11000]"
   ]
  },
  {
   "cell_type": "code",
   "execution_count": 307,
   "metadata": {
    "collapsed": true
   },
   "outputs": [],
   "source": [
    "def get_mrr(preds, Y):\n",
    "\n",
    "    ranks = []\n",
    "    for i in range(0, preds.shape[0] ,5):\n",
    "        max_idx = np.argmax(Y[i:i+5])\n",
    "        srt = np.argsort(preds[i:i+5],)[::-1]\n",
    "        rank = np.where(srt==max_idx)[0][0] + 1\n",
    "\n",
    "        ranks.append(rank)\n",
    "\n",
    "    return np.mean(1. / np.array(ranks))"
   ]
  },
  {
   "cell_type": "code",
   "execution_count": 308,
   "metadata": {
    "collapsed": true
   },
   "outputs": [],
   "source": [
    "def get_accuracy(preds, Y):\n",
    "    pr, tr = [], []\n",
    "    for i in range(0, preds.shape[0] ,5):\n",
    "        pr.append(np.argmax(preds[i:i+5]))\n",
    "        tr.append(np.argmax(Y[i:i+5]))\n",
    "\n",
    "    pr = np.array(pr)\n",
    "    tr = np.array(tr)\n",
    "    \n",
    "    return (pr==tr).sum()* 1. / pr.shape[0] "
   ]
  },
  {
   "cell_type": "code",
   "execution_count": 309,
   "metadata": {
    "collapsed": true
   },
   "outputs": [],
   "source": [
    "def get_user_vals(users):\n",
    "    return re.findall(r'[{]*(\\d+).0', users)"
   ]
  },
  {
   "cell_type": "code",
   "execution_count": 310,
   "metadata": {
    "collapsed": true
   },
   "outputs": [],
   "source": [
    "def get_rep(row):\n",
    "    q_body = row.body_repr\n",
    "    q_title = row.title_repr\n",
    "    q_fav = row.FavoriteCount\n",
    "    \n",
    "    accepted_user = int(row.AcceptedAnswerUserId)\n",
    "\n",
    "    outputs = []\n",
    "    \n",
    "    users = get_user_vals(row.UsersSorted)\n",
    "    for u in users:\n",
    "        user = int(u)\n",
    "        op_row = None\n",
    "        \n",
    "        user_ut_comm = get_ut_comm(user)\n",
    "        user_uu_comm = get_uu_comm(user)\n",
    "        \n",
    "        if user == accepted_user:\n",
    "            op_row = np.hstack((q_body, q_title, q_fav, user_ut_comm, user_uu_comm, 1))\n",
    "        else:\n",
    "            op_row = np.hstack((q_body, q_title, q_fav, user_ut_comm, user_uu_comm, 0))\n",
    "            \n",
    "        outputs.append(op_row)\n",
    "\n",
    "    outputs = np.vstack(outputs)\n",
    "\n",
    "    return outputs"
   ]
  },
  {
   "cell_type": "code",
   "execution_count": 311,
   "metadata": {
    "collapsed": false
   },
   "outputs": [],
   "source": [
    "temp = get_rep(train_df.ix[0])"
   ]
  },
  {
   "cell_type": "code",
   "execution_count": null,
   "metadata": {
    "collapsed": true
   },
   "outputs": [],
   "source": []
  },
  {
   "cell_type": "code",
   "execution_count": 332,
   "metadata": {
    "collapsed": false
   },
   "outputs": [
    {
     "name": "stdout",
     "output_type": "stream",
     "text": [
      "................\n",
      "Begin train\n"
     ]
    }
   ],
   "source": [
    "train_ds, val_ds = [], []\n",
    "for indx, row in train_df.iterrows():\n",
    "    temp_set = get_rep(row)\n",
    "    train_ds.append(temp_set)\n",
    "\n",
    "    if indx % 1000 == 0:\n",
    "        sys.stdout.write('.')\n",
    "        sys.stdout.flush()\n",
    "\n",
    "train_ds = np.vstack(train_ds)\n",
    "\n",
    "for indx, row in val_df.iterrows():\n",
    "    temp_set = get_rep(row)\n",
    "    val_ds.append(temp_set)\n",
    "\n",
    "    if indx % 1000 == 0:\n",
    "        sys.stdout.write('.')\n",
    "        sys.stdout.flush()\n",
    "\n",
    "val_ds = np.vstack(val_ds)\n",
    "\n",
    "print '\\nBegin train'\n",
    "clf = LogisticRegression(n_jobs=-1)\n",
    "clf.fit(train_ds[:, :167], train_ds[:, 167])\n",
    "preds = clf.predict_proba(val_ds[:, :167])[:, 1]\n",
    "score = get_accuracy(preds, val_ds[:, 167])\n",
    "mrr = get_mrr(preds, val_ds[:, 167])"
   ]
  },
  {
   "cell_type": "code",
   "execution_count": 333,
   "metadata": {
    "collapsed": false
   },
   "outputs": [
    {
     "name": "stdout",
     "output_type": "stream",
     "text": [
      "Val scores\n",
      "0.482485404504 0.491395607451\n"
     ]
    }
   ],
   "source": [
    "print 'Val scores'\n",
    "print score, mrr"
   ]
  },
  {
   "cell_type": "code",
   "execution_count": 335,
   "metadata": {
    "collapsed": false
   },
   "outputs": [
    {
     "name": "stdout",
     "output_type": "stream",
     "text": [
      "Train scores\n",
      "0.458909090909 0.501546969697\n"
     ]
    }
   ],
   "source": [
    "preds = clf.predict_proba(train_ds[:, :167])[:, 1]\n",
    "score = get_accuracy(preds, train_ds[:, 167])\n",
    "mrr = get_mrr(preds, train_ds[:, 167])\n",
    "print 'Train scores'\n",
    "print score, mrr"
   ]
  },
  {
   "cell_type": "code",
   "execution_count": 314,
   "metadata": {
    "collapsed": false
   },
   "outputs": [],
   "source": [
    "# test_ds = []\n",
    "# for indx, row in test_df.iterrows():\n",
    "#     temp_set = get_rep(row)\n",
    "#     test_ds.append(temp_set)\n",
    "\n",
    "#     if indx % 1000 == 0:\n",
    "#         sys.stdout.write('.')\n",
    "#         sys.stdout.flush()\n",
    "\n",
    "# test_ds = np.vstack(test_ds)"
   ]
  },
  {
   "cell_type": "code",
   "execution_count": 315,
   "metadata": {
    "collapsed": false
   },
   "outputs": [],
   "source": [
    "# preds = clf.predict_proba(test_ds[:, :167])[:, 1]\n",
    "# print get_accuracy(preds, test_ds[:, 167])\n",
    "# print get_mrr(preds, test_ds[:, 167])"
   ]
  },
  {
   "cell_type": "code",
   "execution_count": null,
   "metadata": {
    "collapsed": true
   },
   "outputs": [],
   "source": []
  },
  {
   "cell_type": "code",
   "execution_count": 339,
   "metadata": {
    "collapsed": false
   },
   "outputs": [],
   "source": [
    "def get_rep_uu(row, ut_model, uu_model):\n",
    "    tags = row.Tags\n",
    "    tag_id = [str(int(tag2index_dict[t])) for t in tags if t in tag2index_dict]\n",
    "    w2v_idx = [ut_model.vocab[t].index for t in tag_id if t in ut_model.vocab]\n",
    "    t_vectors = ut_model.syn0[w2v_idx]\n",
    "    q = t_vectors.mean(axis=0)\n",
    "    \n",
    "    q_body = row.body_repr\n",
    "    q_title = row.title_repr\n",
    "    q_fav = row.FavoriteCount\n",
    "    \n",
    "    accepted_user = int(row.AcceptedAnswerUserId)\n",
    "\n",
    "    outputs = []\n",
    "    \n",
    "    users = get_user_vals(row.UsersSorted)\n",
    "    for u in users:\n",
    "        useri = int(u)\n",
    "        user = str(useri)\n",
    "        op_row = None\n",
    "        \n",
    "        if user in ut_model.vocab:\n",
    "            user_w2v_idx = ut_model.vocab[user].index\n",
    "            user_vector = ut_model.syn0[user_w2v_idx]\n",
    "        else:\n",
    "#             print user\n",
    "            user_vector = np.zeros(128)\n",
    "            \n",
    "        if user in uu_model.vocab:\n",
    "            user_uu_w2v_idx = uu_model.vocab[user].index\n",
    "            user_uu_vector = uu_model.syn0[user_uu_w2v_idx]\n",
    "        else:\n",
    "#             print user, users\n",
    "            user_uu_vector = np.zeros(128)\n",
    "    \n",
    "        user_ut_comm = get_ut_comm(useri)\n",
    "        user_uu_comm = get_uu_comm(useri)\n",
    "        \n",
    "        if useri == accepted_user:\n",
    "            op_row = np.hstack((q_body, q_title, q_fav, q, user_ut_comm, user_uu_comm, user_vector, user_uu_vector, 1))\n",
    "        else:\n",
    "            op_row = np.hstack((q_body, q_title, q_fav, q, user_ut_comm, user_uu_comm, user_vector, user_uu_vector, 0))\n",
    "            \n",
    "        outputs.append(op_row)\n",
    "\n",
    "    outputs = np.vstack(outputs)\n",
    "\n",
    "    return outputs"
   ]
  },
  {
   "cell_type": "code",
   "execution_count": 340,
   "metadata": {
    "collapsed": false
   },
   "outputs": [],
   "source": [
    "temp = get_rep_uu(train_df.ix[0], ut_model, uu_model)"
   ]
  },
  {
   "cell_type": "code",
   "execution_count": 341,
   "metadata": {
    "collapsed": false
   },
   "outputs": [
    {
     "name": "stdout",
     "output_type": "stream",
     "text": [
      "................\n",
      "Begin train\n"
     ]
    }
   ],
   "source": [
    "train_ds, val_ds = [], []\n",
    "for indx, row in train_df.iterrows():\n",
    "    temp_set = get_rep_uu(row, ut_model, uu_model)\n",
    "    train_ds.append(temp_set)\n",
    "\n",
    "    if indx % 1000 == 0:\n",
    "        sys.stdout.write('.')\n",
    "        sys.stdout.flush()\n",
    "\n",
    "train_ds = np.vstack(train_ds)\n",
    "\n",
    "for indx, row in val_df.iterrows():\n",
    "    temp_set = get_rep_uu(row, ut_model, uu_model)\n",
    "    val_ds.append(temp_set)\n",
    "\n",
    "    if indx % 1000 == 0:\n",
    "        sys.stdout.write('.')\n",
    "        sys.stdout.flush()\n",
    "\n",
    "val_ds = np.vstack(val_ds)\n",
    "\n",
    "print '\\nBegin train'\n",
    "max_c = train_ds.shape[1]-1"
   ]
  },
  {
   "cell_type": "code",
   "execution_count": 342,
   "metadata": {
    "collapsed": false
   },
   "outputs": [],
   "source": [
    "clf = LogisticRegression(n_jobs=-1)\n",
    "clf.fit(train_ds[:, :max_c], train_ds[:, max_c])\n",
    "preds = clf.predict_proba(val_ds[:, :max_c])[:, 1]\n",
    "score = get_accuracy(preds, val_ds[:, max_c])\n",
    "mrr = get_mrr(preds, val_ds[:, max_c])"
   ]
  },
  {
   "cell_type": "code",
   "execution_count": 343,
   "metadata": {
    "collapsed": false
   },
   "outputs": [
    {
     "name": "stdout",
     "output_type": "stream",
     "text": [
      "Val scores\n",
      "0.396163469558 0.630824298026\n"
     ]
    }
   ],
   "source": [
    "print 'Val scores'\n",
    "print score, mrr"
   ]
  },
  {
   "cell_type": "code",
   "execution_count": 344,
   "metadata": {
    "collapsed": false
   },
   "outputs": [
    {
     "name": "stdout",
     "output_type": "stream",
     "text": [
      "Train scores\n",
      "0.436818181818 0.658445454545\n"
     ]
    }
   ],
   "source": [
    "preds = clf.predict_proba(train_ds[:, :max_c])[:, 1]\n",
    "score = get_accuracy(preds, train_ds[:, max_c])\n",
    "mrr = get_mrr(preds, train_ds[:, max_c])\n",
    "print 'Train scores'\n",
    "print score, mrr"
   ]
  },
  {
   "cell_type": "code",
   "execution_count": 327,
   "metadata": {
    "collapsed": false
   },
   "outputs": [],
   "source": [
    "# test_ds = []\n",
    "# for indx, row in test_df.iterrows():\n",
    "#     temp_set = get_rep_uu(row, ut_model, uu_model)\n",
    "#     test_ds.append(temp_set)\n",
    "\n",
    "#     if indx % 1000 == 0:\n",
    "#         sys.stdout.write('.')\n",
    "#         sys.stdout.flush()\n",
    "\n",
    "# test_ds = np.vstack(test_ds)\n",
    "\n",
    "# preds = clf.predict_proba(test_ds[:, :max_c])[:, 1]\n",
    "# print get_accuracy(preds, test_ds[:, max_c])\n",
    "# print get_mrr(preds, test_ds[:, max_c])"
   ]
  },
  {
   "cell_type": "code",
   "execution_count": null,
   "metadata": {
    "collapsed": true
   },
   "outputs": [],
   "source": []
  },
  {
   "cell_type": "code",
   "execution_count": 346,
   "metadata": {
    "collapsed": false
   },
   "outputs": [
    {
     "data": {
      "text/plain": [
       "551"
      ]
     },
     "execution_count": 346,
     "metadata": {},
     "output_type": "execute_result"
    }
   ],
   "source": [
    "max_c"
   ]
  },
  {
   "cell_type": "markdown",
   "metadata": {},
   "source": [
    "## RF"
   ]
  },
  {
   "cell_type": "code",
   "execution_count": 367,
   "metadata": {
    "collapsed": false
   },
   "outputs": [
    {
     "name": "stderr",
     "output_type": "stream",
     "text": [
      "[Parallel(n_jobs=-1)]: Done  20 out of  20 | elapsed:    3.4s finished\n"
     ]
    },
    {
     "name": "stdout",
     "output_type": "stream",
     "text": [
      "Val\n",
      "0.398040033361\n"
     ]
    },
    {
     "name": "stderr",
     "output_type": "stream",
     "text": [
      "[Parallel(n_jobs=8)]: Done  20 out of  20 | elapsed:    0.0s finished\n"
     ]
    },
    {
     "name": "stdout",
     "output_type": "stream",
     "text": [
      "0.630490686683\n",
      "Train\n"
     ]
    },
    {
     "name": "stderr",
     "output_type": "stream",
     "text": [
      "[Parallel(n_jobs=8)]: Done  20 out of  20 | elapsed:    0.1s finished\n"
     ]
    },
    {
     "name": "stdout",
     "output_type": "stream",
     "text": [
      "0.583181818182\n",
      "0.760683333333\n",
      "Test\n",
      "0.448625180897\n",
      "0.672977970735\n"
     ]
    },
    {
     "name": "stderr",
     "output_type": "stream",
     "text": [
      "[Parallel(n_jobs=8)]: Done  20 out of  20 | elapsed:    0.0s finished\n"
     ]
    }
   ],
   "source": [
    "clf = RandomForestClassifier(n_jobs=-1, n_estimators=20, max_depth=10, oob_score=True, verbose=1)\n",
    "clf.fit(train_ds[:, :max_c], train_ds[:, max_c])\n",
    "\n",
    "print 'Val'\n",
    "preds = clf.predict_proba(val_ds[:, :max_c])[:, 1]\n",
    "print get_accuracy(preds, val_ds[:, max_c])\n",
    "print get_mrr(preds, val_ds[:, max_c])\n",
    "\n",
    "print 'Train'\n",
    "preds = clf.predict_proba(train_ds[:, :max_c])[:, 1]\n",
    "print get_accuracy(preds, train_ds[:, max_c])\n",
    "print get_mrr(preds, train_ds[:, max_c])\n",
    "\n",
    "print 'Test'\n",
    "preds = clf.predict_proba(test_ds[:, :max_c])[:, 1]\n",
    "print get_accuracy(preds, test_ds[:, max_c])\n",
    "print get_mrr(preds, test_ds[:, max_c])"
   ]
  },
  {
   "cell_type": "code",
   "execution_count": null,
   "metadata": {
    "collapsed": true
   },
   "outputs": [],
   "source": []
  },
  {
   "cell_type": "markdown",
   "metadata": {},
   "source": [
    "## GBT"
   ]
  },
  {
   "cell_type": "code",
   "execution_count": 368,
   "metadata": {
    "collapsed": false,
    "scrolled": true
   },
   "outputs": [
    {
     "name": "stdout",
     "output_type": "stream",
     "text": [
      "      Iter       Train Loss   Remaining Time \n",
      "         1           0.9853            4.37m\n",
      "         2           0.9723            4.35m\n",
      "         3           0.9607            4.27m\n",
      "         4           0.9513            4.19m\n",
      "         5           0.9427            4.16m\n",
      "         6           0.9354            4.11m\n",
      "         7           0.9288            4.12m\n",
      "         8           0.9230            4.08m\n",
      "         9           0.9182            4.02m\n",
      "        10           0.9136            3.99m\n",
      "        11           0.9096            3.94m\n",
      "        12           0.9063            3.90m\n",
      "        13           0.9030            3.86m\n",
      "        14           0.9001            3.81m\n",
      "        15           0.8974            3.76m\n",
      "        16           0.8949            3.70m\n",
      "        17           0.8926            3.65m\n",
      "        18           0.8906            3.60m\n",
      "        19           0.8887            3.56m\n",
      "        20           0.8868            3.52m\n",
      "        21           0.8851            3.47m\n",
      "        22           0.8833            3.43m\n",
      "        23           0.8817            3.38m\n",
      "        24           0.8803            3.33m\n",
      "        25           0.8789            3.29m\n",
      "        26           0.8776            3.24m\n",
      "        27           0.8765            3.20m\n",
      "        28           0.8753            3.15m\n",
      "        29           0.8741            3.10m\n",
      "        30           0.8730            3.06m\n",
      "        31           0.8717            3.00m\n",
      "        32           0.8707            2.96m\n",
      "        33           0.8697            2.91m\n",
      "        34           0.8687            2.86m\n",
      "        35           0.8679            2.82m\n",
      "        36           0.8671            2.77m\n",
      "        37           0.8663            2.73m\n",
      "        38           0.8655            2.68m\n",
      "        39           0.8647            2.64m\n",
      "        40           0.8640            2.59m\n",
      "        41           0.8630            2.55m\n",
      "        42           0.8623            2.50m\n",
      "        43           0.8618            2.45m\n",
      "        44           0.8613            2.41m\n",
      "        45           0.8607            2.36m\n",
      "        46           0.8599            2.32m\n",
      "        47           0.8592            2.27m\n",
      "        48           0.8585            2.23m\n",
      "        49           0.8579            2.19m\n",
      "        50           0.8573            2.14m\n",
      "        51           0.8566            2.10m\n",
      "        52           0.8561            2.06m\n",
      "        53           0.8556            2.01m\n",
      "        54           0.8551            1.97m\n",
      "        55           0.8546            1.92m\n",
      "        56           0.8540            1.88m\n",
      "        57           0.8535            1.84m\n",
      "        58           0.8529            1.79m\n",
      "        59           0.8524            1.75m\n",
      "        60           0.8518            1.71m\n",
      "        61           0.8514            1.67m\n",
      "        62           0.8509            1.62m\n",
      "        63           0.8504            1.58m\n",
      "        64           0.8499            1.54m\n",
      "        65           0.8494            1.49m\n",
      "        66           0.8490            1.45m\n",
      "        67           0.8486            1.41m\n",
      "        68           0.8481            1.36m\n",
      "        69           0.8477            1.32m\n",
      "        70           0.8472            1.28m\n",
      "        71           0.8467            1.23m\n",
      "        72           0.8463            1.19m\n",
      "        73           0.8459            1.15m\n",
      "        74           0.8455            1.10m\n",
      "        75           0.8451            1.06m\n",
      "        76           0.8447            1.02m\n",
      "        77           0.8442           58.53s\n",
      "        78           0.8438           55.95s\n",
      "        79           0.8435           53.41s\n",
      "        80           0.8431           50.86s\n",
      "        81           0.8426           48.29s\n",
      "        82           0.8422           45.74s\n",
      "        83           0.8418           43.20s\n",
      "        84           0.8414           40.65s\n",
      "        85           0.8408           38.12s\n",
      "        86           0.8404           35.57s\n",
      "        87           0.8401           33.03s\n",
      "        88           0.8397           30.48s\n",
      "        89           0.8394           27.93s\n",
      "        90           0.8390           25.38s\n",
      "        91           0.8386           22.83s\n",
      "        92           0.8381           20.30s\n",
      "        93           0.8377           17.77s\n",
      "        94           0.8373           15.24s\n",
      "        95           0.8370           12.69s\n",
      "        96           0.8366           10.16s\n",
      "        97           0.8363            7.61s\n",
      "        98           0.8359            5.08s\n",
      "        99           0.8355            2.54s\n",
      "       100           0.8352            0.00s\n",
      "Val\n",
      "0.405129274395\n",
      "0.635724214623\n",
      "Train\n",
      "0.476181818182\n",
      "0.685684848485\n",
      "Test\n",
      "0.451519536903\n",
      "0.671213217559\n"
     ]
    }
   ],
   "source": [
    "clf = GradientBoostingClassifier(verbose=3)\n",
    "clf.fit(train_ds[:, :max_c], train_ds[:, max_c])\n",
    "\n",
    "print 'Val'\n",
    "preds = clf.predict_proba(val_ds[:, :max_c])[:, 1]\n",
    "print get_accuracy(preds, val_ds[:, max_c])\n",
    "print get_mrr(preds, val_ds[:, max_c])\n",
    "\n",
    "print 'Train'\n",
    "preds = clf.predict_proba(train_ds[:, :max_c])[:, 1]\n",
    "print get_accuracy(preds, train_ds[:, max_c])\n",
    "print get_mrr(preds, train_ds[:, max_c])\n",
    "\n",
    "print 'Test'\n",
    "preds = clf.predict_proba(test_ds[:, :max_c])[:, 1]\n",
    "print get_accuracy(preds, test_ds[:, max_c])\n",
    "print get_mrr(preds, test_ds[:, max_c])"
   ]
  },
  {
   "cell_type": "code",
   "execution_count": null,
   "metadata": {
    "collapsed": true
   },
   "outputs": [],
   "source": []
  },
  {
   "cell_type": "code",
   "execution_count": null,
   "metadata": {
    "collapsed": true
   },
   "outputs": [],
   "source": []
  },
  {
   "cell_type": "code",
   "execution_count": 369,
   "metadata": {
    "collapsed": true
   },
   "outputs": [],
   "source": [
    "def get_ranks(preds, Y):\n",
    "\n",
    "    ranks = []\n",
    "    for i in range(0, preds.shape[0] ,5):\n",
    "        max_idx = np.argmax(Y[i:i+5])\n",
    "        srt = np.argsort(preds[i:i+5],)[::-1]\n",
    "        rank = np.where(srt==max_idx)[0][0] + 1\n",
    "\n",
    "        ranks.append(rank)\n",
    "        \n",
    "    return ranks"
   ]
  },
  {
   "cell_type": "code",
   "execution_count": 373,
   "metadata": {
    "collapsed": false
   },
   "outputs": [],
   "source": [
    "ranks = np.array(get_ranks(preds, test_ds[:, max_c]))"
   ]
  },
  {
   "cell_type": "code",
   "execution_count": 508,
   "metadata": {
    "collapsed": true
   },
   "outputs": [],
   "source": [
    "good_questn = np.nonzero(ranks < 3)"
   ]
  },
  {
   "cell_type": "code",
   "execution_count": 392,
   "metadata": {
    "collapsed": false
   },
   "outputs": [],
   "source": [
    "bad_questn = np.nonzero(ranks > 3)"
   ]
  },
  {
   "cell_type": "code",
   "execution_count": 411,
   "metadata": {
    "collapsed": false
   },
   "outputs": [],
   "source": [
    "# test_df.iloc[bad_questn]"
   ]
  },
  {
   "cell_type": "code",
   "execution_count": 393,
   "metadata": {
    "collapsed": false
   },
   "outputs": [],
   "source": [
    "bad_questn_tags = test_df.iloc[bad_questn].Tags.values"
   ]
  },
  {
   "cell_type": "code",
   "execution_count": 418,
   "metadata": {
    "collapsed": false,
    "scrolled": true
   },
   "outputs": [],
   "source": [
    "tag_cnts = Counter(itertools.chain.from_iterable(bad_questn_tags))"
   ]
  },
  {
   "cell_type": "code",
   "execution_count": 416,
   "metadata": {
    "collapsed": false
   },
   "outputs": [],
   "source": [
    "with open('data_temp/tag_clusters.pkl', 'rb') as f:\n",
    "    tag_clusters = pickle.load(f)"
   ]
  },
  {
   "cell_type": "code",
   "execution_count": 424,
   "metadata": {
    "collapsed": false,
    "scrolled": true
   },
   "outputs": [],
   "source": [
    "tag_comm_size = {l:len(v) for k,v in tag_clusters.items() for l in v}"
   ]
  },
  {
   "cell_type": "code",
   "execution_count": 429,
   "metadata": {
    "collapsed": false
   },
   "outputs": [
    {
     "data": {
      "text/plain": [
       "539"
      ]
     },
     "execution_count": 429,
     "metadata": {},
     "output_type": "execute_result"
    }
   ],
   "source": [
    "tag_comm_size.get('3d', -1)"
   ]
  },
  {
   "cell_type": "code",
   "execution_count": 436,
   "metadata": {
    "collapsed": false,
    "scrolled": false
   },
   "outputs": [],
   "source": [
    "cnt, size = zip(*[(v, tag_comm_size.get(k, -1)) for k, v in tag_cnts.items()])"
   ]
  },
  {
   "cell_type": "code",
   "execution_count": 439,
   "metadata": {
    "collapsed": false
   },
   "outputs": [
    {
     "data": {
      "text/plain": [
       "<matplotlib.collections.PathCollection at 0x1d120aa10>"
      ]
     },
     "execution_count": 439,
     "metadata": {},
     "output_type": "execute_result"
    },
    {
     "data": {
      "image/png": "[encoded data removed]",
      "text/plain": [
       "<matplotlib.figure.Figure at 0x22e69a810>"
      ]
     },
     "metadata": {},
     "output_type": "display_data"
    }
   ],
   "source": [
    "plt.scatter(cnt, size)"
   ]
  },
  {
   "cell_type": "code",
   "execution_count": null,
   "metadata": {
    "collapsed": true
   },
   "outputs": [],
   "source": []
  },
  {
   "cell_type": "code",
   "execution_count": 465,
   "metadata": {
    "collapsed": false
   },
   "outputs": [],
   "source": [
    "degrees = defaultdict(int)\n",
    "with open('data_created/graphs/user-tag.txt', 'r') as fl:\n",
    "    for line in fl.readlines():\n",
    "        n1, n2 = line.split('\\t')\n",
    "        degrees[float(n1)] += 1\n",
    "        degrees[float(n2)] += 1"
   ]
  },
  {
   "cell_type": "code",
   "execution_count": null,
   "metadata": {
    "collapsed": true
   },
   "outputs": [],
   "source": []
  },
  {
   "cell_type": "code",
   "execution_count": 481,
   "metadata": {
    "collapsed": false
   },
   "outputs": [],
   "source": [
    "cnt_degrees = [(v, degrees[tag2index_dict[k]]) for k, v in tag_cnts.items() if k in tag2index_dict]"
   ]
  },
  {
   "cell_type": "code",
   "execution_count": 499,
   "metadata": {
    "collapsed": false
   },
   "outputs": [
    {
     "data": {
      "text/plain": [
       "<matplotlib.collections.PathCollection at 0x1f94ef690>"
      ]
     },
     "execution_count": 499,
     "metadata": {},
     "output_type": "execute_result"
    },
    {
     "data": {
      "image/png": "[encoded data removed]",
      "text/plain": [
       "<matplotlib.figure.Figure at 0x1f6e8a810>"
      ]
     },
     "metadata": {},
     "output_type": "display_data"
    }
   ],
   "source": [
    "cnt_degrees_rel = filter(lambda x: x[0] > 3, cnt_degrees)\n",
    "cnt, degree = zip(*cnt_degrees_rel)\n",
    "\n",
    "plt.scatter(cnt, degree)"
   ]
  },
  {
   "cell_type": "code",
   "execution_count": null,
   "metadata": {
    "collapsed": true
   },
   "outputs": [],
   "source": []
  },
  {
   "cell_type": "code",
   "execution_count": 504,
   "metadata": {
    "collapsed": false
   },
   "outputs": [],
   "source": [
    "bad_q_acc_users = test_df.iloc[bad_questn]['AcceptedAnswerUserId'].values"
   ]
  },
  {
   "cell_type": "code",
   "execution_count": 509,
   "metadata": {
    "collapsed": false
   },
   "outputs": [],
   "source": [
    "good_q_acc_users = test_df.iloc[good_questn]['AcceptedAnswerUserId'].values"
   ]
  },
  {
   "cell_type": "code",
   "execution_count": 517,
   "metadata": {
    "collapsed": false
   },
   "outputs": [
    {
     "data": {
      "text/plain": [
       "<matplotlib.axes._subplots.AxesSubplot at 0x209833790>"
      ]
     },
     "execution_count": 517,
     "metadata": {},
     "output_type": "execute_result"
    },
    {
     "data": {
      "image/png": "[encoded data removed]",
      "text/plain": [
       "<matplotlib.figure.Figure at 0x20857ec90>"
      ]
     },
     "metadata": {},
     "output_type": "display_data"
    }
   ],
   "source": [
    "sns.boxplot(x=[degrees[u] for u in good_q_acc_users])"
   ]
  },
  {
   "cell_type": "code",
   "execution_count": 518,
   "metadata": {
    "collapsed": false
   },
   "outputs": [
    {
     "data": {
      "text/plain": [
       "<matplotlib.axes._subplots.AxesSubplot at 0x20c1aa050>"
      ]
     },
     "execution_count": 518,
     "metadata": {},
     "output_type": "execute_result"
    },
    {
     "data": {
      "image/png": "[encoded data removed]",
      "text/plain": [
       "<matplotlib.figure.Figure at 0x20c606ed0>"
      ]
     },
     "metadata": {},
     "output_type": "display_data"
    }
   ],
   "source": [
    "sns.boxplot(x=[degrees[u] for u in bad_q_acc_users])"
   ]
  },
  {
   "cell_type": "code",
   "execution_count": null,
   "metadata": {
    "collapsed": true
   },
   "outputs": [],
   "source": []
  },
  {
   "cell_type": "code",
   "execution_count": null,
   "metadata": {
    "collapsed": true
   },
   "outputs": [],
   "source": []
  },
  {
   "cell_type": "code",
   "execution_count": null,
   "metadata": {
    "collapsed": true
   },
   "outputs": [],
   "source": []
  },
  {
   "cell_type": "code",
   "execution_count": null,
   "metadata": {
    "collapsed": true
   },
   "outputs": [],
   "source": []
  }
 ],
 "metadata": {
  "kernelspec": {
   "display_name": "Python 2",
   "language": "python",
   "name": "python2"
  },
  "language_info": {
   "codemirror_mode": {
    "name": "ipython",
    "version": 2
   },
   "file_extension": ".py",
   "mimetype": "text/x-python",
   "name": "python",
   "nbconvert_exporter": "python",
   "pygments_lexer": "ipython2",
   "version": "2.7.12"
  }
 },
 "nbformat": 4,
 "nbformat_minor": 0
}
