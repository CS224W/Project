{
 "cells": [
  {
   "cell_type": "code",
   "execution_count": 573,
   "metadata": {
    "collapsed": false
   },
   "outputs": [],
   "source": [
    "import pandas as pd\n",
    "import os, sys, pickle\n",
    "import ujson, re, itertools\n",
    "import numpy as np\n",
    "import seaborn as sns\n",
    "\n",
    "from collections import Counter, defaultdict\n",
    "from matplotlib import pyplot as plt\n",
    "from sklearn.model_selection import cross_val_score\n",
    "from sklearn.decomposition import TruncatedSVD\n",
    "from sklearn.feature_extraction.text import TfidfVectorizer\n",
    "from sklearn.linear_model import LogisticRegression\n",
    "from sklearn.ensemble import RandomForestClassifier, GradientBoostingClassifier\n",
    "from gensim.models import Word2Vec\n",
    "from src.DataReader import DataReader\n",
    "from src.constants import SPLIT_TIME, STORE_LOCATION, DATA_ROOT, POSTS_FILE, VOTES_FILE\n",
    "from operator import itemgetter"
   ]
  },
  {
   "cell_type": "code",
   "execution_count": 3,
   "metadata": {
    "collapsed": true
   },
   "outputs": [],
   "source": [
    "%matplotlib inline"
   ]
  },
  {
   "cell_type": "code",
   "execution_count": 255,
   "metadata": {
    "collapsed": true
   },
   "outputs": [],
   "source": [
    "emb_root = '/Users/prmathur/Documents/Pers/MMDS/Course/CS224W/Project/snap-master/examples/node2vec/emb/'"
   ]
  },
  {
   "cell_type": "code",
   "execution_count": 256,
   "metadata": {
    "collapsed": true
   },
   "outputs": [],
   "source": [
    "ut_model = Word2Vec.load_word2vec_format(os.path.join(emb_root, 'ut_p1-q1.emb'), binary=False)\n",
    "\n",
    "uu_model = Word2Vec.load_word2vec_format(os.path.join(emb_root, 'uu_p0.25-q0.25.emb'), binary=False)"
   ]
  },
  {
   "cell_type": "code",
   "execution_count": 257,
   "metadata": {
    "collapsed": true
   },
   "outputs": [],
   "source": [
    "indx2tag_dict = {}\n",
    "tag2index_dict = {}\n",
    "with open(os.path.join(STORE_LOCATION, 'graphs/user-tag_keys.txt')) as tg_fl:\n",
    "    for row in tg_fl:\n",
    "        k, v = row.strip().split(',')\n",
    "        indx2tag_dict[float(v.strip())] = k\n",
    "        tag2index_dict[k] = float(v.strip())"
   ]
  },
  {
   "cell_type": "code",
   "execution_count": null,
   "metadata": {
    "collapsed": true
   },
   "outputs": [],
   "source": []
  },
  {
   "cell_type": "code",
   "execution_count": 209,
   "metadata": {
    "collapsed": false
   },
   "outputs": [],
   "source": [
    "ut_comm = pd.read_csv(os.path.join(STORE_LOCATION, 'community_detection', 'user-tag-new-communityId.tsv'), '\\t')"
   ]
  },
  {
   "cell_type": "code",
   "execution_count": 210,
   "metadata": {
    "collapsed": true
   },
   "outputs": [],
   "source": [
    "uu_comm = pd.read_csv(os.path.join(STORE_LOCATION, 'community_detection', 'user-user-new-communityId.tsv'), '\\t')"
   ]
  },
  {
   "cell_type": "code",
   "execution_count": 211,
   "metadata": {
    "collapsed": false
   },
   "outputs": [],
   "source": [
    "def get_ut_comm(nid):\n",
    "    comm = ut_comm[ut_comm.id==nid]['modularity_class'].values\n",
    "    ret_vec = np.zeros(8)\n",
    "    \n",
    "    if comm.shape[0] > 0:\n",
    "        ret_vec[comm[0]] = 1\n",
    "        \n",
    "    return ret_vec"
   ]
  },
  {
   "cell_type": "code",
   "execution_count": null,
   "metadata": {
    "collapsed": false
   },
   "outputs": [],
   "source": []
  },
  {
   "cell_type": "code",
   "execution_count": 212,
   "metadata": {
    "collapsed": false
   },
   "outputs": [],
   "source": [
    "uu_comm_cnts = uu_comm.groupby('modularity_class').count() > 2"
   ]
  },
  {
   "cell_type": "code",
   "execution_count": 213,
   "metadata": {
    "collapsed": false
   },
   "outputs": [],
   "source": [
    "big_comm = uu_comm_cnts[uu_comm_cnts.id==True].index.tolist()"
   ]
  },
  {
   "cell_type": "code",
   "execution_count": 214,
   "metadata": {
    "collapsed": false
   },
   "outputs": [],
   "source": [
    "uu_comm['modularity_class'][~uu_comm.modularity_class.isin(big_comm)] = -1"
   ]
  },
  {
   "cell_type": "code",
   "execution_count": 215,
   "metadata": {
    "collapsed": false
   },
   "outputs": [],
   "source": [
    "replace_dict = {'modularity_class': \n",
    "                dict(zip(uu_comm.modularity_class.unique(), \n",
    "                         np.arange(uu_comm.modularity_class.unique().shape[0]) + 10000))}"
   ]
  },
  {
   "cell_type": "code",
   "execution_count": 218,
   "metadata": {
    "collapsed": false
   },
   "outputs": [],
   "source": [
    "replace_dict['modularity_class'][-1] = -100"
   ]
  },
  {
   "cell_type": "code",
   "execution_count": 219,
   "metadata": {
    "collapsed": false
   },
   "outputs": [],
   "source": [
    "uu_comm = uu_comm.replace(replace_dict)"
   ]
  },
  {
   "cell_type": "code",
   "execution_count": 220,
   "metadata": {
    "collapsed": false
   },
   "outputs": [],
   "source": [
    "def get_uu_comm(nid):\n",
    "    comm = uu_comm[uu_comm.id==nid]['modularity_class'].values\n",
    "    ret_vec = np.zeros(58)\n",
    "    \n",
    "    if comm.shape[0] > 0 and comm[0] >= 10000:\n",
    "        ret_vec[comm[0] - 10000] = 1\n",
    "        \n",
    "    return ret_vec"
   ]
  },
  {
   "cell_type": "code",
   "execution_count": 226,
   "metadata": {
    "collapsed": false
   },
   "outputs": [],
   "source": [
    "# get_uu_comm(80)"
   ]
  },
  {
   "cell_type": "code",
   "execution_count": null,
   "metadata": {
    "collapsed": true
   },
   "outputs": [],
   "source": []
  },
  {
   "cell_type": "code",
   "execution_count": 71,
   "metadata": {
    "collapsed": true
   },
   "outputs": [],
   "source": [
    "data_directory = DATA_ROOT"
   ]
  },
  {
   "cell_type": "code",
   "execution_count": 520,
   "metadata": {
    "collapsed": true
   },
   "outputs": [],
   "source": [
    "train_df = pd.read_csv(os.path.join(STORE_LOCATION, 'train.csv'))"
   ]
  },
  {
   "cell_type": "code",
   "execution_count": 521,
   "metadata": {
    "collapsed": true
   },
   "outputs": [],
   "source": [
    "test_df = pd.read_csv(os.path.join(STORE_LOCATION, 'test.csv'))"
   ]
  },
  {
   "cell_type": "code",
   "execution_count": 74,
   "metadata": {
    "collapsed": false
   },
   "outputs": [
    {
     "name": "stdout",
     "output_type": "stream",
     "text": [
      "Reading file...\n",
      "Converting...\n",
      "Progress | ██████████ | 100% || Estimated time remaining: 0.0 seconds\n",
      "Conversion complete...\n",
      "Forming data frame...\n"
     ]
    }
   ],
   "source": [
    "post_reader = DataReader(os.path.join(data_directory, POSTS_FILE), True)\n",
    "post_reader.read_data()"
   ]
  },
  {
   "cell_type": "code",
   "execution_count": 522,
   "metadata": {
    "collapsed": true
   },
   "outputs": [],
   "source": [
    "pdf = post_reader._df\n",
    "\n",
    "q_tags_df = pdf[pdf.PostTypeId==1][['Id', 'Tags', 'Title', 'Body', 'FavoriteCount']]\n",
    "\n",
    "train_df = train_df.merge(q_tags_df, how='left', left_on='QuestionId', right_on='Id', suffixes=('_tr', '_qt'))\n",
    "\n",
    "test_df = test_df.merge(q_tags_df, how='left', left_on='QuestionId', right_on='Id', suffixes=('_tr', '_qt'))"
   ]
  },
  {
   "cell_type": "code",
   "execution_count": 523,
   "metadata": {
    "collapsed": false
   },
   "outputs": [],
   "source": [
    "train_df.FavoriteCount = train_df.FavoriteCount.fillna(0)\n",
    "test_df.FavoriteCount = test_df.FavoriteCount.fillna(0)"
   ]
  },
  {
   "cell_type": "code",
   "execution_count": null,
   "metadata": {
    "collapsed": true
   },
   "outputs": [],
   "source": []
  },
  {
   "cell_type": "code",
   "execution_count": 524,
   "metadata": {
    "collapsed": false
   },
   "outputs": [],
   "source": [
    "def get_text_rep(train_df, test_df, field):\n",
    "    vectorizer = TfidfVectorizer(min_df = 2)\n",
    "    svd = TruncatedSVD(n_components=50)\n",
    "    \n",
    "    train_tfidf = vectorizer.fit_transform(train_df[field].values)\n",
    "    train_tfidf_best = svd.fit_transform(train_tfidf)\n",
    "\n",
    "    test_tfidf = vectorizer.transform(test_df[field].values)\n",
    "    test_tfidf_best = svd.transform(test_tfidf)\n",
    "\n",
    "    return train_tfidf_best, test_tfidf_best"
   ]
  },
  {
   "cell_type": "code",
   "execution_count": 525,
   "metadata": {
    "collapsed": false
   },
   "outputs": [],
   "source": [
    "train_body, test_body = get_text_rep(train_df, test_df, 'Body')"
   ]
  },
  {
   "cell_type": "code",
   "execution_count": 526,
   "metadata": {
    "collapsed": true
   },
   "outputs": [],
   "source": [
    "train_title, test_title = get_text_rep(train_df, test_df, 'Title')"
   ]
  },
  {
   "cell_type": "code",
   "execution_count": 527,
   "metadata": {
    "collapsed": false
   },
   "outputs": [],
   "source": [
    "train_df['body_repr'] = train_body.tolist()\n",
    "test_df['body_repr'] = test_body.tolist()"
   ]
  },
  {
   "cell_type": "code",
   "execution_count": 528,
   "metadata": {
    "collapsed": false
   },
   "outputs": [],
   "source": [
    "train_df['title_repr'] = train_title.tolist()\n",
    "test_df['title_repr'] = test_title.tolist()"
   ]
  },
  {
   "cell_type": "code",
   "execution_count": 529,
   "metadata": {
    "collapsed": true
   },
   "outputs": [],
   "source": [
    "train_df.FavoriteCount = train_df.FavoriteCount.astype(int)\n",
    "test_df.FavoriteCount = test_df.FavoriteCount.astype(int)"
   ]
  },
  {
   "cell_type": "code",
   "execution_count": 530,
   "metadata": {
    "collapsed": false
   },
   "outputs": [
    {
     "data": {
      "text/html": [
       "<div>\n",
       "<table border=\"1\" class=\"dataframe\">\n",
       "  <thead>\n",
       "    <tr style=\"text-align: right;\">\n",
       "      <th></th>\n",
       "      <th>QuestionId</th>\n",
       "      <th>AcceptedAnswerUserId</th>\n",
       "      <th>AnswerCreationDate</th>\n",
       "      <th>UsersSorted</th>\n",
       "      <th>UsersJaccard</th>\n",
       "      <th>Id</th>\n",
       "      <th>Tags</th>\n",
       "      <th>Title</th>\n",
       "      <th>Body</th>\n",
       "      <th>FavoriteCount</th>\n",
       "      <th>body_repr</th>\n",
       "      <th>title_repr</th>\n",
       "    </tr>\n",
       "  </thead>\n",
       "  <tbody>\n",
       "    <tr>\n",
       "      <th>0</th>\n",
       "      <td>5.0</td>\n",
       "      <td>45.0</td>\n",
       "      <td>2010-07-20 19:21:52.240</td>\n",
       "      <td>[45.0, 1102.0, 48.0, 226.0, 242.0]</td>\n",
       "      <td>{48.0: 0.5714285714285714, 242.0: 0.0135135135...</td>\n",
       "      <td>5</td>\n",
       "      <td>[elementary-number-theory, proof-writing, radi...</td>\n",
       "      <td>How can you prove that the square root of two ...</td>\n",
       "      <td>&lt;p&gt;I have read a few proofs that $\\sqrt{2}$ is...</td>\n",
       "      <td>14</td>\n",
       "      <td>[0.181873417985, 0.0157658634759, 0.0066962837...</td>\n",
       "      <td>[0.324548922376, -0.188570008952, 0.1317489262...</td>\n",
       "    </tr>\n",
       "    <tr>\n",
       "      <th>1</th>\n",
       "      <td>1.0</td>\n",
       "      <td>8.0</td>\n",
       "      <td>2010-07-20 19:22:20.193</td>\n",
       "      <td>[8.0, 49.0, 25.0, 35.0, 39.0]</td>\n",
       "      <td>{8.0: 0.042253521126760563, 49.0: 0.5999999999...</td>\n",
       "      <td>1</td>\n",
       "      <td>[elementary-set-theory, intuition, faq]</td>\n",
       "      <td>What Does it Really Mean to Have Different Kin...</td>\n",
       "      <td>&lt;p&gt;Can someone explain to me how there can be ...</td>\n",
       "      <td>32</td>\n",
       "      <td>[0.185280055029, -0.0662526086788, -0.01167842...</td>\n",
       "      <td>[0.130584251032, -0.0644506331819, -0.02289859...</td>\n",
       "    </tr>\n",
       "    <tr>\n",
       "      <th>2</th>\n",
       "      <td>8.0</td>\n",
       "      <td>38.0</td>\n",
       "      <td>2010-07-20 19:23:54.230</td>\n",
       "      <td>[38.0, 173.0, 334.0, 53.0, 55.0]</td>\n",
       "      <td>{55.0: 0.44444444444444442, 334.0: 0.078431372...</td>\n",
       "      <td>8</td>\n",
       "      <td>[linear-algebra, combinatorics, generating-fun...</td>\n",
       "      <td>How are we able to calculate specific numbers ...</td>\n",
       "      <td>&lt;p&gt;I was reading up on the Fibonacci Sequence ...</td>\n",
       "      <td>2</td>\n",
       "      <td>[0.259041389642, -0.0571826219598, -0.01241225...</td>\n",
       "      <td>[0.192912027171, -0.0712689158065, 0.006061145...</td>\n",
       "    </tr>\n",
       "    <tr>\n",
       "      <th>3</th>\n",
       "      <td>2.0</td>\n",
       "      <td>34.0</td>\n",
       "      <td>2010-07-20 19:24:52.200</td>\n",
       "      <td>[34.0, 56.0, 35.0, 190287.0, 72.0]</td>\n",
       "      <td>{56.0: 0.071428571428571425, 72.0: 0.020689655...</td>\n",
       "      <td>2</td>\n",
       "      <td>[calculus, limits, definition]</td>\n",
       "      <td>What is a Limit?</td>\n",
       "      <td>&lt;p&gt;This &lt;em&gt;limit&lt;/em&gt; thing keeps coming up i...</td>\n",
       "      <td>9</td>\n",
       "      <td>[0.140413551892, -0.0444013814394, -0.00881151...</td>\n",
       "      <td>[0.246496302139, -0.170203717123, 0.0607170295...</td>\n",
       "    </tr>\n",
       "    <tr>\n",
       "      <th>4</th>\n",
       "      <td>20.0</td>\n",
       "      <td>38.0</td>\n",
       "      <td>2010-07-20 19:32:21.590</td>\n",
       "      <td>[38.0, 72.0, 232.0, 51.0, 210.0]</td>\n",
       "      <td>{72.0: 0.020689655172413793, 232.0: 0.00612244...</td>\n",
       "      <td>20</td>\n",
       "      <td>[terminology, definition, number-systems]</td>\n",
       "      <td>What is a real number (also rational, decimal,...</td>\n",
       "      <td>&lt;p&gt;In mathematics there seem to be a lot of di...</td>\n",
       "      <td>7</td>\n",
       "      <td>[0.140666693718, -0.128020713251, 0.0593964169...</td>\n",
       "      <td>[0.0915691937887, -0.0968005346337, 0.06135534...</td>\n",
       "    </tr>\n",
       "  </tbody>\n",
       "</table>\n",
       "</div>"
      ],
      "text/plain": [
       "   QuestionId  AcceptedAnswerUserId       AnswerCreationDate  \\\n",
       "0         5.0                  45.0  2010-07-20 19:21:52.240   \n",
       "1         1.0                   8.0  2010-07-20 19:22:20.193   \n",
       "2         8.0                  38.0  2010-07-20 19:23:54.230   \n",
       "3         2.0                  34.0  2010-07-20 19:24:52.200   \n",
       "4        20.0                  38.0  2010-07-20 19:32:21.590   \n",
       "\n",
       "                          UsersSorted  \\\n",
       "0  [45.0, 1102.0, 48.0, 226.0, 242.0]   \n",
       "1       [8.0, 49.0, 25.0, 35.0, 39.0]   \n",
       "2    [38.0, 173.0, 334.0, 53.0, 55.0]   \n",
       "3  [34.0, 56.0, 35.0, 190287.0, 72.0]   \n",
       "4    [38.0, 72.0, 232.0, 51.0, 210.0]   \n",
       "\n",
       "                                        UsersJaccard  Id  \\\n",
       "0  {48.0: 0.5714285714285714, 242.0: 0.0135135135...   5   \n",
       "1  {8.0: 0.042253521126760563, 49.0: 0.5999999999...   1   \n",
       "2  {55.0: 0.44444444444444442, 334.0: 0.078431372...   8   \n",
       "3  {56.0: 0.071428571428571425, 72.0: 0.020689655...   2   \n",
       "4  {72.0: 0.020689655172413793, 232.0: 0.00612244...  20   \n",
       "\n",
       "                                                Tags  \\\n",
       "0  [elementary-number-theory, proof-writing, radi...   \n",
       "1            [elementary-set-theory, intuition, faq]   \n",
       "2  [linear-algebra, combinatorics, generating-fun...   \n",
       "3                     [calculus, limits, definition]   \n",
       "4          [terminology, definition, number-systems]   \n",
       "\n",
       "                                               Title  \\\n",
       "0  How can you prove that the square root of two ...   \n",
       "1  What Does it Really Mean to Have Different Kin...   \n",
       "2  How are we able to calculate specific numbers ...   \n",
       "3                                   What is a Limit?   \n",
       "4  What is a real number (also rational, decimal,...   \n",
       "\n",
       "                                                Body  FavoriteCount  \\\n",
       "0  <p>I have read a few proofs that $\\sqrt{2}$ is...             14   \n",
       "1  <p>Can someone explain to me how there can be ...             32   \n",
       "2  <p>I was reading up on the Fibonacci Sequence ...              2   \n",
       "3  <p>This <em>limit</em> thing keeps coming up i...              9   \n",
       "4  <p>In mathematics there seem to be a lot of di...              7   \n",
       "\n",
       "                                           body_repr  \\\n",
       "0  [0.181873417985, 0.0157658634759, 0.0066962837...   \n",
       "1  [0.185280055029, -0.0662526086788, -0.01167842...   \n",
       "2  [0.259041389642, -0.0571826219598, -0.01241225...   \n",
       "3  [0.140413551892, -0.0444013814394, -0.00881151...   \n",
       "4  [0.140666693718, -0.128020713251, 0.0593964169...   \n",
       "\n",
       "                                          title_repr  \n",
       "0  [0.324548922376, -0.188570008952, 0.1317489262...  \n",
       "1  [0.130584251032, -0.0644506331819, -0.02289859...  \n",
       "2  [0.192912027171, -0.0712689158065, 0.006061145...  \n",
       "3  [0.246496302139, -0.170203717123, 0.0607170295...  \n",
       "4  [0.0915691937887, -0.0968005346337, 0.06135534...  "
      ]
     },
     "execution_count": 530,
     "metadata": {},
     "output_type": "execute_result"
    }
   ],
   "source": [
    "train_df.head()"
   ]
  },
  {
   "cell_type": "code",
   "execution_count": 531,
   "metadata": {
    "collapsed": true
   },
   "outputs": [],
   "source": [
    "itrain_df = train_df.copy()"
   ]
  },
  {
   "cell_type": "code",
   "execution_count": 532,
   "metadata": {
    "collapsed": true
   },
   "outputs": [],
   "source": [
    "val_df = train_df.iloc[11000:]\n",
    "train_df = train_df.iloc[:11000]"
   ]
  },
  {
   "cell_type": "code",
   "execution_count": 307,
   "metadata": {
    "collapsed": true
   },
   "outputs": [],
   "source": [
    "def get_mrr(preds, Y):\n",
    "\n",
    "    ranks = []\n",
    "    for i in range(0, preds.shape[0] ,5):\n",
    "        max_idx = np.argmax(Y[i:i+5])\n",
    "        srt = np.argsort(preds[i:i+5],)[::-1]\n",
    "        rank = np.where(srt==max_idx)[0][0] + 1\n",
    "\n",
    "        ranks.append(rank)\n",
    "\n",
    "    return np.mean(1. / np.array(ranks))"
   ]
  },
  {
   "cell_type": "code",
   "execution_count": 308,
   "metadata": {
    "collapsed": true
   },
   "outputs": [],
   "source": [
    "def get_accuracy(preds, Y):\n",
    "    pr, tr = [], []\n",
    "    for i in range(0, preds.shape[0] ,5):\n",
    "        pr.append(np.argmax(preds[i:i+5]))\n",
    "        tr.append(np.argmax(Y[i:i+5]))\n",
    "\n",
    "    pr = np.array(pr)\n",
    "    tr = np.array(tr)\n",
    "    \n",
    "    return (pr==tr).sum()* 1. / pr.shape[0] "
   ]
  },
  {
   "cell_type": "code",
   "execution_count": 309,
   "metadata": {
    "collapsed": true
   },
   "outputs": [],
   "source": [
    "def get_user_vals(users):\n",
    "    return re.findall(r'[{]*(\\d+).0', users)"
   ]
  },
  {
   "cell_type": "code",
   "execution_count": 310,
   "metadata": {
    "collapsed": true
   },
   "outputs": [],
   "source": [
    "def get_rep(row):\n",
    "    q_body = row.body_repr\n",
    "    q_title = row.title_repr\n",
    "    q_fav = row.FavoriteCount\n",
    "    \n",
    "    accepted_user = int(row.AcceptedAnswerUserId)\n",
    "\n",
    "    outputs = []\n",
    "    \n",
    "    users = get_user_vals(row.UsersSorted)\n",
    "    for u in users:\n",
    "        user = int(u)\n",
    "        op_row = None\n",
    "        \n",
    "        user_ut_comm = get_ut_comm(user)\n",
    "        user_uu_comm = get_uu_comm(user)\n",
    "        \n",
    "        if user == accepted_user:\n",
    "            op_row = np.hstack((q_body, q_title, q_fav, user_ut_comm, user_uu_comm, 1))\n",
    "        else:\n",
    "            op_row = np.hstack((q_body, q_title, q_fav, user_ut_comm, user_uu_comm, 0))\n",
    "            \n",
    "        outputs.append(op_row)\n",
    "\n",
    "    outputs = np.vstack(outputs)\n",
    "\n",
    "    return outputs"
   ]
  },
  {
   "cell_type": "code",
   "execution_count": 311,
   "metadata": {
    "collapsed": false
   },
   "outputs": [],
   "source": [
    "temp = get_rep(train_df.ix[0])"
   ]
  },
  {
   "cell_type": "code",
   "execution_count": null,
   "metadata": {
    "collapsed": true
   },
   "outputs": [],
   "source": []
  },
  {
   "cell_type": "code",
   "execution_count": 583,
   "metadata": {
    "collapsed": false
   },
   "outputs": [
    {
     "name": "stdout",
     "output_type": "stream",
     "text": [
      "................\n",
      "Begin train\n"
     ]
    }
   ],
   "source": [
    "train_ds, val_ds = [], []\n",
    "for indx, row in train_df.iterrows():\n",
    "    temp_set = get_rep(row)\n",
    "    train_ds.append(temp_set)\n",
    "\n",
    "    if indx % 1000 == 0:\n",
    "        sys.stdout.write('.')\n",
    "        sys.stdout.flush()\n",
    "\n",
    "train_ds = np.vstack(train_ds)\n",
    "\n",
    "for indx, row in val_df.iterrows():\n",
    "    temp_set = get_rep(row)\n",
    "    val_ds.append(temp_set)\n",
    "\n",
    "    if indx % 1000 == 0:\n",
    "        sys.stdout.write('.')\n",
    "        sys.stdout.flush()\n",
    "\n",
    "val_ds = np.vstack(val_ds)\n",
    "\n",
    "print '\\nBegin train'"
   ]
  },
  {
   "cell_type": "code",
   "execution_count": 332,
   "metadata": {
    "collapsed": false
   },
   "outputs": [
    {
     "name": "stdout",
     "output_type": "stream",
     "text": [
      "................\n",
      "Begin train\n"
     ]
    }
   ],
   "source": [
    "clf = LogisticRegression(n_jobs=-1)\n",
    "clf.fit(train_ds[:, :167], train_ds[:, 167])\n",
    "preds = clf.predict_proba(val_ds[:, :167])[:, 1]\n",
    "score = get_accuracy(preds, val_ds[:, 167])\n",
    "mrr = get_mrr(preds, val_ds[:, 167])"
   ]
  },
  {
   "cell_type": "code",
   "execution_count": 333,
   "metadata": {
    "collapsed": false
   },
   "outputs": [
    {
     "name": "stdout",
     "output_type": "stream",
     "text": [
      "Val scores\n",
      "0.482485404504 0.491395607451\n"
     ]
    }
   ],
   "source": [
    "print 'Val scores'\n",
    "print score, mrr"
   ]
  },
  {
   "cell_type": "code",
   "execution_count": 335,
   "metadata": {
    "collapsed": false
   },
   "outputs": [
    {
     "name": "stdout",
     "output_type": "stream",
     "text": [
      "Train scores\n",
      "0.458909090909 0.501546969697\n"
     ]
    }
   ],
   "source": [
    "preds = clf.predict_proba(train_ds[:, :167])[:, 1]\n",
    "score = get_accuracy(preds, train_ds[:, 167])\n",
    "mrr = get_mrr(preds, train_ds[:, 167])\n",
    "print 'Train scores'\n",
    "print score, mrr"
   ]
  },
  {
   "cell_type": "code",
   "execution_count": null,
   "metadata": {
    "collapsed": true
   },
   "outputs": [],
   "source": []
  },
  {
   "cell_type": "code",
   "execution_count": 584,
   "metadata": {
    "collapsed": false
   },
   "outputs": [
    {
     "name": "stdout",
     "output_type": "stream",
     "text": [
      "      Iter       Train Loss   Remaining Time \n",
      "         1           0.9913           55.43s\n",
      "         2           0.9835           52.66s\n",
      "         3           0.9770           51.08s\n",
      "         4           0.9717           51.50s\n",
      "         5           0.9672           51.07s\n",
      "         6           0.9634           50.18s\n",
      "         7           0.9603           49.71s\n",
      "         8           0.9577           48.87s\n",
      "         9           0.9554           48.36s\n",
      "        10           0.9535           47.74s\n",
      "        11           0.9518           47.21s\n",
      "        12           0.9504           46.90s\n",
      "        13           0.9492           46.29s\n",
      "        14           0.9481           45.68s\n",
      "        15           0.9462           45.03s\n",
      "        16           0.9446           44.49s\n",
      "        17           0.9432           43.92s\n",
      "        18           0.9422           43.30s\n",
      "        19           0.9414           42.60s\n",
      "        20           0.9406           41.63s\n",
      "        21           0.9400           41.17s\n",
      "        22           0.9393           40.47s\n",
      "        23           0.9388           39.66s\n",
      "        24           0.9384           38.96s\n",
      "        25           0.9379           38.34s\n",
      "        26           0.9372           37.91s\n",
      "        27           0.9367           37.30s\n",
      "        28           0.9362           36.86s\n",
      "        29           0.9358           36.27s\n",
      "        30           0.9354           35.70s\n",
      "        31           0.9350           34.96s\n",
      "        32           0.9347           34.23s\n",
      "        33           0.9344           33.55s\n",
      "        34           0.9340           33.12s\n",
      "        35           0.9337           32.54s\n",
      "        36           0.9334           31.83s\n",
      "        37           0.9331           31.33s\n",
      "        38           0.9328           30.69s\n",
      "        39           0.9326           30.09s\n",
      "        40           0.9323           29.62s\n",
      "        41           0.9319           29.14s\n",
      "        42           0.9317           28.57s\n",
      "        43           0.9314           28.06s\n",
      "        44           0.9311           27.61s\n",
      "        45           0.9308           27.03s\n",
      "        46           0.9306           26.47s\n",
      "        47           0.9303           26.00s\n",
      "        48           0.9301           25.42s\n",
      "        49           0.9298           24.95s\n",
      "        50           0.9295           24.39s\n",
      "        51           0.9293           23.85s\n",
      "        52           0.9290           23.38s\n",
      "        53           0.9288           22.86s\n",
      "        54           0.9286           22.33s\n",
      "        55           0.9283           21.77s\n",
      "        56           0.9281           21.23s\n",
      "        57           0.9279           20.68s\n",
      "        58           0.9276           20.17s\n",
      "        59           0.9274           19.69s\n",
      "        60           0.9272           19.22s\n",
      "        61           0.9271           18.68s\n",
      "        62           0.9268           18.21s\n",
      "        63           0.9266           17.69s\n",
      "        64           0.9264           17.18s\n",
      "        65           0.9262           16.69s\n",
      "        66           0.9260           16.20s\n",
      "        67           0.9259           15.70s\n",
      "        68           0.9256           15.19s\n",
      "        69           0.9253           14.73s\n",
      "        70           0.9252           14.25s\n",
      "        71           0.9250           13.74s\n",
      "        72           0.9249           13.26s\n",
      "        73           0.9247           12.77s\n",
      "        74           0.9245           12.31s\n",
      "        75           0.9244           11.81s\n",
      "        76           0.9242           11.32s\n",
      "        77           0.9241           10.82s\n",
      "        78           0.9240           10.32s\n",
      "        79           0.9237            9.83s\n",
      "        80           0.9235            9.35s\n",
      "        81           0.9233            8.87s\n",
      "        82           0.9232            8.39s\n",
      "        83           0.9229            7.91s\n",
      "        84           0.9227            7.44s\n",
      "        85           0.9226            6.96s\n",
      "        86           0.9224            6.50s\n",
      "        87           0.9223            6.03s\n",
      "        88           0.9221            5.55s\n",
      "        89           0.9220            5.08s\n",
      "        90           0.9218            4.61s\n",
      "        91           0.9217            4.14s\n",
      "        92           0.9216            3.68s\n",
      "        93           0.9215            3.22s\n",
      "        94           0.9213            2.76s\n",
      "        95           0.9212            2.29s\n",
      "        96           0.9210            1.83s\n",
      "        97           0.9209            1.37s\n",
      "        98           0.9208            0.91s\n",
      "        99           0.9207            0.46s\n",
      "       100           0.9205            0.00s\n"
     ]
    },
    {
     "data": {
      "text/plain": [
       "GradientBoostingClassifier(criterion='friedman_mse', init=None,\n",
       "              learning_rate=0.1, loss='deviance', max_depth=3,\n",
       "              max_features=None, max_leaf_nodes=None,\n",
       "              min_impurity_split=1e-07, min_samples_leaf=1,\n",
       "              min_samples_split=2, min_weight_fraction_leaf=0.0,\n",
       "              n_estimators=100, presort='auto', random_state=None,\n",
       "              subsample=1.0, verbose=3, warm_start=False)"
      ]
     },
     "execution_count": 584,
     "metadata": {},
     "output_type": "execute_result"
    }
   ],
   "source": [
    "clf = GradientBoostingClassifier(verbose=3)\n",
    "clf.fit(train_ds[:, :167], train_ds[:, 167])"
   ]
  },
  {
   "cell_type": "code",
   "execution_count": 587,
   "metadata": {
    "collapsed": false
   },
   "outputs": [
    {
     "name": "stdout",
     "output_type": "stream",
     "text": [
      "Val scores\n",
      "0.490825688073 0.487878787879\n"
     ]
    }
   ],
   "source": [
    "preds = clf.predict_proba(val_ds[:, :167])[:, 1]\n",
    "score = get_accuracy(preds, val_ds[:, 167])\n",
    "mrr = get_mrr(preds, val_ds[:, 167])\n",
    "print 'Val scores'\n",
    "print score, mrr"
   ]
  },
  {
   "cell_type": "code",
   "execution_count": 588,
   "metadata": {
    "collapsed": false
   },
   "outputs": [
    {
     "name": "stdout",
     "output_type": "stream",
     "text": [
      "Train scores\n",
      "0.518181818182 0.523974242424\n"
     ]
    }
   ],
   "source": [
    "preds = clf.predict_proba(train_ds[:, :167])[:, 1]\n",
    "score = get_accuracy(preds, train_ds[:, 167])\n",
    "mrr = get_mrr(preds, train_ds[:, 167])\n",
    "print 'Train scores'\n",
    "print score, mrr"
   ]
  },
  {
   "cell_type": "code",
   "execution_count": 314,
   "metadata": {
    "collapsed": false
   },
   "outputs": [],
   "source": [
    "# test_ds = []\n",
    "# for indx, row in test_df.iterrows():\n",
    "#     temp_set = get_rep(row)\n",
    "#     test_ds.append(temp_set)\n",
    "\n",
    "#     if indx % 1000 == 0:\n",
    "#         sys.stdout.write('.')\n",
    "#         sys.stdout.flush()\n",
    "\n",
    "# test_ds = np.vstack(test_ds)"
   ]
  },
  {
   "cell_type": "code",
   "execution_count": 315,
   "metadata": {
    "collapsed": false
   },
   "outputs": [],
   "source": [
    "# preds = clf.predict_proba(test_ds[:, :167])[:, 1]\n",
    "# print get_accuracy(preds, test_ds[:, 167])\n",
    "# print get_mrr(preds, test_ds[:, 167])"
   ]
  },
  {
   "cell_type": "code",
   "execution_count": null,
   "metadata": {
    "collapsed": true
   },
   "outputs": [],
   "source": []
  },
  {
   "cell_type": "code",
   "execution_count": 339,
   "metadata": {
    "collapsed": false
   },
   "outputs": [],
   "source": [
    "def get_rep_uu(row, ut_model, uu_model):\n",
    "    tags = row.Tags\n",
    "    tag_id = [str(int(tag2index_dict[t])) for t in tags if t in tag2index_dict]\n",
    "    w2v_idx = [ut_model.vocab[t].index for t in tag_id if t in ut_model.vocab]\n",
    "    t_vectors = ut_model.syn0[w2v_idx]\n",
    "    q = t_vectors.mean(axis=0)\n",
    "    \n",
    "    q_body = row.body_repr\n",
    "    q_title = row.title_repr\n",
    "    q_fav = row.FavoriteCount\n",
    "    \n",
    "    accepted_user = int(row.AcceptedAnswerUserId)\n",
    "\n",
    "    outputs = []\n",
    "    \n",
    "    users = get_user_vals(row.UsersSorted)\n",
    "    for u in users:\n",
    "        useri = int(u)\n",
    "        user = str(useri)\n",
    "        op_row = None\n",
    "        \n",
    "        if user in ut_model.vocab:\n",
    "            user_w2v_idx = ut_model.vocab[user].index\n",
    "            user_vector = ut_model.syn0[user_w2v_idx]\n",
    "        else:\n",
    "#             print user\n",
    "            user_vector = np.zeros(128)\n",
    "            \n",
    "        if user in uu_model.vocab:\n",
    "            user_uu_w2v_idx = uu_model.vocab[user].index\n",
    "            user_uu_vector = uu_model.syn0[user_uu_w2v_idx]\n",
    "        else:\n",
    "#             print user, users\n",
    "            user_uu_vector = np.zeros(128)\n",
    "    \n",
    "        user_ut_comm = get_ut_comm(useri)\n",
    "        user_uu_comm = get_uu_comm(useri)\n",
    "        \n",
    "        if useri == accepted_user:\n",
    "            op_row = np.hstack((q_body, q_title, q_fav, q, user_ut_comm, user_uu_comm, user_vector, user_uu_vector, 1))\n",
    "        else:\n",
    "            op_row = np.hstack((q_body, q_title, q_fav, q, user_ut_comm, user_uu_comm, user_vector, user_uu_vector, 0))\n",
    "            \n",
    "        outputs.append(op_row)\n",
    "\n",
    "    outputs = np.vstack(outputs)\n",
    "\n",
    "    return outputs"
   ]
  },
  {
   "cell_type": "code",
   "execution_count": 340,
   "metadata": {
    "collapsed": false
   },
   "outputs": [],
   "source": [
    "temp = get_rep_uu(train_df.ix[0], ut_model, uu_model)"
   ]
  },
  {
   "cell_type": "code",
   "execution_count": 534,
   "metadata": {
    "collapsed": false,
    "scrolled": true
   },
   "outputs": [
    {
     "name": "stdout",
     "output_type": "stream",
     "text": [
      "................\n",
      "Begin train\n"
     ]
    }
   ],
   "source": [
    "train_ds, val_ds = [], []\n",
    "for indx, row in train_df.iterrows():\n",
    "    temp_set = get_rep_uu(row, ut_model, uu_model)\n",
    "    train_ds.append(temp_set)\n",
    "\n",
    "    if indx % 1000 == 0:\n",
    "        sys.stdout.write('.')\n",
    "        sys.stdout.flush()\n",
    "\n",
    "train_ds = np.vstack(train_ds)\n",
    "\n",
    "for indx, row in val_df.iterrows():\n",
    "    temp_set = get_rep_uu(row, ut_model, uu_model)\n",
    "    val_ds.append(temp_set)\n",
    "\n",
    "    if indx % 1000 == 0:\n",
    "        sys.stdout.write('.')\n",
    "        sys.stdout.flush()\n",
    "\n",
    "val_ds = np.vstack(val_ds)\n",
    "\n",
    "print '\\nBegin train'\n",
    "max_c = train_ds.shape[1]-1"
   ]
  },
  {
   "cell_type": "code",
   "execution_count": 539,
   "metadata": {
    "collapsed": false
   },
   "outputs": [
    {
     "name": "stdout",
     "output_type": "stream",
     "text": [
      "................"
     ]
    }
   ],
   "source": [
    "itrain_ds = []\n",
    "\n",
    "for indx, row in itrain_df.iterrows():\n",
    "    temp_set = get_rep_uu(row, ut_model, uu_model)\n",
    "    itrain_ds.append(temp_set)\n",
    "\n",
    "    if indx % 1000 == 0:\n",
    "        sys.stdout.write('.')\n",
    "        sys.stdout.flush()\n",
    "\n",
    "itrain_ds = np.vstack(itrain_ds)"
   ]
  },
  {
   "cell_type": "code",
   "execution_count": 535,
   "metadata": {
    "collapsed": false
   },
   "outputs": [],
   "source": [
    "clf = LogisticRegression(n_jobs=-1)\n",
    "clf.fit(train_ds[:, :max_c], train_ds[:, max_c])\n",
    "preds = clf.predict_proba(val_ds[:, :max_c])[:, 1]\n",
    "score = get_accuracy(preds, val_ds[:, max_c])\n",
    "mrr = get_mrr(preds, val_ds[:, max_c])"
   ]
  },
  {
   "cell_type": "code",
   "execution_count": 536,
   "metadata": {
    "collapsed": false
   },
   "outputs": [
    {
     "name": "stdout",
     "output_type": "stream",
     "text": [
      "Val scores\n",
      "0.396163469558 0.630904225744\n"
     ]
    }
   ],
   "source": [
    "print 'Val scores'\n",
    "print score, mrr"
   ]
  },
  {
   "cell_type": "code",
   "execution_count": 537,
   "metadata": {
    "collapsed": false
   },
   "outputs": [
    {
     "name": "stdout",
     "output_type": "stream",
     "text": [
      "Train scores\n",
      "0.436909090909 0.658624242424\n"
     ]
    }
   ],
   "source": [
    "preds = clf.predict_proba(train_ds[:, :max_c])[:, 1]\n",
    "score = get_accuracy(preds, train_ds[:, max_c])\n",
    "mrr = get_mrr(preds, train_ds[:, max_c])\n",
    "print 'Train scores'\n",
    "print score, mrr"
   ]
  },
  {
   "cell_type": "code",
   "execution_count": 538,
   "metadata": {
    "collapsed": false
   },
   "outputs": [
    {
     "name": "stdout",
     "output_type": "stream",
     "text": [
      "....."
     ]
    }
   ],
   "source": [
    "test_ds = []\n",
    "for indx, row in test_df.iterrows():\n",
    "    temp_set = get_rep_uu(row, ut_model, uu_model)\n",
    "    test_ds.append(temp_set)\n",
    "\n",
    "    if indx % 1000 == 0:\n",
    "        sys.stdout.write('.')\n",
    "        sys.stdout.flush()\n",
    "\n",
    "test_ds = np.vstack(test_ds)\n",
    "\n",
    "# preds = clf.predict_proba(test_ds[:, :max_c])[:, 1]\n",
    "# print get_accuracy(preds, test_ds[:, max_c])\n",
    "# print get_mrr(preds, test_ds[:, max_c])"
   ]
  },
  {
   "cell_type": "code",
   "execution_count": null,
   "metadata": {
    "collapsed": true
   },
   "outputs": [],
   "source": []
  },
  {
   "cell_type": "code",
   "execution_count": 346,
   "metadata": {
    "collapsed": false
   },
   "outputs": [
    {
     "data": {
      "text/plain": [
       "551"
      ]
     },
     "execution_count": 346,
     "metadata": {},
     "output_type": "execute_result"
    }
   ],
   "source": [
    "max_c"
   ]
  },
  {
   "cell_type": "markdown",
   "metadata": {},
   "source": [
    "## RF"
   ]
  },
  {
   "cell_type": "code",
   "execution_count": 367,
   "metadata": {
    "collapsed": false
   },
   "outputs": [
    {
     "name": "stderr",
     "output_type": "stream",
     "text": [
      "[Parallel(n_jobs=-1)]: Done  20 out of  20 | elapsed:    3.4s finished\n"
     ]
    },
    {
     "name": "stdout",
     "output_type": "stream",
     "text": [
      "Val\n",
      "0.398040033361\n"
     ]
    },
    {
     "name": "stderr",
     "output_type": "stream",
     "text": [
      "[Parallel(n_jobs=8)]: Done  20 out of  20 | elapsed:    0.0s finished\n"
     ]
    },
    {
     "name": "stdout",
     "output_type": "stream",
     "text": [
      "0.630490686683\n",
      "Train\n"
     ]
    },
    {
     "name": "stderr",
     "output_type": "stream",
     "text": [
      "[Parallel(n_jobs=8)]: Done  20 out of  20 | elapsed:    0.1s finished\n"
     ]
    },
    {
     "name": "stdout",
     "output_type": "stream",
     "text": [
      "0.583181818182\n",
      "0.760683333333\n",
      "Test\n",
      "0.448625180897\n",
      "0.672977970735\n"
     ]
    },
    {
     "name": "stderr",
     "output_type": "stream",
     "text": [
      "[Parallel(n_jobs=8)]: Done  20 out of  20 | elapsed:    0.0s finished\n"
     ]
    }
   ],
   "source": [
    "clf = RandomForestClassifier(n_jobs=-1, n_estimators=20, max_depth=10, oob_score=True, verbose=1)\n",
    "clf.fit(train_ds[:, :max_c], train_ds[:, max_c])\n",
    "\n",
    "print 'Val'\n",
    "preds = clf.predict_proba(val_ds[:, :max_c])[:, 1]\n",
    "print get_accuracy(preds, val_ds[:, max_c])\n",
    "print get_mrr(preds, val_ds[:, max_c])\n",
    "\n",
    "print 'Train'\n",
    "preds = clf.predict_proba(train_ds[:, :max_c])[:, 1]\n",
    "print get_accuracy(preds, train_ds[:, max_c])\n",
    "print get_mrr(preds, train_ds[:, max_c])\n",
    "\n",
    "print 'Test'\n",
    "preds = clf.predict_proba(test_ds[:, :max_c])[:, 1]\n",
    "print get_accuracy(preds, test_ds[:, max_c])\n",
    "print get_mrr(preds, test_ds[:, max_c])"
   ]
  },
  {
   "cell_type": "code",
   "execution_count": null,
   "metadata": {
    "collapsed": true
   },
   "outputs": [],
   "source": []
  },
  {
   "cell_type": "markdown",
   "metadata": {},
   "source": [
    "## GBT"
   ]
  },
  {
   "cell_type": "code",
   "execution_count": null,
   "metadata": {
    "collapsed": true
   },
   "outputs": [],
   "source": []
  },
  {
   "cell_type": "code",
   "execution_count": 368,
   "metadata": {
    "collapsed": false,
    "scrolled": false
   },
   "outputs": [
    {
     "name": "stdout",
     "output_type": "stream",
     "text": [
      "      Iter       Train Loss   Remaining Time \n",
      "         1           0.9853            4.37m\n",
      "         2           0.9723            4.35m\n",
      "         3           0.9607            4.27m\n",
      "         4           0.9513            4.19m\n",
      "         5           0.9427            4.16m\n",
      "         6           0.9354            4.11m\n",
      "         7           0.9288            4.12m\n",
      "         8           0.9230            4.08m\n",
      "         9           0.9182            4.02m\n",
      "        10           0.9136            3.99m\n",
      "        11           0.9096            3.94m\n",
      "        12           0.9063            3.90m\n",
      "        13           0.9030            3.86m\n",
      "        14           0.9001            3.81m\n",
      "        15           0.8974            3.76m\n",
      "        16           0.8949            3.70m\n",
      "        17           0.8926            3.65m\n",
      "        18           0.8906            3.60m\n",
      "        19           0.8887            3.56m\n",
      "        20           0.8868            3.52m\n",
      "        21           0.8851            3.47m\n",
      "        22           0.8833            3.43m\n",
      "        23           0.8817            3.38m\n",
      "        24           0.8803            3.33m\n",
      "        25           0.8789            3.29m\n",
      "        26           0.8776            3.24m\n",
      "        27           0.8765            3.20m\n",
      "        28           0.8753            3.15m\n",
      "        29           0.8741            3.10m\n",
      "        30           0.8730            3.06m\n",
      "        31           0.8717            3.00m\n",
      "        32           0.8707            2.96m\n",
      "        33           0.8697            2.91m\n",
      "        34           0.8687            2.86m\n",
      "        35           0.8679            2.82m\n",
      "        36           0.8671            2.77m\n",
      "        37           0.8663            2.73m\n",
      "        38           0.8655            2.68m\n",
      "        39           0.8647            2.64m\n",
      "        40           0.8640            2.59m\n",
      "        41           0.8630            2.55m\n",
      "        42           0.8623            2.50m\n",
      "        43           0.8618            2.45m\n",
      "        44           0.8613            2.41m\n",
      "        45           0.8607            2.36m\n",
      "        46           0.8599            2.32m\n",
      "        47           0.8592            2.27m\n",
      "        48           0.8585            2.23m\n",
      "        49           0.8579            2.19m\n",
      "        50           0.8573            2.14m\n",
      "        51           0.8566            2.10m\n",
      "        52           0.8561            2.06m\n",
      "        53           0.8556            2.01m\n",
      "        54           0.8551            1.97m\n",
      "        55           0.8546            1.92m\n",
      "        56           0.8540            1.88m\n",
      "        57           0.8535            1.84m\n",
      "        58           0.8529            1.79m\n",
      "        59           0.8524            1.75m\n",
      "        60           0.8518            1.71m\n",
      "        61           0.8514            1.67m\n",
      "        62           0.8509            1.62m\n",
      "        63           0.8504            1.58m\n",
      "        64           0.8499            1.54m\n",
      "        65           0.8494            1.49m\n",
      "        66           0.8490            1.45m\n",
      "        67           0.8486            1.41m\n",
      "        68           0.8481            1.36m\n",
      "        69           0.8477            1.32m\n",
      "        70           0.8472            1.28m\n",
      "        71           0.8467            1.23m\n",
      "        72           0.8463            1.19m\n",
      "        73           0.8459            1.15m\n",
      "        74           0.8455            1.10m\n",
      "        75           0.8451            1.06m\n",
      "        76           0.8447            1.02m\n",
      "        77           0.8442           58.53s\n",
      "        78           0.8438           55.95s\n",
      "        79           0.8435           53.41s\n",
      "        80           0.8431           50.86s\n",
      "        81           0.8426           48.29s\n",
      "        82           0.8422           45.74s\n",
      "        83           0.8418           43.20s\n",
      "        84           0.8414           40.65s\n",
      "        85           0.8408           38.12s\n",
      "        86           0.8404           35.57s\n",
      "        87           0.8401           33.03s\n",
      "        88           0.8397           30.48s\n",
      "        89           0.8394           27.93s\n",
      "        90           0.8390           25.38s\n",
      "        91           0.8386           22.83s\n",
      "        92           0.8381           20.30s\n",
      "        93           0.8377           17.77s\n",
      "        94           0.8373           15.24s\n",
      "        95           0.8370           12.69s\n",
      "        96           0.8366           10.16s\n",
      "        97           0.8363            7.61s\n",
      "        98           0.8359            5.08s\n",
      "        99           0.8355            2.54s\n",
      "       100           0.8352            0.00s\n",
      "Val\n",
      "0.405129274395\n",
      "0.635724214623\n",
      "Train\n",
      "0.476181818182\n",
      "0.685684848485\n",
      "Test\n",
      "0.451519536903\n",
      "0.671213217559\n"
     ]
    }
   ],
   "source": [
    "clf = GradientBoostingClassifier(verbose=3)\n",
    "clf.fit(train_ds[:, :max_c], train_ds[:, max_c])\n",
    "\n",
    "print 'Val'\n",
    "preds = clf.predict_proba(val_ds[:, :max_c])[:, 1]\n",
    "print get_accuracy(preds, val_ds[:, max_c])\n",
    "print get_mrr(preds, val_ds[:, max_c])\n",
    "\n",
    "print 'Train'\n",
    "preds = clf.predict_proba(train_ds[:, :max_c])[:, 1]\n",
    "print get_accuracy(preds, train_ds[:, max_c])\n",
    "print get_mrr(preds, train_ds[:, max_c])\n",
    "\n",
    "print 'Test'\n",
    "preds = clf.predict_proba(test_ds[:, :max_c])[:, 1]\n",
    "print get_accuracy(preds, test_ds[:, max_c])\n",
    "print get_mrr(preds, test_ds[:, max_c])"
   ]
  },
  {
   "cell_type": "code",
   "execution_count": null,
   "metadata": {
    "collapsed": true
   },
   "outputs": [],
   "source": []
  },
  {
   "cell_type": "code",
   "execution_count": 540,
   "metadata": {
    "collapsed": false
   },
   "outputs": [
    {
     "name": "stdout",
     "output_type": "stream",
     "text": [
      "      Iter       Train Loss   Remaining Time \n",
      "         1           0.9852            6.32m\n",
      "         2           0.9721            6.18m\n",
      "         3           0.9612            6.06m\n",
      "         4           0.9517            5.99m\n",
      "         5           0.9437            5.86m\n",
      "         6           0.9364            5.84m\n",
      "         7           0.9303            5.78m\n",
      "         8           0.9249            5.75m\n",
      "         9           0.9199            5.72m\n",
      "        10           0.9156            5.70m\n",
      "        11           0.9116            5.65m\n",
      "        12           0.9083            5.58m\n",
      "        13           0.9051            5.50m\n",
      "        14           0.9021            5.45m\n",
      "        15           0.8997            5.40m\n",
      "        16           0.8974            5.33m\n",
      "        17           0.8952            5.24m\n",
      "        18           0.8930            5.16m\n",
      "        19           0.8910            5.11m\n",
      "        20           0.8892            5.06m\n",
      "        21           0.8874            5.00m\n",
      "        22           0.8860            4.92m\n",
      "        23           0.8847            4.86m\n",
      "        24           0.8834            4.80m\n",
      "        25           0.8821            4.75m\n",
      "        26           0.8809            4.69m\n",
      "        27           0.8797            4.62m\n",
      "        28           0.8786            4.56m\n",
      "        29           0.8777            4.50m\n",
      "        30           0.8768            4.44m\n",
      "        31           0.8759            4.38m\n",
      "        32           0.8750            4.32m\n",
      "        33           0.8741            4.25m\n",
      "        34           0.8733            4.19m\n",
      "        35           0.8723            4.12m\n",
      "        36           0.8715            4.05m\n",
      "        37           0.8709            3.99m\n",
      "        38           0.8702            3.92m\n",
      "        39           0.8695            3.86m\n",
      "        40           0.8687            3.80m\n",
      "        41           0.8678            3.74m\n",
      "        42           0.8671            3.67m\n",
      "        43           0.8664            3.62m\n",
      "        44           0.8657            3.55m\n",
      "        45           0.8650            3.49m\n",
      "        46           0.8645            3.42m\n",
      "        47           0.8639            3.36m\n",
      "        48           0.8631            3.30m\n",
      "        49           0.8625            3.24m\n",
      "        50           0.8620            3.17m\n",
      "        51           0.8616            3.11m\n",
      "        52           0.8610            3.04m\n",
      "        53           0.8605            2.98m\n",
      "        54           0.8600            2.92m\n",
      "        55           0.8595            2.86m\n",
      "        56           0.8590            2.79m\n",
      "        57           0.8585            2.73m\n",
      "        58           0.8581            2.67m\n",
      "        59           0.8577            2.60m\n",
      "        60           0.8573            2.54m\n",
      "        61           0.8568            2.47m\n",
      "        62           0.8564            2.41m\n",
      "        63           0.8559            2.35m\n",
      "        64           0.8555            2.28m\n",
      "        65           0.8550            2.22m\n",
      "        66           0.8547            2.15m\n",
      "        67           0.8543            2.09m\n",
      "        68           0.8538            2.03m\n",
      "        69           0.8535            1.96m\n",
      "        70           0.8530            1.90m\n",
      "        71           0.8525            1.84m\n",
      "        72           0.8521            1.77m\n",
      "        73           0.8517            1.71m\n",
      "        74           0.8513            1.65m\n",
      "        75           0.8509            1.58m\n",
      "        76           0.8505            1.52m\n",
      "        77           0.8501            1.46m\n",
      "        78           0.8497            1.39m\n",
      "        79           0.8492            1.33m\n",
      "        80           0.8489            1.26m\n",
      "        81           0.8484            1.20m\n",
      "        82           0.8481            1.14m\n",
      "        83           0.8478            1.07m\n",
      "        84           0.8474            1.01m\n",
      "        85           0.8471           56.87s\n",
      "        86           0.8467           53.07s\n",
      "        87           0.8464           49.29s\n",
      "        88           0.8461           45.50s\n",
      "        89           0.8457           41.72s\n",
      "        90           0.8453           37.92s\n",
      "        91           0.8450           34.13s\n",
      "        92           0.8446           30.32s\n",
      "        93           0.8442           26.53s\n",
      "        94           0.8439           22.73s\n",
      "        95           0.8436           18.94s\n",
      "        96           0.8432           15.15s\n",
      "        97           0.8429           11.37s\n",
      "        98           0.8426            7.57s\n",
      "        99           0.8422            3.79s\n",
      "       100           0.8419            0.00s\n"
     ]
    },
    {
     "data": {
      "text/plain": [
       "GradientBoostingClassifier(criterion='friedman_mse', init=None,\n",
       "              learning_rate=0.1, loss='deviance', max_depth=3,\n",
       "              max_features=None, max_leaf_nodes=None,\n",
       "              min_impurity_split=1e-07, min_samples_leaf=1,\n",
       "              min_samples_split=2, min_weight_fraction_leaf=0.0,\n",
       "              n_estimators=100, presort='auto', random_state=None,\n",
       "              subsample=1.0, verbose=3, warm_start=False)"
      ]
     },
     "execution_count": 540,
     "metadata": {},
     "output_type": "execute_result"
    }
   ],
   "source": [
    "clf = GradientBoostingClassifier(verbose=3)\n",
    "clf.fit(itrain_ds[:, :max_c], itrain_ds[:, max_c])"
   ]
  },
  {
   "cell_type": "code",
   "execution_count": 542,
   "metadata": {
    "collapsed": false
   },
   "outputs": [
    {
     "name": "stdout",
     "output_type": "stream",
     "text": [
      "Test\n",
      "0.480704293295\n",
      "0.689922013185\n"
     ]
    }
   ],
   "source": [
    "print 'Test'\n",
    "preds = clf.predict_proba(test_ds[:, :max_c])[:, 1]\n",
    "print get_accuracy(preds, test_ds[:, max_c])\n",
    "print get_mrr(preds, test_ds[:, max_c])"
   ]
  },
  {
   "cell_type": "code",
   "execution_count": null,
   "metadata": {
    "collapsed": true
   },
   "outputs": [],
   "source": []
  },
  {
   "cell_type": "code",
   "execution_count": 577,
   "metadata": {
    "collapsed": true
   },
   "outputs": [],
   "source": [
    "# sns.set()\n",
    "\n",
    "# 1993+1130\n",
    "\n",
    "# 626+287+110\n",
    "\n",
    "# 3123/4126."
   ]
  },
  {
   "cell_type": "code",
   "execution_count": 543,
   "metadata": {
    "collapsed": true
   },
   "outputs": [],
   "source": [
    "def get_ranks(preds, Y):\n",
    "\n",
    "    ranks = []\n",
    "    for i in range(0, preds.shape[0] ,5):\n",
    "        max_idx = np.argmax(Y[i:i+5])\n",
    "        srt = np.argsort(preds[i:i+5],)[::-1]\n",
    "        rank = np.where(srt==max_idx)[0][0] + 1\n",
    "\n",
    "        ranks.append(rank)\n",
    "        \n",
    "    return ranks\n",
    "\n",
    "ranks = np.array(get_ranks(preds, test_ds[:, max_c]))\n",
    "\n",
    "plt.hist(ranks)\n",
    "# plt.title('Rank distribution for test set')"
   ]
  },
  {
   "cell_type": "code",
   "execution_count": 546,
   "metadata": {
    "collapsed": true
   },
   "outputs": [],
   "source": [
    "good_questn = np.nonzero(ranks < 3)\n",
    "\n",
    "bad_questn = np.nonzero(ranks > 3)\n",
    "\n",
    "# test_df.iloc[bad_questn]\n",
    "\n",
    "bad_questn_tags = test_df.iloc[bad_questn].Tags.values\n",
    "\n",
    "tag_cnts = Counter(itertools.chain.from_iterable(bad_questn_tags))\n",
    "\n",
    "with open('data_temp/tag_clusters.pkl', 'rb') as f:\n",
    "    tag_clusters = pickle.load(f)\n",
    "\n",
    "tag_comm_size = {l:len(v) for k,v in tag_clusters.items() for l in v}\n",
    "\n",
    "tag_comm_size.get('3d', -1)\n",
    "\n",
    "cnt, size = zip(*[(v, tag_comm_size.get(k, -1)) for k, v in tag_cnts.items()])\n",
    "\n",
    "plt.scatter(cnt, size)"
   ]
  },
  {
   "cell_type": "code",
   "execution_count": null,
   "metadata": {
    "collapsed": true
   },
   "outputs": [],
   "source": []
  },
  {
   "cell_type": "code",
   "execution_count": 600,
   "metadata": {
    "collapsed": false
   },
   "outputs": [
    {
     "data": {
      "text/plain": [
       "<matplotlib.text.Text at 0x2b3849510>"
      ]
     },
     "execution_count": 600,
     "metadata": {},
     "output_type": "execute_result"
    },
    {
     "data": {
      "image/png": "[encoded data removed]",
      "text/plain": [
       "<matplotlib.figure.Figure at 0x2a9909a90>"
      ]
     },
     "metadata": {},
     "output_type": "display_data"
    }
   ],
   "source": [
    "degrees = defaultdict(int)\n",
    "with open('data_created/graphs/user-tag.txt', 'r') as fl:\n",
    "    for line in fl.readlines():\n",
    "        n1, n2 = line.split('\\t')\n",
    "        degrees[float(n1)] += 1\n",
    "        degrees[float(n2)] += 1\n",
    "\n",
    "\n",
    "\n",
    "cnt_degrees = [(v, degrees[tag2index_dict[k]]) for k, v in tag_cnts.items() if k in tag2index_dict]\n",
    "\n",
    "cnt_degrees_rel = filter(lambda x: x[0] > 3, cnt_degrees)\n",
    "cnt, degree = zip(*cnt_degrees_rel)\n",
    "\n",
    "slope, c = np.polyfit(cnt, degree, 1)\n",
    "yfit = np.array(cnt) * slope + c\n",
    "\n",
    "plt.plot(cnt, yfit, c='r')\n",
    "plt.scatter(cnt, degree)\n",
    "\n",
    "\n",
    "# plt.title('Tag count vs. Degree')\n",
    "plt.ylabel('Degree')\n",
    "plt.xlabel('# times tag occurs in bad performance questions')"
   ]
  },
  {
   "cell_type": "code",
   "execution_count": null,
   "metadata": {
    "collapsed": false
   },
   "outputs": [],
   "source": []
  },
  {
   "cell_type": "code",
   "execution_count": null,
   "metadata": {
    "collapsed": true
   },
   "outputs": [],
   "source": []
  },
  {
   "cell_type": "code",
   "execution_count": null,
   "metadata": {
    "collapsed": true
   },
   "outputs": [],
   "source": []
  },
  {
   "cell_type": "code",
   "execution_count": 602,
   "metadata": {
    "collapsed": true
   },
   "outputs": [],
   "source": [
    "bad_q_acc_users = test_df.iloc[bad_questn]['AcceptedAnswerUserId'].values\n",
    "\n",
    "good_q_acc_users = test_df.iloc[good_questn]['AcceptedAnswerUserId'].values"
   ]
  },
  {
   "cell_type": "code",
   "execution_count": 604,
   "metadata": {
    "collapsed": false
   },
   "outputs": [
    {
     "data": {
      "text/plain": [
       "<matplotlib.axes._subplots.AxesSubplot at 0x2045e1750>"
      ]
     },
     "execution_count": 604,
     "metadata": {},
     "output_type": "execute_result"
    },
    {
     "data": {
      "image/png": "[encoded data removed]",
      "text/plain": [
       "<matplotlib.figure.Figure at 0x1e0d512d0>"
      ]
     },
     "metadata": {},
     "output_type": "display_data"
    }
   ],
   "source": [
    "sns.boxplot(x=[degrees[u] for u in good_q_acc_users])"
   ]
  },
  {
   "cell_type": "code",
   "execution_count": 603,
   "metadata": {
    "collapsed": false
   },
   "outputs": [
    {
     "data": {
      "text/plain": [
       "<matplotlib.axes._subplots.AxesSubplot at 0x1fd187d90>"
      ]
     },
     "execution_count": 603,
     "metadata": {},
     "output_type": "execute_result"
    },
    {
     "data": {
      "image/png": "[encoded data removed]",
      "text/plain": [
       "<matplotlib.figure.Figure at 0x2b7e12410>"
      ]
     },
     "metadata": {},
     "output_type": "display_data"
    }
   ],
   "source": [
    "sns.boxplot(x=[degrees[u] for u in bad_q_acc_users])"
   ]
  },
  {
   "cell_type": "code",
   "execution_count": null,
   "metadata": {
    "collapsed": true
   },
   "outputs": [],
   "source": []
  },
  {
   "cell_type": "code",
   "execution_count": null,
   "metadata": {
    "collapsed": true
   },
   "outputs": [],
   "source": []
  },
  {
   "cell_type": "code",
   "execution_count": null,
   "metadata": {
    "collapsed": true
   },
   "outputs": [],
   "source": []
  },
  {
   "cell_type": "code",
   "execution_count": null,
   "metadata": {
    "collapsed": true
   },
   "outputs": [],
   "source": []
  }
 ],
 "metadata": {
  "kernelspec": {
   "display_name": "Python 2",
   "language": "python",
   "name": "python2"
  },
  "language_info": {
   "codemirror_mode": {
    "name": "ipython",
    "version": 2
   },
   "file_extension": ".py",
   "mimetype": "text/x-python",
   "name": "python",
   "nbconvert_exporter": "python",
   "pygments_lexer": "ipython2",
   "version": "2.7.12"
  }
 },
 "nbformat": 4,
 "nbformat_minor": 0
}
